{
 "cells": [
  {
   "cell_type": "code",
   "execution_count": 1,
   "metadata": {},
   "outputs": [],
   "source": [
    "import pandas as pd\n",
    "import matplotlib.pyplot as plt\n",
    "import numpy as np\n",
    "%matplotlib inline"
   ]
  },
  {
   "cell_type": "code",
   "execution_count": 2,
   "metadata": {},
   "outputs": [
    {
     "data": {
      "text/html": [
       "<div>\n",
       "<style scoped>\n",
       "    .dataframe tbody tr th:only-of-type {\n",
       "        vertical-align: middle;\n",
       "    }\n",
       "\n",
       "    .dataframe tbody tr th {\n",
       "        vertical-align: top;\n",
       "    }\n",
       "\n",
       "    .dataframe thead th {\n",
       "        text-align: right;\n",
       "    }\n",
       "</style>\n",
       "<table border=\"1\" class=\"dataframe\">\n",
       "  <thead>\n",
       "    <tr style=\"text-align: right;\">\n",
       "      <th></th>\n",
       "      <th>DATE</th>\n",
       "      <th>SP500</th>\n",
       "      <th>NASDAQ.AAL</th>\n",
       "      <th>NASDAQ.AAPL</th>\n",
       "      <th>NASDAQ.ADBE</th>\n",
       "      <th>NASDAQ.ADI</th>\n",
       "      <th>NASDAQ.ADP</th>\n",
       "      <th>NASDAQ.ADSK</th>\n",
       "      <th>NASDAQ.AKAM</th>\n",
       "      <th>NASDAQ.ALXN</th>\n",
       "      <th>...</th>\n",
       "      <th>NYSE.WYN</th>\n",
       "      <th>NYSE.XEC</th>\n",
       "      <th>NYSE.XEL</th>\n",
       "      <th>NYSE.XL</th>\n",
       "      <th>NYSE.XOM</th>\n",
       "      <th>NYSE.XRX</th>\n",
       "      <th>NYSE.XYL</th>\n",
       "      <th>NYSE.YUM</th>\n",
       "      <th>NYSE.ZBH</th>\n",
       "      <th>NYSE.ZTS</th>\n",
       "    </tr>\n",
       "  </thead>\n",
       "  <tbody>\n",
       "    <tr>\n",
       "      <th>0</th>\n",
       "      <td>1491226200</td>\n",
       "      <td>2363.6101</td>\n",
       "      <td>42.3300</td>\n",
       "      <td>143.6800</td>\n",
       "      <td>129.6300</td>\n",
       "      <td>82.040</td>\n",
       "      <td>102.2300</td>\n",
       "      <td>85.2200</td>\n",
       "      <td>59.760</td>\n",
       "      <td>121.52</td>\n",
       "      <td>...</td>\n",
       "      <td>84.370</td>\n",
       "      <td>119.035</td>\n",
       "      <td>44.40</td>\n",
       "      <td>39.88</td>\n",
       "      <td>82.03</td>\n",
       "      <td>7.36</td>\n",
       "      <td>50.22</td>\n",
       "      <td>63.86</td>\n",
       "      <td>122.000</td>\n",
       "      <td>53.350</td>\n",
       "    </tr>\n",
       "    <tr>\n",
       "      <th>1</th>\n",
       "      <td>1491226260</td>\n",
       "      <td>2364.1001</td>\n",
       "      <td>42.3600</td>\n",
       "      <td>143.7000</td>\n",
       "      <td>130.3200</td>\n",
       "      <td>82.080</td>\n",
       "      <td>102.1400</td>\n",
       "      <td>85.6500</td>\n",
       "      <td>59.840</td>\n",
       "      <td>121.48</td>\n",
       "      <td>...</td>\n",
       "      <td>84.370</td>\n",
       "      <td>119.035</td>\n",
       "      <td>44.11</td>\n",
       "      <td>39.88</td>\n",
       "      <td>82.03</td>\n",
       "      <td>7.38</td>\n",
       "      <td>50.22</td>\n",
       "      <td>63.74</td>\n",
       "      <td>121.770</td>\n",
       "      <td>53.350</td>\n",
       "    </tr>\n",
       "    <tr>\n",
       "      <th>2</th>\n",
       "      <td>1491226320</td>\n",
       "      <td>2362.6799</td>\n",
       "      <td>42.3100</td>\n",
       "      <td>143.6901</td>\n",
       "      <td>130.2250</td>\n",
       "      <td>82.030</td>\n",
       "      <td>102.2125</td>\n",
       "      <td>85.5100</td>\n",
       "      <td>59.795</td>\n",
       "      <td>121.93</td>\n",
       "      <td>...</td>\n",
       "      <td>84.585</td>\n",
       "      <td>119.260</td>\n",
       "      <td>44.09</td>\n",
       "      <td>39.98</td>\n",
       "      <td>82.02</td>\n",
       "      <td>7.36</td>\n",
       "      <td>50.12</td>\n",
       "      <td>63.75</td>\n",
       "      <td>121.700</td>\n",
       "      <td>53.365</td>\n",
       "    </tr>\n",
       "    <tr>\n",
       "      <th>3</th>\n",
       "      <td>1491226380</td>\n",
       "      <td>2364.3101</td>\n",
       "      <td>42.3700</td>\n",
       "      <td>143.6400</td>\n",
       "      <td>130.0729</td>\n",
       "      <td>82.000</td>\n",
       "      <td>102.1400</td>\n",
       "      <td>85.4872</td>\n",
       "      <td>59.620</td>\n",
       "      <td>121.44</td>\n",
       "      <td>...</td>\n",
       "      <td>84.460</td>\n",
       "      <td>119.260</td>\n",
       "      <td>44.25</td>\n",
       "      <td>39.99</td>\n",
       "      <td>82.02</td>\n",
       "      <td>7.35</td>\n",
       "      <td>50.16</td>\n",
       "      <td>63.88</td>\n",
       "      <td>121.700</td>\n",
       "      <td>53.380</td>\n",
       "    </tr>\n",
       "    <tr>\n",
       "      <th>4</th>\n",
       "      <td>1491226440</td>\n",
       "      <td>2364.8501</td>\n",
       "      <td>42.5378</td>\n",
       "      <td>143.6600</td>\n",
       "      <td>129.8800</td>\n",
       "      <td>82.035</td>\n",
       "      <td>102.0600</td>\n",
       "      <td>85.7001</td>\n",
       "      <td>59.620</td>\n",
       "      <td>121.60</td>\n",
       "      <td>...</td>\n",
       "      <td>84.470</td>\n",
       "      <td>119.610</td>\n",
       "      <td>44.11</td>\n",
       "      <td>39.96</td>\n",
       "      <td>82.03</td>\n",
       "      <td>7.36</td>\n",
       "      <td>50.20</td>\n",
       "      <td>63.91</td>\n",
       "      <td>121.695</td>\n",
       "      <td>53.240</td>\n",
       "    </tr>\n",
       "  </tbody>\n",
       "</table>\n",
       "<p>5 rows × 502 columns</p>\n",
       "</div>"
      ],
      "text/plain": [
       "         DATE      SP500  NASDAQ.AAL  NASDAQ.AAPL  NASDAQ.ADBE  NASDAQ.ADI  \\\n",
       "0  1491226200  2363.6101     42.3300     143.6800     129.6300      82.040   \n",
       "1  1491226260  2364.1001     42.3600     143.7000     130.3200      82.080   \n",
       "2  1491226320  2362.6799     42.3100     143.6901     130.2250      82.030   \n",
       "3  1491226380  2364.3101     42.3700     143.6400     130.0729      82.000   \n",
       "4  1491226440  2364.8501     42.5378     143.6600     129.8800      82.035   \n",
       "\n",
       "   NASDAQ.ADP  NASDAQ.ADSK  NASDAQ.AKAM  NASDAQ.ALXN  ...  NYSE.WYN  NYSE.XEC  \\\n",
       "0    102.2300      85.2200       59.760       121.52  ...    84.370   119.035   \n",
       "1    102.1400      85.6500       59.840       121.48  ...    84.370   119.035   \n",
       "2    102.2125      85.5100       59.795       121.93  ...    84.585   119.260   \n",
       "3    102.1400      85.4872       59.620       121.44  ...    84.460   119.260   \n",
       "4    102.0600      85.7001       59.620       121.60  ...    84.470   119.610   \n",
       "\n",
       "   NYSE.XEL  NYSE.XL  NYSE.XOM  NYSE.XRX  NYSE.XYL  NYSE.YUM  NYSE.ZBH  \\\n",
       "0     44.40    39.88     82.03      7.36     50.22     63.86   122.000   \n",
       "1     44.11    39.88     82.03      7.38     50.22     63.74   121.770   \n",
       "2     44.09    39.98     82.02      7.36     50.12     63.75   121.700   \n",
       "3     44.25    39.99     82.02      7.35     50.16     63.88   121.700   \n",
       "4     44.11    39.96     82.03      7.36     50.20     63.91   121.695   \n",
       "\n",
       "   NYSE.ZTS  \n",
       "0    53.350  \n",
       "1    53.350  \n",
       "2    53.365  \n",
       "3    53.380  \n",
       "4    53.240  \n",
       "\n",
       "[5 rows x 502 columns]"
      ]
     },
     "execution_count": 2,
     "metadata": {},
     "output_type": "execute_result"
    }
   ],
   "source": [
    "data = pd.read_csv('data_stocks.csv')\n",
    "data.head()"
   ]
  },
  {
   "cell_type": "code",
   "execution_count": 3,
   "metadata": {},
   "outputs": [
    {
     "data": {
      "text/plain": [
       "(41266, 502)"
      ]
     },
     "execution_count": 3,
     "metadata": {},
     "output_type": "execute_result"
    }
   ],
   "source": [
    "data.shape"
   ]
  },
  {
   "cell_type": "code",
   "execution_count": 4,
   "metadata": {},
   "outputs": [
    {
     "name": "stdout",
     "output_type": "stream",
     "text": [
      "<class 'pandas.core.frame.DataFrame'>\n",
      "RangeIndex: 41266 entries, 0 to 41265\n",
      "Columns: 502 entries, DATE to NYSE.ZTS\n",
      "dtypes: float64(501), int64(1)\n",
      "memory usage: 158.0 MB\n"
     ]
    }
   ],
   "source": [
    "data.info()"
   ]
  },
  {
   "cell_type": "markdown",
   "metadata": {},
   "source": [
    "## Excersise 1:\n",
    "\n",
    "### Which are stocks are apparently similar in nature"
   ]
  },
  {
   "cell_type": "code",
   "execution_count": 5,
   "metadata": {},
   "outputs": [],
   "source": [
    "df = data.drop(['DATE', 'SP500'], axis=1)"
   ]
  },
  {
   "cell_type": "code",
   "execution_count": 6,
   "metadata": {},
   "outputs": [],
   "source": [
    "cor = df.corr()"
   ]
  },
  {
   "cell_type": "code",
   "execution_count": 7,
   "metadata": {},
   "outputs": [],
   "source": [
    "corr = pd.DataFrame(cor, columns=cor.index, index = cor.index)"
   ]
  },
  {
   "cell_type": "code",
   "execution_count": 8,
   "metadata": {},
   "outputs": [
    {
     "data": {
      "text/plain": [
       "NASDAQ.AAL    NASDAQ.AAL      1.000000\n",
       "NASDAQ.GOOG   NASDAQ.GOOGL    0.998352\n",
       "NASDAQ.DISCA  NASDAQ.DISCK    0.996855\n",
       "NASDAQ.NWS    NASDAQ.NWSA     0.996612\n",
       "NASDAQ.FOX    NASDAQ.FOXA     0.996182\n",
       "NYSE.DD       NYSE.DOW        0.986025\n",
       "NYSE.UA       NYSE.UAA        0.983613\n",
       "NYSE.DVN      NYSE.MRO        0.983269\n",
       "NYSE.CMS      NYSE.ES         0.981819\n",
       "              NYSE.DTE        0.981701\n",
       "NYSE.LMT      NYSE.RTN        0.981134\n",
       "NYSE.MA       NYSE.V          0.980574\n",
       "NYSE.DVN      NYSE.RIG        0.980150\n",
       "NASDAQ.ADBE   NYSE.MA         0.979629\n",
       "NASDAQ.ETFC   NYSE.BK         0.978342\n",
       "NYSE.DTE      NYSE.ES         0.978332\n",
       "NASDAQ.NVDA   NYSE.AON        0.977920\n",
       "NYSE.MCD      NYSE.YUM        0.977900\n",
       "NYSE.AEP      NYSE.DTE        0.977853\n",
       "NASDAQ.PYPL   NYSE.MA         0.977071\n",
       "dtype: float64"
      ]
     },
     "execution_count": 8,
     "metadata": {},
     "output_type": "execute_result"
    }
   ],
   "source": [
    "corr.stack().drop_duplicates().sort_values(ascending=False)[ :20]"
   ]
  },
  {
   "cell_type": "code",
   "execution_count": 9,
   "metadata": {},
   "outputs": [],
   "source": [
    "# These are the top 20 stocks which are similiar in performance"
   ]
  },
  {
   "cell_type": "markdown",
   "metadata": {},
   "source": [
    "## Excersise 2:\n",
    "\n",
    "### How many Unique patterns that exist in the historical stock data set, based on fluctuations in price."
   ]
  },
  {
   "cell_type": "code",
   "execution_count": 10,
   "metadata": {},
   "outputs": [],
   "source": [
    "from math import sqrt\n",
    "from scipy.cluster.vq import kmeans,vq\n",
    "from sklearn.cluster import KMeans"
   ]
  },
  {
   "cell_type": "code",
   "execution_count": 11,
   "metadata": {},
   "outputs": [
    {
     "data": {
      "text/html": [
       "<div>\n",
       "<style scoped>\n",
       "    .dataframe tbody tr th:only-of-type {\n",
       "        vertical-align: middle;\n",
       "    }\n",
       "\n",
       "    .dataframe tbody tr th {\n",
       "        vertical-align: top;\n",
       "    }\n",
       "\n",
       "    .dataframe thead th {\n",
       "        text-align: right;\n",
       "    }\n",
       "</style>\n",
       "<table border=\"1\" class=\"dataframe\">\n",
       "  <thead>\n",
       "    <tr style=\"text-align: right;\">\n",
       "      <th></th>\n",
       "      <th>Returns</th>\n",
       "      <th>Volatility</th>\n",
       "    </tr>\n",
       "  </thead>\n",
       "  <tbody>\n",
       "    <tr>\n",
       "      <th>NASDAQ.AAL</th>\n",
       "      <td>0.000441</td>\n",
       "      <td>0.014326</td>\n",
       "    </tr>\n",
       "    <tr>\n",
       "      <th>NASDAQ.AAPL</th>\n",
       "      <td>0.000855</td>\n",
       "      <td>0.009879</td>\n",
       "    </tr>\n",
       "    <tr>\n",
       "      <th>NASDAQ.ADBE</th>\n",
       "      <td>0.001144</td>\n",
       "      <td>0.009637</td>\n",
       "    </tr>\n",
       "    <tr>\n",
       "      <th>NASDAQ.ADI</th>\n",
       "      <td>0.000198</td>\n",
       "      <td>0.012395</td>\n",
       "    </tr>\n",
       "    <tr>\n",
       "      <th>NASDAQ.ADP</th>\n",
       "      <td>0.000310</td>\n",
       "      <td>0.011048</td>\n",
       "    </tr>\n",
       "  </tbody>\n",
       "</table>\n",
       "</div>"
      ],
      "text/plain": [
       "              Returns  Volatility\n",
       "NASDAQ.AAL   0.000441    0.014326\n",
       "NASDAQ.AAPL  0.000855    0.009879\n",
       "NASDAQ.ADBE  0.001144    0.009637\n",
       "NASDAQ.ADI   0.000198    0.012395\n",
       "NASDAQ.ADP   0.000310    0.011048"
      ]
     },
     "execution_count": 11,
     "metadata": {},
     "output_type": "execute_result"
    }
   ],
   "source": [
    "returns = df.pct_change().mean()*252\n",
    "returns = pd.DataFrame(returns)\n",
    "returns.columns = ['Returns']\n",
    "returns['Volatility'] = df.pct_change().std()*sqrt(252)\n",
    "returns.head()"
   ]
  },
  {
   "cell_type": "code",
   "execution_count": 12,
   "metadata": {},
   "outputs": [
    {
     "data": {
      "text/plain": [
       "(500, 2)"
      ]
     },
     "execution_count": 12,
     "metadata": {},
     "output_type": "execute_result"
    }
   ],
   "source": [
    "dta = np.asarray([np.asarray(returns.Returns), np.asarray(returns.Volatility)]).T\n",
    "dta.shape"
   ]
  },
  {
   "cell_type": "code",
   "execution_count": 13,
   "metadata": {},
   "outputs": [],
   "source": [
    "X = dta\n",
    "distortions =[]\n",
    "for k in range(2,20):\n",
    "    k_means = KMeans(n_clusters = k)\n",
    "    k_means.fit(X)\n",
    "    distortions.append(k_means.inertia_)"
   ]
  },
  {
   "cell_type": "code",
   "execution_count": 14,
   "metadata": {},
   "outputs": [
    {
     "data": {
      "image/png": "[encoded data removed]",
      "text/plain": [
       "<Figure size 1080x360 with 1 Axes>"
      ]
     },
     "metadata": {
      "needs_background": "light"
     },
     "output_type": "display_data"
    }
   ],
   "source": [
    "fig = plt.figure(figsize=(15,5))\n",
    "plt.plot(range(2,20),distortions)\n",
    "plt.grid(True)\n",
    "plt.title('Elbow-Curve')\n",
    "plt.show()"
   ]
  },
  {
   "cell_type": "code",
   "execution_count": 15,
   "metadata": {},
   "outputs": [],
   "source": [
    "# Steepness is achieved at 4 or 5 clusters so we will use 5 "
   ]
  },
  {
   "cell_type": "code",
   "execution_count": 16,
   "metadata": {},
   "outputs": [],
   "source": [
    "centroids,_= kmeans(dta, 5)\n",
    "# Assign each sample to a cluster\n",
    "idx,_ = vq(dta, centroids)"
   ]
  },
  {
   "cell_type": "code",
   "execution_count": 17,
   "metadata": {},
   "outputs": [
    {
     "data": {
      "image/png": "[encoded data removed]",
      "text/plain": [
       "<Figure size 432x288 with 1 Axes>"
      ]
     },
     "metadata": {
      "needs_background": "light"
     },
     "output_type": "display_data"
    }
   ],
   "source": [
    "from pylab import plot, show\n",
    "plot(dta[idx==0,0],dta[idx==0,1],'ob',\n",
    "     dta[idx==1,0],dta[idx==1,1],'oy',\n",
    "     dta[idx==2,0],dta[idx==2,1],'or',\n",
    "     dta[idx==3,0],dta[idx==3,1],'og',\n",
    "     dta[idx==4,0],dta[idx==4,1],'om')\n",
    "plot(centroids[:,0],centroids[:,1],'sg',markersize=8)\n",
    "show()"
   ]
  },
  {
   "cell_type": "markdown",
   "metadata": {},
   "source": [
    "So it looks like we have an outlier "
   ]
  },
  {
   "cell_type": "code",
   "execution_count": 18,
   "metadata": {},
   "outputs": [
    {
     "name": "stdout",
     "output_type": "stream",
     "text": [
      "Returns       NYSE.XRX\n",
      "Volatility    NYSE.XRX\n",
      "dtype: object\n"
     ]
    }
   ],
   "source": [
    "#identify the outlier\n",
    "print(returns.idxmax())"
   ]
  },
  {
   "cell_type": "code",
   "execution_count": 19,
   "metadata": {},
   "outputs": [],
   "source": [
    "returns.drop(['NYSE.XRX'],inplace=True)"
   ]
  },
  {
   "cell_type": "code",
   "execution_count": 20,
   "metadata": {},
   "outputs": [
    {
     "data": {
      "image/png": "[encoded data removed]",
      "text/plain": [
       "<Figure size 432x288 with 1 Axes>"
      ]
     },
     "metadata": {
      "needs_background": "light"
     },
     "output_type": "display_data"
    }
   ],
   "source": [
    "dta = np.asarray([np.asarray(returns.Returns), np.asarray(returns.Volatility)]).T\n",
    "centroids,_= kmeans(dta, 5)\n",
    "# Assign each sample to a cluster\n",
    "idx,_ = vq(dta, centroids)\n",
    "\n",
    "# some plotting using numpy's logical indexing\n",
    "plot(dta[idx==0,0],dta[idx==0,1],'ob',\n",
    "     dta[idx==1,0],dta[idx==1,1],'oy',\n",
    "     dta[idx==2,0],dta[idx==2,1],'or',\n",
    "     dta[idx==3,0],dta[idx==3,1],'og',\n",
    "     dta[idx==4,0],dta[idx==4,1],'om')\n",
    "plot(centroids[:,0],centroids[:,1],'sg',markersize=8)\n",
    "show()"
   ]
  },
  {
   "cell_type": "code",
   "execution_count": 21,
   "metadata": {},
   "outputs": [
    {
     "data": {
      "text/plain": [
       "[('NASDAQ.AAL', 4),\n",
       " ('NASDAQ.AAPL', 1),\n",
       " ('NASDAQ.ADBE', 1),\n",
       " ('NASDAQ.ADI', 2),\n",
       " ('NASDAQ.ADP', 2)]"
      ]
     },
     "execution_count": 21,
     "metadata": {},
     "output_type": "execute_result"
    }
   ],
   "source": [
    "details = [(name,cluster) for name, cluster in zip(returns.index,idx)]\n",
    "details[:5]"
   ]
  },
  {
   "cell_type": "code",
   "execution_count": 22,
   "metadata": {},
   "outputs": [
    {
     "data": {
      "text/plain": [
       "1    163\n",
       "2    119\n",
       "0    104\n",
       "4     87\n",
       "3     26\n",
       "Name: Cluster_No, dtype: int64"
      ]
     },
     "execution_count": 22,
     "metadata": {},
     "output_type": "execute_result"
    }
   ],
   "source": [
    "df1 = pd.DataFrame(details, columns=['Stock_Name','Cluster_No'])\n",
    "df1.Cluster_No.value_counts()"
   ]
  },
  {
   "cell_type": "code",
   "execution_count": 23,
   "metadata": {},
   "outputs": [
    {
     "data": {
      "image/png": "[encoded data removed]",
      "text/plain": [
       "<Figure size 864x288 with 1 Axes>"
      ]
     },
     "metadata": {
      "needs_background": "light"
     },
     "output_type": "display_data"
    }
   ],
   "source": [
    "import seaborn as sns\n",
    "ind = df1.Cluster_No.value_counts()\n",
    "plt.figure(figsize=(12,4))\n",
    "sns.barplot(x=ind.index, y=ind.values, alpha=0.6)\n",
    "plt.ylabel('Number of Occurences',fontsize=12)\n",
    "plt.xlabel('Cluster Number',fontsize=12)\n",
    "plt.title('Barplot - Indicator',fontsize =16)\n",
    "plt.show()"
   ]
  },
  {
   "cell_type": "markdown",
   "metadata": {},
   "source": [
    "## Excercise 3 PCA:\n",
    "\n",
    "### Identify which all stocks are moving together and which all stocks are different from each other"
   ]
  },
  {
   "cell_type": "code",
   "execution_count": 25,
   "metadata": {},
   "outputs": [
    {
     "name": "stdout",
     "output_type": "stream",
     "text": [
      "[0.4703 0.6426 0.7628 0.8113 0.8493 0.8774 0.8974 0.9105 0.921  0.9285\n",
      " 0.9353 0.9411 0.9457 0.9502 0.9543 0.9578 0.9611 0.9637 0.966  0.9682\n",
      " 0.9701 0.9717 0.9732 0.9745 0.9758 0.977  0.9781 0.9791 0.98   0.9808\n",
      " 0.9816 0.9824 0.9831 0.9838 0.9844 0.985  0.9856 0.9861 0.9866 0.9871\n",
      " 0.9875 0.9879 0.9883 0.9887 0.9891 0.9894 0.9897 0.99   0.9903 0.9906\n",
      " 0.9909 0.9912 0.9915 0.9917 0.9919 0.9921 0.9923 0.9925 0.9927 0.9929\n",
      " 0.9931 0.9933 0.9935 0.9937 0.9939 0.9941 0.9943 0.9945 0.9946 0.9947\n",
      " 0.9948 0.9949 0.995  0.9951 0.9952 0.9953 0.9954 0.9955 0.9956 0.9957\n",
      " 0.9958 0.9959 0.996  0.9961 0.9962 0.9963 0.9964 0.9965 0.9966 0.9967\n",
      " 0.9968 0.9969 0.997  0.9971 0.9972 0.9973 0.9974 0.9975 0.9976 0.9977\n",
      " 0.9978 0.9979 0.9979 0.9979 0.9979 0.9979 0.9979 0.9979 0.9979 0.9979\n",
      " 0.9979 0.9979 0.9979 0.9979 0.9979 0.9979 0.9979 0.9979 0.9979 0.9979\n",
      " 0.9979 0.9979 0.9979 0.9979 0.9979 0.9979 0.9979 0.9979 0.9979 0.9979\n",
      " 0.9979 0.9979 0.9979 0.9979 0.9979 0.9979 0.9979 0.9979 0.9979 0.9979\n",
      " 0.9979 0.9979 0.9979 0.9979 0.9979 0.9979 0.9979 0.9979 0.9979 0.9979]\n"
     ]
    }
   ],
   "source": [
    "from sklearn.decomposition import PCA\n",
    "from sklearn.preprocessing import StandardScaler\n",
    "\n",
    "X = df.values\n",
    "\n",
    "sc = StandardScaler().fit_transform(X)\n",
    "pca = PCA(n_components=150).fit(sc)\n",
    "\n",
    "var = pca.explained_variance_ratio_\n",
    "\n",
    "# cumulative varince explains\n",
    "var1 = np.cumsum(np.round(var, decimals=4))\n",
    "print(var1)"
   ]
  },
  {
   "cell_type": "code",
   "execution_count": 26,
   "metadata": {},
   "outputs": [
    {
     "data": {
      "text/plain": [
       "[<matplotlib.lines.Line2D at 0x7f487494ca90>]"
      ]
     },
     "execution_count": 26,
     "metadata": {},
     "output_type": "execute_result"
    },
    {
     "data": {
      "image/png": "[encoded data removed]",
      "text/plain": [
       "<Figure size 432x288 with 1 Axes>"
      ]
     },
     "metadata": {
      "needs_background": "light"
     },
     "output_type": "display_data"
    }
   ],
   "source": [
    "plt.plot(var1)"
   ]
  },
  {
   "cell_type": "code",
   "execution_count": 27,
   "metadata": {},
   "outputs": [],
   "source": [
    "X_scaled = PCA(n_components=25).fit(sc)"
   ]
  },
  {
   "cell_type": "code",
   "execution_count": 29,
   "metadata": {},
   "outputs": [
    {
     "data": {
      "text/html": [
       "<div>\n",
       "<style scoped>\n",
       "    .dataframe tbody tr th:only-of-type {\n",
       "        vertical-align: middle;\n",
       "    }\n",
       "\n",
       "    .dataframe tbody tr th {\n",
       "        vertical-align: top;\n",
       "    }\n",
       "\n",
       "    .dataframe thead th {\n",
       "        text-align: right;\n",
       "    }\n",
       "</style>\n",
       "<table border=\"1\" class=\"dataframe\">\n",
       "  <thead>\n",
       "    <tr style=\"text-align: right;\">\n",
       "      <th></th>\n",
       "      <th>NASDAQ.AAL</th>\n",
       "      <th>NASDAQ.AAPL</th>\n",
       "      <th>NASDAQ.ADBE</th>\n",
       "      <th>NASDAQ.ADI</th>\n",
       "      <th>NASDAQ.ADP</th>\n",
       "      <th>NASDAQ.ADSK</th>\n",
       "      <th>NASDAQ.AKAM</th>\n",
       "      <th>NASDAQ.ALXN</th>\n",
       "      <th>NASDAQ.AMAT</th>\n",
       "      <th>NASDAQ.AMD</th>\n",
       "      <th>...</th>\n",
       "      <th>NYSE.WYN</th>\n",
       "      <th>NYSE.XEC</th>\n",
       "      <th>NYSE.XEL</th>\n",
       "      <th>NYSE.XL</th>\n",
       "      <th>NYSE.XOM</th>\n",
       "      <th>NYSE.XRX</th>\n",
       "      <th>NYSE.XYL</th>\n",
       "      <th>NYSE.YUM</th>\n",
       "      <th>NYSE.ZBH</th>\n",
       "      <th>NYSE.ZTS</th>\n",
       "    </tr>\n",
       "  </thead>\n",
       "  <tbody>\n",
       "    <tr>\n",
       "      <th>0</th>\n",
       "      <td>-0.039258</td>\n",
       "      <td>-0.041064</td>\n",
       "      <td>-0.062908</td>\n",
       "      <td>-0.009788</td>\n",
       "      <td>-0.035866</td>\n",
       "      <td>-0.054668</td>\n",
       "      <td>0.050356</td>\n",
       "      <td>-0.035396</td>\n",
       "      <td>-0.044060</td>\n",
       "      <td>-0.014671</td>\n",
       "      <td>...</td>\n",
       "      <td>-0.049413</td>\n",
       "      <td>0.057001</td>\n",
       "      <td>-0.054623</td>\n",
       "      <td>-0.050608</td>\n",
       "      <td>0.047199</td>\n",
       "      <td>-0.057897</td>\n",
       "      <td>-0.061392</td>\n",
       "      <td>-0.062477</td>\n",
       "      <td>0.002538</td>\n",
       "      <td>-0.051698</td>\n",
       "    </tr>\n",
       "    <tr>\n",
       "      <th>1</th>\n",
       "      <td>-0.064284</td>\n",
       "      <td>0.033861</td>\n",
       "      <td>0.001861</td>\n",
       "      <td>-0.032453</td>\n",
       "      <td>0.043511</td>\n",
       "      <td>-0.029519</td>\n",
       "      <td>0.016178</td>\n",
       "      <td>0.058286</td>\n",
       "      <td>-0.052667</td>\n",
       "      <td>0.012376</td>\n",
       "      <td>...</td>\n",
       "      <td>-0.058941</td>\n",
       "      <td>0.030277</td>\n",
       "      <td>0.013643</td>\n",
       "      <td>-0.040769</td>\n",
       "      <td>-0.052795</td>\n",
       "      <td>0.010238</td>\n",
       "      <td>0.031466</td>\n",
       "      <td>-0.020406</td>\n",
       "      <td>-0.081229</td>\n",
       "      <td>-0.059501</td>\n",
       "    </tr>\n",
       "    <tr>\n",
       "      <th>2</th>\n",
       "      <td>-0.039858</td>\n",
       "      <td>0.064165</td>\n",
       "      <td>0.012079</td>\n",
       "      <td>0.043266</td>\n",
       "      <td>-0.037239</td>\n",
       "      <td>0.040506</td>\n",
       "      <td>-0.053892</td>\n",
       "      <td>-0.051099</td>\n",
       "      <td>0.030738</td>\n",
       "      <td>-0.086428</td>\n",
       "      <td>...</td>\n",
       "      <td>-0.003223</td>\n",
       "      <td>0.022125</td>\n",
       "      <td>0.059617</td>\n",
       "      <td>-0.034587</td>\n",
       "      <td>-0.028712</td>\n",
       "      <td>-0.039074</td>\n",
       "      <td>-0.004342</td>\n",
       "      <td>0.021010</td>\n",
       "      <td>-0.066373</td>\n",
       "      <td>0.023570</td>\n",
       "    </tr>\n",
       "    <tr>\n",
       "      <th>3</th>\n",
       "      <td>0.007578</td>\n",
       "      <td>0.077164</td>\n",
       "      <td>0.008564</td>\n",
       "      <td>-0.027896</td>\n",
       "      <td>-0.017418</td>\n",
       "      <td>0.008973</td>\n",
       "      <td>-0.032239</td>\n",
       "      <td>0.034448</td>\n",
       "      <td>0.051511</td>\n",
       "      <td>-0.077594</td>\n",
       "      <td>...</td>\n",
       "      <td>0.021692</td>\n",
       "      <td>0.060885</td>\n",
       "      <td>-0.039630</td>\n",
       "      <td>0.027694</td>\n",
       "      <td>0.012100</td>\n",
       "      <td>-0.039575</td>\n",
       "      <td>0.002900</td>\n",
       "      <td>-0.002703</td>\n",
       "      <td>-0.049420</td>\n",
       "      <td>0.015160</td>\n",
       "    </tr>\n",
       "    <tr>\n",
       "      <th>4</th>\n",
       "      <td>-0.033303</td>\n",
       "      <td>-0.016981</td>\n",
       "      <td>0.002438</td>\n",
       "      <td>-0.038330</td>\n",
       "      <td>-0.102023</td>\n",
       "      <td>-0.034831</td>\n",
       "      <td>-0.011187</td>\n",
       "      <td>0.037595</td>\n",
       "      <td>-0.039683</td>\n",
       "      <td>-0.014357</td>\n",
       "      <td>...</td>\n",
       "      <td>-0.036672</td>\n",
       "      <td>-0.011451</td>\n",
       "      <td>-0.030314</td>\n",
       "      <td>-0.012030</td>\n",
       "      <td>-0.045731</td>\n",
       "      <td>0.029255</td>\n",
       "      <td>-0.003013</td>\n",
       "      <td>-0.001339</td>\n",
       "      <td>-0.003603</td>\n",
       "      <td>0.005364</td>\n",
       "    </tr>\n",
       "  </tbody>\n",
       "</table>\n",
       "<p>5 rows × 500 columns</p>\n",
       "</div>"
      ],
      "text/plain": [
       "   NASDAQ.AAL  NASDAQ.AAPL  NASDAQ.ADBE  NASDAQ.ADI  NASDAQ.ADP  NASDAQ.ADSK  \\\n",
       "0   -0.039258    -0.041064    -0.062908   -0.009788   -0.035866    -0.054668   \n",
       "1   -0.064284     0.033861     0.001861   -0.032453    0.043511    -0.029519   \n",
       "2   -0.039858     0.064165     0.012079    0.043266   -0.037239     0.040506   \n",
       "3    0.007578     0.077164     0.008564   -0.027896   -0.017418     0.008973   \n",
       "4   -0.033303    -0.016981     0.002438   -0.038330   -0.102023    -0.034831   \n",
       "\n",
       "   NASDAQ.AKAM  NASDAQ.ALXN  NASDAQ.AMAT  NASDAQ.AMD  ...  NYSE.WYN  NYSE.XEC  \\\n",
       "0     0.050356    -0.035396    -0.044060   -0.014671  ... -0.049413  0.057001   \n",
       "1     0.016178     0.058286    -0.052667    0.012376  ... -0.058941  0.030277   \n",
       "2    -0.053892    -0.051099     0.030738   -0.086428  ... -0.003223  0.022125   \n",
       "3    -0.032239     0.034448     0.051511   -0.077594  ...  0.021692  0.060885   \n",
       "4    -0.011187     0.037595    -0.039683   -0.014357  ... -0.036672 -0.011451   \n",
       "\n",
       "   NYSE.XEL   NYSE.XL  NYSE.XOM  NYSE.XRX  NYSE.XYL  NYSE.YUM  NYSE.ZBH  \\\n",
       "0 -0.054623 -0.050608  0.047199 -0.057897 -0.061392 -0.062477  0.002538   \n",
       "1  0.013643 -0.040769 -0.052795  0.010238  0.031466 -0.020406 -0.081229   \n",
       "2  0.059617 -0.034587 -0.028712 -0.039074 -0.004342  0.021010 -0.066373   \n",
       "3 -0.039630  0.027694  0.012100 -0.039575  0.002900 -0.002703 -0.049420   \n",
       "4 -0.030314 -0.012030 -0.045731  0.029255 -0.003013 -0.001339 -0.003603   \n",
       "\n",
       "   NYSE.ZTS  \n",
       "0 -0.051698  \n",
       "1 -0.059501  \n",
       "2  0.023570  \n",
       "3  0.015160  \n",
       "4  0.005364  \n",
       "\n",
       "[5 rows x 500 columns]"
      ]
     },
     "execution_count": 29,
     "metadata": {},
     "output_type": "execute_result"
    }
   ],
   "source": [
    "comp = pd.DataFrame(pca.components_, columns = df.columns)\n",
    "comp.head()"
   ]
  }
 ],
 "metadata": {
  "kernelspec": {
   "display_name": "Python 3",
   "language": "python",
   "name": "python3"
  },
  "language_info": {
   "codemirror_mode": {
    "name": "ipython",
    "version": 3
   },
   "file_extension": ".py",
   "mimetype": "text/x-python",
   "name": "python",
   "nbconvert_exporter": "python",
   "pygments_lexer": "ipython3",
   "version": "3.7.7"
  }
 },
 "nbformat": 4,
 "nbformat_minor": 4
}
