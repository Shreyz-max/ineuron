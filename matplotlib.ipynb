{
 "cells": [
  {
   "cell_type": "code",
   "execution_count": 9,
   "metadata": {
    "collapsed": true,
    "deletable": true,
    "editable": true
   },
   "outputs": [],
   "source": [
    "import numpy as np \n",
    "from scipy.optimize import curve_fit \n",
    "from matplotlib import pyplot as plt \n",
    "import pandas as pd\n",
    "import seaborn"
   ]
  },
  {
   "cell_type": "code",
   "execution_count": 10,
   "metadata": {
    "collapsed": false,
    "deletable": true,
    "editable": true
   },
   "outputs": [
    {
     "data": {
      "image/png": "[encoded data removed]",
      "text/plain": [
       "<Figure size 432x288 with 1 Axes>"
      ]
     },
     "metadata": {},
     "output_type": "display_data"
    }
   ],
   "source": [
    "months = np.arange(12)\n",
    "temp_max = np.array([39, 41, 43, 47, 49, 51, 45, 38, 37, 29, 27, 25])\n",
    "temp_min = np.array([21, 23, 27, 28, 32, 35, 31, 28, 21, 19, 17, 18])\n",
    "\n",
    "def yearly_temps(times, avg, ampl, time_offset):\n",
    "    return (avg\n",
    "            + ampl * np.cos((times + time_offset) * 1.8 * np.pi / times.max()))\n",
    "\n",
    "res_max, cov_max = curve_fit(yearly_temps, months,\n",
    "                                      temp_max, [40, 20, 0])\n",
    "res_min, cov_min = curve_fit(yearly_temps, months,\n",
    "                                      temp_min, [-40, 20, 0])\n",
    "days = np.linspace(0, 12, num=365)\n",
    "\n",
    "plt.figure()\n",
    "plt.plot(months, temp_max, 'go')\n",
    "plt.plot(days, yearly_temps(days, *res_max), 'm-')\n",
    "plt.plot(months, temp_min, 'co')\n",
    "plt.plot(days, yearly_temps(days, *res_min), 'y-')\n",
    "plt.xlabel('Month')\n",
    "plt.ylabel('Temperature ($^\\circ$C)')\n",
    "\n",
    "plt.show()"
   ]
  },
  {
   "cell_type": "code",
   "execution_count": 11,
   "metadata": {
    "collapsed": false,
    "deletable": true,
    "editable": true
   },
   "outputs": [],
   "source": [
    "url='https://raw.githubusercontent.com/Geoyi/Cleaning-Titanic-Data/master/titanic_original.csv'\n",
    "titanic = pd.read_csv(url)"
   ]
  },
  {
   "cell_type": "code",
   "execution_count": 12,
   "metadata": {
    "collapsed": false,
    "deletable": true,
    "editable": true
   },
   "outputs": [
    {
     "name": "stdout",
     "output_type": "stream",
     "text": [
      "   pclass  survived                                             name     sex  \\\n",
      "0     1.0       1.0                    Allen, Miss. Elisabeth Walton  female   \n",
      "1     1.0       1.0                   Allison, Master. Hudson Trevor    male   \n",
      "2     1.0       0.0                     Allison, Miss. Helen Loraine  female   \n",
      "3     1.0       0.0             Allison, Mr. Hudson Joshua Creighton    male   \n",
      "4     1.0       0.0  Allison, Mrs. Hudson J C (Bessie Waldo Daniels)  female   \n",
      "\n",
      "       age  sibsp  parch  ticket      fare    cabin embarked boat   body  \\\n",
      "0  29.0000    0.0    0.0   24160  211.3375       B5        S    2    NaN   \n",
      "1   0.9167    1.0    2.0  113781  151.5500  C22 C26        S   11    NaN   \n",
      "2   2.0000    1.0    2.0  113781  151.5500  C22 C26        S  NaN    NaN   \n",
      "3  30.0000    1.0    2.0  113781  151.5500  C22 C26        S  NaN  135.0   \n",
      "4  25.0000    1.0    2.0  113781  151.5500  C22 C26        S  NaN    NaN   \n",
      "\n",
      "                         home.dest  \n",
      "0                     St Louis, MO  \n",
      "1  Montreal, PQ / Chesterville, ON  \n",
      "2  Montreal, PQ / Chesterville, ON  \n",
      "3  Montreal, PQ / Chesterville, ON  \n",
      "4  Montreal, PQ / Chesterville, ON  \n",
      "male      843\n",
      "female    466\n",
      "Name: sex, dtype: int64\n"
     ]
    }
   ],
   "source": [
    "print(titanic.head())\n",
    "print(titanic['sex'].value_counts())"
   ]
  },
  {
   "cell_type": "code",
   "execution_count": 13,
   "metadata": {
    "collapsed": false,
    "deletable": true,
    "editable": true
   },
   "outputs": [
    {
     "data": {
      "application/vnd.plotly.v1+json": {
       "config": {
        "plotlyServerURL": "https://plot.ly"
       },
       "data": [
        {
         "domain": {
          "x": [
           0,
           1
          ],
          "y": [
           0,
           1
          ]
         },
         "hovertemplate": "sex=%{value}<extra></extra>",
         "labels": [
          843,
          466
         ],
         "legendgroup": "",
         "name": "",
         "showlegend": true,
         "type": "pie",
         "values": [
          843,
          466
         ]
        }
       ],
       "layout": {
        "legend": {
         "tracegroupgap": 0
        },
        "margin": {
         "t": 60
        },
        "template": {
         "data": {
          "bar": [
           {
            "error_x": {
             "color": "#2a3f5f"
            },
            "error_y": {
             "color": "#2a3f5f"
            },
            "marker": {
             "line": {
              "color": "#E5ECF6",
              "width": 0.5
             }
            },
            "type": "bar"
           }
          ],
          "barpolar": [
           {
            "marker": {
             "line": {
              "color": "#E5ECF6",
              "width": 0.5
             }
            },
            "type": "barpolar"
           }
          ],
          "carpet": [
           {
            "aaxis": {
             "endlinecolor": "#2a3f5f",
             "gridcolor": "white",
             "linecolor": "white",
             "minorgridcolor": "white",
             "startlinecolor": "#2a3f5f"
            },
            "baxis": {
             "endlinecolor": "#2a3f5f",
             "gridcolor": "white",
             "linecolor": "white",
             "minorgridcolor": "white",
             "startlinecolor": "#2a3f5f"
            },
            "type": "carpet"
           }
          ],
          "choropleth": [
           {
            "colorbar": {
             "outlinewidth": 0,
             "ticks": ""
            },
            "type": "choropleth"
           }
          ],
          "contour": [
           {
            "colorbar": {
             "outlinewidth": 0,
             "ticks": ""
            },
            "colorscale": [
             [
              0,
              "#0d0887"
             ],
             [
              0.1111111111111111,
              "#46039f"
             ],
             [
              0.2222222222222222,
              "#7201a8"
             ],
             [
              0.3333333333333333,
              "#9c179e"
             ],
             [
              0.4444444444444444,
              "#bd3786"
             ],
             [
              0.5555555555555556,
              "#d8576b"
             ],
             [
              0.6666666666666666,
              "#ed7953"
             ],
             [
              0.7777777777777778,
              "#fb9f3a"
             ],
             [
              0.8888888888888888,
              "#fdca26"
             ],
             [
              1,
              "#f0f921"
             ]
            ],
            "type": "contour"
           }
          ],
          "contourcarpet": [
           {
            "colorbar": {
             "outlinewidth": 0,
             "ticks": ""
            },
            "type": "contourcarpet"
           }
          ],
          "heatmap": [
           {
            "colorbar": {
             "outlinewidth": 0,
             "ticks": ""
            },
            "colorscale": [
             [
              0,
              "#0d0887"
             ],
             [
              0.1111111111111111,
              "#46039f"
             ],
             [
              0.2222222222222222,
              "#7201a8"
             ],
             [
              0.3333333333333333,
              "#9c179e"
             ],
             [
              0.4444444444444444,
              "#bd3786"
             ],
             [
              0.5555555555555556,
              "#d8576b"
             ],
             [
              0.6666666666666666,
              "#ed7953"
             ],
             [
              0.7777777777777778,
              "#fb9f3a"
             ],
             [
              0.8888888888888888,
              "#fdca26"
             ],
             [
              1,
              "#f0f921"
             ]
            ],
            "type": "heatmap"
           }
          ],
          "heatmapgl": [
           {
            "colorbar": {
             "outlinewidth": 0,
             "ticks": ""
            },
            "colorscale": [
             [
              0,
              "#0d0887"
             ],
             [
              0.1111111111111111,
              "#46039f"
             ],
             [
              0.2222222222222222,
              "#7201a8"
             ],
             [
              0.3333333333333333,
              "#9c179e"
             ],
             [
              0.4444444444444444,
              "#bd3786"
             ],
             [
              0.5555555555555556,
              "#d8576b"
             ],
             [
              0.6666666666666666,
              "#ed7953"
             ],
             [
              0.7777777777777778,
              "#fb9f3a"
             ],
             [
              0.8888888888888888,
              "#fdca26"
             ],
             [
              1,
              "#f0f921"
             ]
            ],
            "type": "heatmapgl"
           }
          ],
          "histogram": [
           {
            "marker": {
             "colorbar": {
              "outlinewidth": 0,
              "ticks": ""
             }
            },
            "type": "histogram"
           }
          ],
          "histogram2d": [
           {
            "colorbar": {
             "outlinewidth": 0,
             "ticks": ""
            },
            "colorscale": [
             [
              0,
              "#0d0887"
             ],
             [
              0.1111111111111111,
              "#46039f"
             ],
             [
              0.2222222222222222,
              "#7201a8"
             ],
             [
              0.3333333333333333,
              "#9c179e"
             ],
             [
              0.4444444444444444,
              "#bd3786"
             ],
             [
              0.5555555555555556,
              "#d8576b"
             ],
             [
              0.6666666666666666,
              "#ed7953"
             ],
             [
              0.7777777777777778,
              "#fb9f3a"
             ],
             [
              0.8888888888888888,
              "#fdca26"
             ],
             [
              1,
              "#f0f921"
             ]
            ],
            "type": "histogram2d"
           }
          ],
          "histogram2dcontour": [
           {
            "colorbar": {
             "outlinewidth": 0,
             "ticks": ""
            },
            "colorscale": [
             [
              0,
              "#0d0887"
             ],
             [
              0.1111111111111111,
              "#46039f"
             ],
             [
              0.2222222222222222,
              "#7201a8"
             ],
             [
              0.3333333333333333,
              "#9c179e"
             ],
             [
              0.4444444444444444,
              "#bd3786"
             ],
             [
              0.5555555555555556,
              "#d8576b"
             ],
             [
              0.6666666666666666,
              "#ed7953"
             ],
             [
              0.7777777777777778,
              "#fb9f3a"
             ],
             [
              0.8888888888888888,
              "#fdca26"
             ],
             [
              1,
              "#f0f921"
             ]
            ],
            "type": "histogram2dcontour"
           }
          ],
          "mesh3d": [
           {
            "colorbar": {
             "outlinewidth": 0,
             "ticks": ""
            },
            "type": "mesh3d"
           }
          ],
          "parcoords": [
           {
            "line": {
             "colorbar": {
              "outlinewidth": 0,
              "ticks": ""
             }
            },
            "type": "parcoords"
           }
          ],
          "pie": [
           {
            "automargin": true,
            "type": "pie"
           }
          ],
          "scatter": [
           {
            "marker": {
             "colorbar": {
              "outlinewidth": 0,
              "ticks": ""
             }
            },
            "type": "scatter"
           }
          ],
          "scatter3d": [
           {
            "line": {
             "colorbar": {
              "outlinewidth": 0,
              "ticks": ""
             }
            },
            "marker": {
             "colorbar": {
              "outlinewidth": 0,
              "ticks": ""
             }
            },
            "type": "scatter3d"
           }
          ],
          "scattercarpet": [
           {
            "marker": {
             "colorbar": {
              "outlinewidth": 0,
              "ticks": ""
             }
            },
            "type": "scattercarpet"
           }
          ],
          "scattergeo": [
           {
            "marker": {
             "colorbar": {
              "outlinewidth": 0,
              "ticks": ""
             }
            },
            "type": "scattergeo"
           }
          ],
          "scattergl": [
           {
            "marker": {
             "colorbar": {
              "outlinewidth": 0,
              "ticks": ""
             }
            },
            "type": "scattergl"
           }
          ],
          "scattermapbox": [
           {
            "marker": {
             "colorbar": {
              "outlinewidth": 0,
              "ticks": ""
             }
            },
            "type": "scattermapbox"
           }
          ],
          "scatterpolar": [
           {
            "marker": {
             "colorbar": {
              "outlinewidth": 0,
              "ticks": ""
             }
            },
            "type": "scatterpolar"
           }
          ],
          "scatterpolargl": [
           {
            "marker": {
             "colorbar": {
              "outlinewidth": 0,
              "ticks": ""
             }
            },
            "type": "scatterpolargl"
           }
          ],
          "scatterternary": [
           {
            "marker": {
             "colorbar": {
              "outlinewidth": 0,
              "ticks": ""
             }
            },
            "type": "scatterternary"
           }
          ],
          "surface": [
           {
            "colorbar": {
             "outlinewidth": 0,
             "ticks": ""
            },
            "colorscale": [
             [
              0,
              "#0d0887"
             ],
             [
              0.1111111111111111,
              "#46039f"
             ],
             [
              0.2222222222222222,
              "#7201a8"
             ],
             [
              0.3333333333333333,
              "#9c179e"
             ],
             [
              0.4444444444444444,
              "#bd3786"
             ],
             [
              0.5555555555555556,
              "#d8576b"
             ],
             [
              0.6666666666666666,
              "#ed7953"
             ],
             [
              0.7777777777777778,
              "#fb9f3a"
             ],
             [
              0.8888888888888888,
              "#fdca26"
             ],
             [
              1,
              "#f0f921"
             ]
            ],
            "type": "surface"
           }
          ],
          "table": [
           {
            "cells": {
             "fill": {
              "color": "#EBF0F8"
             },
             "line": {
              "color": "white"
             }
            },
            "header": {
             "fill": {
              "color": "#C8D4E3"
             },
             "line": {
              "color": "white"
             }
            },
            "type": "table"
           }
          ]
         },
         "layout": {
          "annotationdefaults": {
           "arrowcolor": "#2a3f5f",
           "arrowhead": 0,
           "arrowwidth": 1
          },
          "coloraxis": {
           "colorbar": {
            "outlinewidth": 0,
            "ticks": ""
           }
          },
          "colorscale": {
           "diverging": [
            [
             0,
             "#8e0152"
            ],
            [
             0.1,
             "#c51b7d"
            ],
            [
             0.2,
             "#de77ae"
            ],
            [
             0.3,
             "#f1b6da"
            ],
            [
             0.4,
             "#fde0ef"
            ],
            [
             0.5,
             "#f7f7f7"
            ],
            [
             0.6,
             "#e6f5d0"
            ],
            [
             0.7,
             "#b8e186"
            ],
            [
             0.8,
             "#7fbc41"
            ],
            [
             0.9,
             "#4d9221"
            ],
            [
             1,
             "#276419"
            ]
           ],
           "sequential": [
            [
             0,
             "#0d0887"
            ],
            [
             0.1111111111111111,
             "#46039f"
            ],
            [
             0.2222222222222222,
             "#7201a8"
            ],
            [
             0.3333333333333333,
             "#9c179e"
            ],
            [
             0.4444444444444444,
             "#bd3786"
            ],
            [
             0.5555555555555556,
             "#d8576b"
            ],
            [
             0.6666666666666666,
             "#ed7953"
            ],
            [
             0.7777777777777778,
             "#fb9f3a"
            ],
            [
             0.8888888888888888,
             "#fdca26"
            ],
            [
             1,
             "#f0f921"
            ]
           ],
           "sequentialminus": [
            [
             0,
             "#0d0887"
            ],
            [
             0.1111111111111111,
             "#46039f"
            ],
            [
             0.2222222222222222,
             "#7201a8"
            ],
            [
             0.3333333333333333,
             "#9c179e"
            ],
            [
             0.4444444444444444,
             "#bd3786"
            ],
            [
             0.5555555555555556,
             "#d8576b"
            ],
            [
             0.6666666666666666,
             "#ed7953"
            ],
            [
             0.7777777777777778,
             "#fb9f3a"
            ],
            [
             0.8888888888888888,
             "#fdca26"
            ],
            [
             1,
             "#f0f921"
            ]
           ]
          },
          "colorway": [
           "#636efa",
           "#EF553B",
           "#00cc96",
           "#ab63fa",
           "#FFA15A",
           "#19d3f3",
           "#FF6692",
           "#B6E880",
           "#FF97FF",
           "#FECB52"
          ],
          "font": {
           "color": "#2a3f5f"
          },
          "geo": {
           "bgcolor": "white",
           "lakecolor": "white",
           "landcolor": "#E5ECF6",
           "showlakes": true,
           "showland": true,
           "subunitcolor": "white"
          },
          "hoverlabel": {
           "align": "left"
          },
          "hovermode": "closest",
          "mapbox": {
           "style": "light"
          },
          "paper_bgcolor": "white",
          "plot_bgcolor": "#E5ECF6",
          "polar": {
           "angularaxis": {
            "gridcolor": "white",
            "linecolor": "white",
            "ticks": ""
           },
           "bgcolor": "#E5ECF6",
           "radialaxis": {
            "gridcolor": "white",
            "linecolor": "white",
            "ticks": ""
           }
          },
          "scene": {
           "xaxis": {
            "backgroundcolor": "#E5ECF6",
            "gridcolor": "white",
            "gridwidth": 2,
            "linecolor": "white",
            "showbackground": true,
            "ticks": "",
            "zerolinecolor": "white"
           },
           "yaxis": {
            "backgroundcolor": "#E5ECF6",
            "gridcolor": "white",
            "gridwidth": 2,
            "linecolor": "white",
            "showbackground": true,
            "ticks": "",
            "zerolinecolor": "white"
           },
           "zaxis": {
            "backgroundcolor": "#E5ECF6",
            "gridcolor": "white",
            "gridwidth": 2,
            "linecolor": "white",
            "showbackground": true,
            "ticks": "",
            "zerolinecolor": "white"
           }
          },
          "shapedefaults": {
           "line": {
            "color": "#2a3f5f"
           }
          },
          "ternary": {
           "aaxis": {
            "gridcolor": "white",
            "linecolor": "white",
            "ticks": ""
           },
           "baxis": {
            "gridcolor": "white",
            "linecolor": "white",
            "ticks": ""
           },
           "bgcolor": "#E5ECF6",
           "caxis": {
            "gridcolor": "white",
            "linecolor": "white",
            "ticks": ""
           }
          },
          "title": {
           "x": 0.05
          },
          "xaxis": {
           "automargin": true,
           "gridcolor": "white",
           "linecolor": "white",
           "ticks": "",
           "title": {
            "standoff": 15
           },
           "zerolinecolor": "white",
           "zerolinewidth": 2
          },
          "yaxis": {
           "automargin": true,
           "gridcolor": "white",
           "linecolor": "white",
           "ticks": "",
           "title": {
            "standoff": 15
           },
           "zerolinecolor": "white",
           "zerolinewidth": 2
          }
         }
        }
       }
      },
      "text/html": [
       "<div>\n",
       "        \n",
       "        \n",
       "            <div id=\"75ee2035-9934-4599-96a5-642b4ce694ee\" class=\"plotly-graph-div\" style=\"height:525px; width:100%;\"></div>\n",
       "            <script type=\"text/javascript\">\n",
       "                require([\"plotly\"], function(Plotly) {\n",
       "                    window.PLOTLYENV=window.PLOTLYENV || {};\n",
       "                    \n",
       "                if (document.getElementById(\"75ee2035-9934-4599-96a5-642b4ce694ee\")) {\n",
       "                    Plotly.newPlot(\n",
       "                        '75ee2035-9934-4599-96a5-642b4ce694ee',\n",
       "                        [{\"domain\": {\"x\": [0.0, 1.0], \"y\": [0.0, 1.0]}, \"hovertemplate\": \"sex=%{value}<extra></extra>\", \"labels\": [843, 466], \"legendgroup\": \"\", \"name\": \"\", \"showlegend\": true, \"type\": \"pie\", \"values\": [843, 466]}],\n",
       "                        {\"legend\": {\"tracegroupgap\": 0}, \"margin\": {\"t\": 60}, \"template\": {\"data\": {\"bar\": [{\"error_x\": {\"color\": \"#2a3f5f\"}, \"error_y\": {\"color\": \"#2a3f5f\"}, \"marker\": {\"line\": {\"color\": \"#E5ECF6\", \"width\": 0.5}}, \"type\": \"bar\"}], \"barpolar\": [{\"marker\": {\"line\": {\"color\": \"#E5ECF6\", \"width\": 0.5}}, \"type\": \"barpolar\"}], \"carpet\": [{\"aaxis\": {\"endlinecolor\": \"#2a3f5f\", \"gridcolor\": \"white\", \"linecolor\": \"white\", \"minorgridcolor\": \"white\", \"startlinecolor\": \"#2a3f5f\"}, \"baxis\": {\"endlinecolor\": \"#2a3f5f\", \"gridcolor\": \"white\", \"linecolor\": \"white\", \"minorgridcolor\": \"white\", \"startlinecolor\": \"#2a3f5f\"}, \"type\": \"carpet\"}], \"choropleth\": [{\"colorbar\": {\"outlinewidth\": 0, \"ticks\": \"\"}, \"type\": \"choropleth\"}], \"contour\": [{\"colorbar\": {\"outlinewidth\": 0, \"ticks\": \"\"}, \"colorscale\": [[0.0, \"#0d0887\"], [0.1111111111111111, \"#46039f\"], [0.2222222222222222, \"#7201a8\"], [0.3333333333333333, \"#9c179e\"], [0.4444444444444444, \"#bd3786\"], [0.5555555555555556, \"#d8576b\"], [0.6666666666666666, \"#ed7953\"], [0.7777777777777778, \"#fb9f3a\"], [0.8888888888888888, \"#fdca26\"], [1.0, \"#f0f921\"]], \"type\": \"contour\"}], \"contourcarpet\": [{\"colorbar\": {\"outlinewidth\": 0, \"ticks\": \"\"}, \"type\": \"contourcarpet\"}], \"heatmap\": [{\"colorbar\": {\"outlinewidth\": 0, \"ticks\": \"\"}, \"colorscale\": [[0.0, \"#0d0887\"], [0.1111111111111111, \"#46039f\"], [0.2222222222222222, \"#7201a8\"], [0.3333333333333333, \"#9c179e\"], [0.4444444444444444, \"#bd3786\"], [0.5555555555555556, \"#d8576b\"], [0.6666666666666666, \"#ed7953\"], [0.7777777777777778, \"#fb9f3a\"], [0.8888888888888888, \"#fdca26\"], [1.0, \"#f0f921\"]], \"type\": \"heatmap\"}], \"heatmapgl\": [{\"colorbar\": {\"outlinewidth\": 0, \"ticks\": \"\"}, \"colorscale\": [[0.0, \"#0d0887\"], [0.1111111111111111, \"#46039f\"], [0.2222222222222222, \"#7201a8\"], [0.3333333333333333, \"#9c179e\"], [0.4444444444444444, \"#bd3786\"], [0.5555555555555556, \"#d8576b\"], [0.6666666666666666, \"#ed7953\"], [0.7777777777777778, \"#fb9f3a\"], [0.8888888888888888, \"#fdca26\"], [1.0, \"#f0f921\"]], \"type\": \"heatmapgl\"}], \"histogram\": [{\"marker\": {\"colorbar\": {\"outlinewidth\": 0, \"ticks\": \"\"}}, \"type\": \"histogram\"}], \"histogram2d\": [{\"colorbar\": {\"outlinewidth\": 0, \"ticks\": \"\"}, \"colorscale\": [[0.0, \"#0d0887\"], [0.1111111111111111, \"#46039f\"], [0.2222222222222222, \"#7201a8\"], [0.3333333333333333, \"#9c179e\"], [0.4444444444444444, \"#bd3786\"], [0.5555555555555556, \"#d8576b\"], [0.6666666666666666, \"#ed7953\"], [0.7777777777777778, \"#fb9f3a\"], [0.8888888888888888, \"#fdca26\"], [1.0, \"#f0f921\"]], \"type\": \"histogram2d\"}], \"histogram2dcontour\": [{\"colorbar\": {\"outlinewidth\": 0, \"ticks\": \"\"}, \"colorscale\": [[0.0, \"#0d0887\"], [0.1111111111111111, \"#46039f\"], [0.2222222222222222, \"#7201a8\"], [0.3333333333333333, \"#9c179e\"], [0.4444444444444444, \"#bd3786\"], [0.5555555555555556, \"#d8576b\"], [0.6666666666666666, \"#ed7953\"], [0.7777777777777778, \"#fb9f3a\"], [0.8888888888888888, \"#fdca26\"], [1.0, \"#f0f921\"]], \"type\": \"histogram2dcontour\"}], \"mesh3d\": [{\"colorbar\": {\"outlinewidth\": 0, \"ticks\": \"\"}, \"type\": \"mesh3d\"}], \"parcoords\": [{\"line\": {\"colorbar\": {\"outlinewidth\": 0, \"ticks\": \"\"}}, \"type\": \"parcoords\"}], \"pie\": [{\"automargin\": true, \"type\": \"pie\"}], \"scatter\": [{\"marker\": {\"colorbar\": {\"outlinewidth\": 0, \"ticks\": \"\"}}, \"type\": \"scatter\"}], \"scatter3d\": [{\"line\": {\"colorbar\": {\"outlinewidth\": 0, \"ticks\": \"\"}}, \"marker\": {\"colorbar\": {\"outlinewidth\": 0, \"ticks\": \"\"}}, \"type\": \"scatter3d\"}], \"scattercarpet\": [{\"marker\": {\"colorbar\": {\"outlinewidth\": 0, \"ticks\": \"\"}}, \"type\": \"scattercarpet\"}], \"scattergeo\": [{\"marker\": {\"colorbar\": {\"outlinewidth\": 0, \"ticks\": \"\"}}, \"type\": \"scattergeo\"}], \"scattergl\": [{\"marker\": {\"colorbar\": {\"outlinewidth\": 0, \"ticks\": \"\"}}, \"type\": \"scattergl\"}], \"scattermapbox\": [{\"marker\": {\"colorbar\": {\"outlinewidth\": 0, \"ticks\": \"\"}}, \"type\": \"scattermapbox\"}], \"scatterpolar\": [{\"marker\": {\"colorbar\": {\"outlinewidth\": 0, \"ticks\": \"\"}}, \"type\": \"scatterpolar\"}], \"scatterpolargl\": [{\"marker\": {\"colorbar\": {\"outlinewidth\": 0, \"ticks\": \"\"}}, \"type\": \"scatterpolargl\"}], \"scatterternary\": [{\"marker\": {\"colorbar\": {\"outlinewidth\": 0, \"ticks\": \"\"}}, \"type\": \"scatterternary\"}], \"surface\": [{\"colorbar\": {\"outlinewidth\": 0, \"ticks\": \"\"}, \"colorscale\": [[0.0, \"#0d0887\"], [0.1111111111111111, \"#46039f\"], [0.2222222222222222, \"#7201a8\"], [0.3333333333333333, \"#9c179e\"], [0.4444444444444444, \"#bd3786\"], [0.5555555555555556, \"#d8576b\"], [0.6666666666666666, \"#ed7953\"], [0.7777777777777778, \"#fb9f3a\"], [0.8888888888888888, \"#fdca26\"], [1.0, \"#f0f921\"]], \"type\": \"surface\"}], \"table\": [{\"cells\": {\"fill\": {\"color\": \"#EBF0F8\"}, \"line\": {\"color\": \"white\"}}, \"header\": {\"fill\": {\"color\": \"#C8D4E3\"}, \"line\": {\"color\": \"white\"}}, \"type\": \"table\"}]}, \"layout\": {\"annotationdefaults\": {\"arrowcolor\": \"#2a3f5f\", \"arrowhead\": 0, \"arrowwidth\": 1}, \"coloraxis\": {\"colorbar\": {\"outlinewidth\": 0, \"ticks\": \"\"}}, \"colorscale\": {\"diverging\": [[0, \"#8e0152\"], [0.1, \"#c51b7d\"], [0.2, \"#de77ae\"], [0.3, \"#f1b6da\"], [0.4, \"#fde0ef\"], [0.5, \"#f7f7f7\"], [0.6, \"#e6f5d0\"], [0.7, \"#b8e186\"], [0.8, \"#7fbc41\"], [0.9, \"#4d9221\"], [1, \"#276419\"]], \"sequential\": [[0.0, \"#0d0887\"], [0.1111111111111111, \"#46039f\"], [0.2222222222222222, \"#7201a8\"], [0.3333333333333333, \"#9c179e\"], [0.4444444444444444, \"#bd3786\"], [0.5555555555555556, \"#d8576b\"], [0.6666666666666666, \"#ed7953\"], [0.7777777777777778, \"#fb9f3a\"], [0.8888888888888888, \"#fdca26\"], [1.0, \"#f0f921\"]], \"sequentialminus\": [[0.0, \"#0d0887\"], [0.1111111111111111, \"#46039f\"], [0.2222222222222222, \"#7201a8\"], [0.3333333333333333, \"#9c179e\"], [0.4444444444444444, \"#bd3786\"], [0.5555555555555556, \"#d8576b\"], [0.6666666666666666, \"#ed7953\"], [0.7777777777777778, \"#fb9f3a\"], [0.8888888888888888, \"#fdca26\"], [1.0, \"#f0f921\"]]}, \"colorway\": [\"#636efa\", \"#EF553B\", \"#00cc96\", \"#ab63fa\", \"#FFA15A\", \"#19d3f3\", \"#FF6692\", \"#B6E880\", \"#FF97FF\", \"#FECB52\"], \"font\": {\"color\": \"#2a3f5f\"}, \"geo\": {\"bgcolor\": \"white\", \"lakecolor\": \"white\", \"landcolor\": \"#E5ECF6\", \"showlakes\": true, \"showland\": true, \"subunitcolor\": \"white\"}, \"hoverlabel\": {\"align\": \"left\"}, \"hovermode\": \"closest\", \"mapbox\": {\"style\": \"light\"}, \"paper_bgcolor\": \"white\", \"plot_bgcolor\": \"#E5ECF6\", \"polar\": {\"angularaxis\": {\"gridcolor\": \"white\", \"linecolor\": \"white\", \"ticks\": \"\"}, \"bgcolor\": \"#E5ECF6\", \"radialaxis\": {\"gridcolor\": \"white\", \"linecolor\": \"white\", \"ticks\": \"\"}}, \"scene\": {\"xaxis\": {\"backgroundcolor\": \"#E5ECF6\", \"gridcolor\": \"white\", \"gridwidth\": 2, \"linecolor\": \"white\", \"showbackground\": true, \"ticks\": \"\", \"zerolinecolor\": \"white\"}, \"yaxis\": {\"backgroundcolor\": \"#E5ECF6\", \"gridcolor\": \"white\", \"gridwidth\": 2, \"linecolor\": \"white\", \"showbackground\": true, \"ticks\": \"\", \"zerolinecolor\": \"white\"}, \"zaxis\": {\"backgroundcolor\": \"#E5ECF6\", \"gridcolor\": \"white\", \"gridwidth\": 2, \"linecolor\": \"white\", \"showbackground\": true, \"ticks\": \"\", \"zerolinecolor\": \"white\"}}, \"shapedefaults\": {\"line\": {\"color\": \"#2a3f5f\"}}, \"ternary\": {\"aaxis\": {\"gridcolor\": \"white\", \"linecolor\": \"white\", \"ticks\": \"\"}, \"baxis\": {\"gridcolor\": \"white\", \"linecolor\": \"white\", \"ticks\": \"\"}, \"bgcolor\": \"#E5ECF6\", \"caxis\": {\"gridcolor\": \"white\", \"linecolor\": \"white\", \"ticks\": \"\"}}, \"title\": {\"x\": 0.05}, \"xaxis\": {\"automargin\": true, \"gridcolor\": \"white\", \"linecolor\": \"white\", \"ticks\": \"\", \"title\": {\"standoff\": 15}, \"zerolinecolor\": \"white\", \"zerolinewidth\": 2}, \"yaxis\": {\"automargin\": true, \"gridcolor\": \"white\", \"linecolor\": \"white\", \"ticks\": \"\", \"title\": {\"standoff\": 15}, \"zerolinecolor\": \"white\", \"zerolinewidth\": 2}}}},\n",
       "                        {\"responsive\": true}\n",
       "                    ).then(function(){\n",
       "                            \n",
       "var gd = document.getElementById('75ee2035-9934-4599-96a5-642b4ce694ee');\n",
       "var x = new MutationObserver(function (mutations, observer) {{\n",
       "        var display = window.getComputedStyle(gd).display;\n",
       "        if (!display || display === 'none') {{\n",
       "            console.log([gd, 'removed!']);\n",
       "            Plotly.purge(gd);\n",
       "            observer.disconnect();\n",
       "        }}\n",
       "}});\n",
       "\n",
       "// Listen for the removal of the full notebook cells\n",
       "var notebookContainer = gd.closest('#notebook-container');\n",
       "if (notebookContainer) {{\n",
       "    x.observe(notebookContainer, {childList: true});\n",
       "}}\n",
       "\n",
       "// Listen for the clearing of the current output cell\n",
       "var outputEl = gd.closest('.output');\n",
       "if (outputEl) {{\n",
       "    x.observe(outputEl, {childList: true});\n",
       "}}\n",
       "\n",
       "                        })\n",
       "                };\n",
       "                });\n",
       "            </script>\n",
       "        </div>"
      ]
     },
     "metadata": {},
     "output_type": "display_data"
    }
   ],
   "source": [
    "import plotly.express as px\n",
    "fig = px.pie(titanic['sex'].value_counts(), values='sex',names='sex')\n",
    "fig.show()"
   ]
  },
  {
   "cell_type": "code",
   "execution_count": 14,
   "metadata": {
    "collapsed": false,
    "deletable": true,
    "editable": true
   },
   "outputs": [
    {
     "data": {
      "text/html": [
       "        <script type=\"text/javascript\">\n",
       "        window.PlotlyConfig = {MathJaxConfig: 'local'};\n",
       "        if (window.MathJax) {MathJax.Hub.Config({SVG: {font: \"STIX-Web\"}});}\n",
       "        if (typeof require !== 'undefined') {\n",
       "        require.undef(\"plotly\");\n",
       "        requirejs.config({\n",
       "            paths: {\n",
       "                'plotly': ['https://cdn.plot.ly/plotly-latest.min']\n",
       "            }\n",
       "        });\n",
       "        require(['plotly'], function(Plotly) {\n",
       "            window._Plotly = Plotly;\n",
       "        });\n",
       "        }\n",
       "        </script>\n",
       "        "
      ]
     },
     "metadata": {},
     "output_type": "display_data"
    }
   ],
   "source": [
    "import pandas as pd\n",
    "import cufflinks as cf\n",
    "import plotly.offline\n",
    "cf.go_offline()\n",
    "cf.set_config_file(offline=False, world_readable=True)"
   ]
  },
  {
   "cell_type": "code",
   "execution_count": 15,
   "metadata": {
    "collapsed": false,
    "deletable": true,
    "editable": true
   },
   "outputs": [
    {
     "data": {
      "application/vnd.plotly.v1+json": {
       "config": {
        "linkText": "Export to plot.ly",
        "plotlyServerURL": "https://plot.ly",
        "showLink": true
       },
       "data": [
        {
         "marker": {
          "color": "rgba(255, 153, 51, 1.0)",
          "line": {
           "width": 1.3
          },
          "opacity": 0.8,
          "size": 12,
          "symbol": "circle"
         },
         "mode": "markers",
         "name": "female",
         "textfont": {
          "color": "#4D5663"
         },
         "type": "scatter",
         "x": [
          29,
          2,
          25,
          63,
          53,
          18,
          24,
          26,
          50,
          32,
          47,
          42,
          29,
          19,
          35,
          30,
          58,
          45,
          22,
          44,
          59,
          60,
          41,
          53,
          58,
          14,
          36,
          null,
          76,
          47,
          33,
          36,
          30,
          null,
          26,
          22,
          39,
          64,
          55,
          36,
          64,
          38,
          33,
          27,
          17,
          54,
          27,
          48,
          48,
          23,
          38,
          54,
          36,
          null,
          null,
          24,
          28,
          23,
          60,
          30,
          null,
          22,
          48,
          35,
          35,
          22,
          45,
          null,
          19,
          58,
          45,
          25,
          49,
          35,
          24,
          52,
          16,
          44,
          51,
          35,
          35,
          38,
          50,
          null,
          45,
          39,
          49,
          30,
          55,
          16,
          51,
          21,
          58,
          15,
          16,
          18,
          24,
          null,
          33,
          37,
          31,
          23,
          19,
          39,
          22,
          22,
          17,
          30,
          56,
          43,
          33,
          33,
          54,
          18,
          21,
          48,
          24,
          35,
          30,
          40,
          39,
          18,
          23,
          40,
          null,
          43,
          52,
          62,
          63,
          48,
          18,
          39,
          null,
          39,
          null,
          35,
          60,
          55,
          31,
          45,
          50,
          21,
          31,
          36,
          28,
          36,
          36,
          19,
          4,
          12,
          36,
          19,
          24,
          15,
          40,
          20,
          36,
          42,
          22,
          35,
          44,
          29,
          25,
          45,
          28,
          8,
          31,
          22,
          30,
          null,
          48,
          28,
          24,
          18,
          34,
          34,
          27,
          30,
          29,
          38,
          34,
          24,
          6,
          7,
          45,
          24,
          24,
          48,
          55,
          18,
          20,
          54,
          29,
          60,
          17,
          24,
          23,
          24,
          22,
          null,
          45,
          26,
          1,
          3,
          22,
          17,
          null,
          34,
          42,
          57,
          24,
          13,
          41,
          14,
          29,
          50,
          21,
          19,
          32,
          2,
          8,
          33,
          30,
          28,
          24,
          50,
          21,
          25,
          18,
          20,
          30,
          30,
          40,
          50,
          28,
          27,
          27,
          31,
          31,
          12,
          40,
          32.5,
          29,
          4,
          29,
          0.9167,
          5,
          33,
          26,
          24,
          35,
          16,
          18,
          40,
          18,
          19,
          6,
          2,
          17,
          38,
          9,
          11,
          39,
          18,
          5,
          38,
          45,
          17,
          13,
          33,
          0.75,
          0.75,
          5,
          24,
          18,
          18,
          45,
          27,
          9,
          null,
          null,
          32,
          22,
          20,
          18.5,
          18,
          21,
          30,
          21,
          null,
          16,
          37,
          22,
          30,
          36,
          17,
          22,
          30,
          28,
          null,
          36,
          0.1667,
          33,
          19,
          30,
          24,
          23,
          22,
          5,
          null,
          21,
          9,
          48,
          16,
          null,
          31,
          10,
          16,
          43,
          24,
          17,
          24,
          45,
          null,
          null,
          18,
          26,
          23,
          22,
          28,
          null,
          2,
          22,
          27,
          null,
          27,
          25,
          null,
          1,
          27,
          null,
          null,
          20,
          21,
          4,
          null,
          null,
          null,
          22,
          4,
          26,
          1,
          36,
          37,
          22,
          null,
          null,
          null,
          null,
          null,
          25,
          45,
          30,
          26,
          23,
          null,
          null,
          30.5,
          null,
          null,
          null,
          null,
          null,
          null,
          null,
          15,
          35,
          19,
          null,
          null,
          null,
          null,
          27,
          null,
          null,
          null,
          null,
          24,
          null,
          null,
          null,
          15,
          1,
          19,
          null,
          14,
          29,
          18,
          26,
          22,
          null,
          null,
          null,
          null,
          22,
          null,
          31,
          23,
          20,
          31,
          null,
          3,
          8,
          29,
          41,
          3,
          26,
          null,
          null,
          null,
          28,
          18,
          null,
          39,
          22,
          null,
          null,
          47,
          2,
          41,
          null,
          null,
          null,
          null,
          null,
          null,
          21,
          1,
          24,
          4,
          null,
          18,
          9,
          2,
          45,
          null,
          23,
          22,
          2,
          29,
          16,
          null,
          9,
          29,
          18,
          63,
          10,
          30,
          18,
          31,
          14,
          38,
          47,
          15,
          14.5,
          null
         ],
         "y": [
          211.3375,
          151.55,
          151.55,
          77.9583,
          51.4792,
          227.525,
          69.3,
          78.85,
          247.5208,
          76.2917,
          52.5542,
          227.525,
          221.7792,
          91.0792,
          135.6333,
          164.8667,
          26.55,
          262.375,
          55,
          27.7208,
          51.4792,
          76.2917,
          134.5,
          27.4458,
          512.3292,
          120,
          120,
          27.7208,
          78.85,
          61.175,
          53.1,
          262.375,
          86.5,
          55,
          136.7792,
          151.55,
          83.1583,
          83.1583,
          25.7,
          71,
          26.55,
          71.2833,
          151.55,
          52,
          57,
          81.8583,
          247.5208,
          106.425,
          39.6,
          83.1583,
          227.525,
          78.2667,
          31.6792,
          31.6833,
          110.8833,
          263,
          263,
          263,
          263,
          56.9292,
          133.65,
          49.5,
          79.2,
          53.1,
          211.5,
          59.4,
          59.4,
          89.1042,
          30,
          153.4625,
          63.3583,
          55.4417,
          76.7292,
          83.475,
          83.1583,
          93.5,
          57.9792,
          57.9792,
          77.9583,
          52,
          90,
          80,
          28.7125,
          51.8625,
          52.5542,
          211.3375,
          25.9292,
          106.425,
          27.7208,
          39.4,
          39.4,
          77.9583,
          146.5208,
          211.3375,
          86.5,
          53.1,
          49.5042,
          82.1708,
          90,
          90,
          113.275,
          113.275,
          26.2833,
          108.9,
          61.9792,
          66.6,
          108.9,
          93.5,
          83.1583,
          211.3375,
          27.7208,
          86.5,
          59.4,
          262.375,
          262.375,
          262.375,
          69.3,
          57.75,
          31,
          153.4625,
          55.9,
          60,
          82.2667,
          134.5,
          146.5208,
          55.4417,
          78.2667,
          80,
          221.7792,
          25.9292,
          79.65,
          79.65,
          52,
          110.8833,
          79.2,
          512.3292,
          75.25,
          135.6333,
          164.8667,
          164.8667,
          211.5,
          26.55,
          134.5,
          135.6333,
          24,
          26,
          13,
          26,
          39,
          39,
          39,
          13,
          13,
          39,
          39,
          26,
          13,
          13,
          29,
          21,
          26,
          26,
          30,
          30,
          26,
          26.25,
          26.25,
          10.5,
          13,
          21,
          36.75,
          13,
          27.7208,
          23,
          23,
          32.5,
          13.8583,
          13.8583,
          26,
          13,
          13,
          14.5,
          33,
          26.25,
          26.25,
          65,
          65,
          65,
          16,
          13,
          23,
          23,
          26,
          26,
          10.5,
          27,
          13.7917,
          26,
          21,
          12.35,
          13.5,
          26,
          41.5792,
          41.5792,
          41.5792,
          12,
          33,
          10.5,
          26,
          10.5,
          37.0042,
          19.5,
          19.5,
          30.0708,
          10.5,
          26,
          21,
          26,
          13,
          26,
          26,
          26,
          21,
          13,
          18.75,
          10.5,
          10.5,
          26,
          13,
          36.75,
          13,
          12.35,
          13,
          10.5,
          12.65,
          10.5,
          21,
          21,
          21,
          15.75,
          15.75,
          13,
          26,
          23,
          23,
          27.75,
          27.75,
          27.75,
          13.5,
          13,
          20.25,
          7.65,
          7.2292,
          9.475,
          9.35,
          7.8542,
          31.275,
          31.275,
          7.925,
          7.775,
          31.275,
          31.275,
          31.275,
          17.8,
          31.3875,
          31.3875,
          7.225,
          14.4583,
          7.2292,
          15.85,
          19.2583,
          19.2583,
          19.2583,
          19.2583,
          8.05,
          14.4542,
          14.4542,
          7.8792,
          15.2458,
          15.2458,
          7.75,
          15.5,
          7.725,
          7.8542,
          7.2833,
          7.8792,
          8.6625,
          8.6625,
          7.75,
          14.4583,
          7.75,
          7.75,
          7.75,
          7.6292,
          15.9,
          16.1,
          10.5167,
          6.95,
          14.4,
          16.1,
          17.4,
          20.575,
          20.575,
          7.8792,
          12.475,
          7.75,
          8.05,
          13.9,
          12.475,
          7.75,
          34.375,
          34.375,
          34.375,
          7.7333,
          7.75,
          20.525,
          46.9,
          46.9,
          46.9,
          8.85,
          7.7333,
          15.85,
          14.1083,
          7.55,
          7.75,
          6.75,
          7.925,
          7.925,
          8.9625,
          7.775,
          7.75,
          12.2875,
          12.2875,
          7.925,
          8.05,
          7.925,
          7.925,
          7.75,
          11.1333,
          11.1333,
          23.45,
          23.45,
          9.825,
          9.825,
          13.4167,
          7.75,
          7.75,
          14.4542,
          8.6625,
          22.025,
          22.025,
          12.1833,
          12.1833,
          9.5875,
          7.25,
          25.4667,
          25.4667,
          25.4667,
          25.4667,
          15.5,
          7.775,
          7.75,
          15.55,
          16.1,
          7.8542,
          7.75,
          7.8792,
          7.75,
          7.7375,
          7.225,
          7.75,
          23.25,
          23.25,
          7.7875,
          7.8792,
          8.0292,
          7.75,
          16.1,
          7.75,
          8.05,
          8.05,
          7.8792,
          12.475,
          24.15,
          15.2458,
          7.2292,
          7.7333,
          7.75,
          15.5,
          15.5,
          15.5,
          7.225,
          15.7417,
          15.7417,
          7.75,
          11.2417,
          7.925,
          7.775,
          7.8542,
          7.75,
          15.5,
          7.75,
          7.75,
          7.8792,
          7.775,
          7.8292,
          7.8542,
          8.6625,
          8.6625,
          8.6833,
          7.6292,
          21.075,
          21.075,
          21.075,
          39.6875,
          13.775,
          13.775,
          22.3583,
          22.3583,
          8.1375,
          7.8958,
          7.775,
          8.1125,
          29.125,
          39.6875,
          7.7208,
          14.5,
          14.5,
          20.2125,
          20.2125,
          8.05,
          69.55,
          69.55,
          69.55,
          69.55,
          69.55,
          7.65,
          16.7,
          16.7,
          16.7,
          7.7792,
          7.4958,
          27.9,
          27.9,
          27.9,
          7.7333,
          7.55,
          9.8375,
          10.4625,
          10.4625,
          8.5167,
          16.1,
          15.2458,
          15.2458,
          9.8417,
          9.5875,
          24.15,
          24.15,
          18,
          18,
          7.8542,
          7.2292,
          7,
          14.4542,
          14.4542,
          14.4542
         ]
        },
        {
         "marker": {
          "color": "rgba(55, 128, 191, 1.0)",
          "line": {
           "width": 1.3
          },
          "opacity": 0.8,
          "size": 12,
          "symbol": "circle"
         },
         "mode": "markers",
         "name": "male",
         "textfont": {
          "color": "#4D5663"
         },
         "type": "scatter",
         "x": [
          0.9167,
          30,
          48,
          39,
          71,
          47,
          80,
          null,
          24,
          36,
          37,
          26,
          25,
          25,
          28,
          45,
          40,
          42,
          null,
          41,
          48,
          null,
          45,
          null,
          42,
          36,
          33,
          28,
          17,
          11,
          36,
          49,
          36,
          46,
          27,
          45,
          null,
          27,
          null,
          47,
          37,
          null,
          70,
          39,
          51,
          27,
          31,
          31,
          53,
          4,
          50,
          49,
          39,
          null,
          36,
          30,
          19,
          64,
          null,
          50,
          43,
          60,
          null,
          37,
          47,
          24,
          49,
          71,
          53,
          38,
          23,
          46,
          25,
          48,
          null,
          45,
          40,
          27,
          null,
          55,
          42,
          null,
          55,
          42,
          35,
          38,
          null,
          49,
          46,
          50,
          32.5,
          58,
          41,
          42,
          null,
          35,
          null,
          42,
          29,
          30,
          30,
          null,
          19,
          46,
          54,
          36,
          28,
          65,
          44,
          30,
          55,
          47,
          37,
          58,
          64,
          null,
          65,
          28.5,
          null,
          45.5,
          23,
          29,
          18,
          52,
          47,
          38,
          null,
          22,
          null,
          31,
          45,
          null,
          46,
          36,
          55,
          33,
          13,
          61,
          null,
          null,
          34,
          35,
          50,
          56,
          28,
          56,
          56,
          24,
          null,
          24,
          6,
          45,
          57,
          32,
          62,
          54,
          null,
          67,
          61,
          52,
          48,
          49,
          17,
          31,
          40,
          61,
          47,
          64,
          60,
          54,
          21,
          57,
          50,
          27,
          51,
          21,
          null,
          null,
          62,
          30,
          30,
          18,
          25,
          34,
          57,
          18,
          23,
          28,
          51,
          32,
          28,
          1,
          34,
          23,
          26,
          42,
          27,
          60,
          25,
          25,
          42,
          0.8333,
          26,
          null,
          19,
          54,
          52,
          37,
          29,
          29,
          28,
          24,
          31,
          21,
          null,
          8,
          18,
          32,
          17,
          29,
          25,
          18,
          54,
          8,
          42,
          23,
          21,
          18,
          40,
          18,
          36,
          null,
          35,
          38,
          34,
          16,
          26,
          47,
          21,
          21,
          24,
          24,
          34,
          30,
          52,
          30,
          0.6667,
          44,
          28,
          62,
          30,
          43,
          49,
          24,
          32,
          21,
          23,
          36,
          50,
          44,
          21,
          42,
          63,
          33,
          42,
          47,
          24,
          22,
          32,
          34,
          35,
          57,
          null,
          31,
          30,
          null,
          25,
          36,
          24,
          61,
          50,
          null,
          1,
          31,
          null,
          30,
          40,
          32,
          30,
          46,
          19,
          39,
          48,
          70,
          27,
          54,
          39,
          16,
          62,
          32.5,
          2,
          3,
          36.5,
          26,
          19,
          28,
          20,
          39,
          22,
          null,
          23,
          29,
          28,
          null,
          19,
          null,
          41,
          43,
          34,
          30,
          27,
          36,
          34,
          23,
          0.8333,
          3,
          19,
          26,
          25,
          27,
          59,
          35,
          25,
          41,
          25,
          18.5,
          14,
          23,
          29,
          40,
          30,
          23,
          null,
          27,
          2,
          36,
          66,
          null,
          31,
          null,
          42,
          13,
          16,
          25,
          20,
          30,
          26,
          0.8333,
          26,
          26,
          20,
          24,
          25,
          35,
          18,
          32,
          4,
          39,
          27,
          26,
          20,
          26,
          25,
          24,
          35,
          5,
          9,
          3,
          13,
          40,
          23,
          21,
          23,
          30,
          23,
          20,
          32,
          40,
          26,
          20,
          22,
          19,
          26,
          22,
          null,
          20,
          32,
          21,
          18,
          26,
          6,
          null,
          40,
          21,
          29,
          22,
          22,
          35,
          21,
          19,
          18,
          38,
          17,
          17,
          21,
          21,
          null,
          28,
          24,
          28,
          24,
          21,
          32,
          29,
          26,
          18,
          20,
          18,
          24,
          36,
          24,
          31,
          31,
          70.5,
          43,
          35,
          27,
          19,
          30,
          9,
          3,
          59,
          19,
          44,
          17,
          22.5,
          45,
          19,
          29,
          0.3333,
          34,
          27,
          25,
          24,
          22,
          21,
          17,
          null,
          36.5,
          30,
          16,
          1,
          26,
          25,
          null,
          null,
          22,
          36,
          17,
          42,
          43,
          null,
          32,
          19,
          33,
          65,
          24,
          23,
          18,
          16,
          45,
          null,
          39,
          17,
          15,
          47,
          null,
          40.5,
          40.5,
          null,
          18,
          null,
          null,
          26,
          null,
          null,
          null,
          18,
          16,
          null,
          null,
          25,
          null,
          null,
          22,
          9,
          33,
          41,
          38,
          9,
          1,
          11,
          14,
          40,
          51,
          32,
          null,
          20,
          37,
          28,
          19,
          null,
          null,
          28,
          20,
          23.5,
          41,
          26,
          21,
          25,
          null,
          11,
          27,
          null,
          28,
          43,
          28,
          null,
          42,
          null,
          30,
          null,
          null,
          29,
          21,
          null,
          20,
          48,
          17,
          null,
          34,
          26,
          22,
          33,
          31,
          29,
          4,
          49,
          33,
          19,
          null,
          null,
          23,
          32,
          27,
          32,
          17,
          21,
          30,
          21,
          33,
          22,
          39,
          null,
          18.5,
          null,
          null,
          34.5,
          44,
          null,
          null,
          null,
          null,
          null,
          26,
          29,
          18,
          null,
          25,
          null,
          null,
          null,
          null,
          null,
          26,
          29,
          29,
          22,
          22,
          null,
          32,
          34.5,
          null,
          36,
          39,
          24,
          36,
          20,
          null,
          28,
          null,
          30,
          null,
          20.5,
          27,
          51,
          32,
          null,
          null,
          24,
          22,
          null,
          null,
          29,
          null,
          null,
          35,
          33,
          null,
          null,
          null,
          null,
          null,
          24,
          55.5,
          null,
          21,
          null,
          24,
          21,
          28,
          null,
          25,
          6,
          null,
          null,
          null,
          34,
          null,
          null,
          null,
          null,
          null,
          null,
          18,
          22,
          20,
          33,
          null,
          null,
          null,
          12,
          28,
          21,
          41,
          39,
          21,
          28.5,
          61,
          null,
          null,
          null,
          null,
          null,
          23,
          null,
          9,
          28,
          42,
          null,
          28,
          32,
          20,
          20,
          16,
          2,
          6,
          1,
          7,
          2,
          16,
          14,
          21,
          19,
          null,
          32,
          0.75,
          null,
          null,
          null,
          21,
          25,
          22,
          25,
          null,
          24,
          19,
          null,
          25,
          32,
          null,
          17,
          24,
          null,
          null,
          null,
          38,
          21,
          10,
          4,
          7,
          2,
          8,
          35,
          null,
          50,
          null,
          null,
          18,
          50,
          16,
          null,
          null,
          null,
          25,
          null,
          null,
          null,
          38.5,
          null,
          14.5,
          null,
          null,
          null,
          null,
          24,
          39,
          null,
          null,
          null,
          25,
          20,
          24.5,
          null,
          null,
          null,
          29,
          null,
          null,
          null,
          22,
          null,
          40,
          21,
          4,
          10,
          40,
          null,
          null,
          null,
          null,
          19,
          30,
          null,
          32,
          null,
          33,
          21,
          60.5,
          19,
          31,
          27,
          16,
          44,
          25,
          74,
          14,
          24,
          25,
          34,
          0.4167,
          null,
          null,
          null,
          null,
          null,
          32,
          null,
          null,
          30.5,
          44,
          null,
          25,
          null,
          7,
          36,
          null,
          11.5,
          40.5,
          36,
          null,
          33,
          28,
          28,
          47,
          31,
          16,
          22,
          20,
          22,
          22,
          null,
          null,
          null,
          32.5,
          51,
          18,
          21,
          null,
          null,
          null,
          28.5,
          21,
          27,
          null,
          36,
          27,
          45.5,
          null,
          null,
          26.5,
          27,
          29
         ],
         "y": [
          151.55,
          151.55,
          26.55,
          0,
          49.5042,
          227.525,
          30,
          25.925,
          247.5208,
          75.2417,
          52.5542,
          30,
          26,
          91.0792,
          26.55,
          35.5,
          31,
          26.55,
          26.55,
          30.5,
          50.4958,
          39.6,
          26.55,
          31,
          26.2875,
          512.3292,
          5,
          47.1,
          47.1,
          120,
          120,
          26,
          78.85,
          61.175,
          53.1,
          29.7,
          0,
          136.7792,
          52,
          25.5875,
          83.1583,
          26.55,
          71,
          71.2833,
          26.55,
          30.5,
          52,
          57,
          81.8583,
          81.8583,
          106.425,
          56.9292,
          29.7,
          221.7792,
          26.3875,
          27.75,
          263,
          263,
          26.55,
          133.65,
          27.7208,
          79.2,
          0,
          53.1,
          38.5,
          79.2,
          89.1042,
          34.6542,
          28.5,
          153.4625,
          63.3583,
          79.2,
          55.4417,
          76.7292,
          42.4,
          83.475,
          0,
          76.7292,
          30,
          93.5,
          42.5,
          51.8625,
          50,
          52,
          26.55,
          90,
          30.6958,
          0,
          26,
          26,
          211.5,
          29.7,
          51.8625,
          52.5542,
          26.55,
          512.3292,
          27.7208,
          26.55,
          30,
          45.5,
          26,
          29.7,
          53.1,
          75.2417,
          51.8625,
          26.2875,
          82.1708,
          26.55,
          90,
          57.75,
          30.5,
          42.4,
          29.7,
          113.275,
          26,
          25.7417,
          61.9792,
          27.7208,
          0,
          28.5,
          93.5,
          66.6,
          108.9,
          30.5,
          52,
          0,
          39.6,
          135.6333,
          227.525,
          50.4958,
          26.55,
          50,
          79.2,
          40.125,
          59.4,
          26.55,
          262.375,
          262.375,
          30.5,
          26,
          26.55,
          26.2875,
          55.9,
          35.5,
          35.5,
          26.55,
          30.6958,
          60,
          26,
          82.2667,
          134.5,
          134.5,
          146.5208,
          30.5,
          26.55,
          55.4417,
          27.7208,
          221.7792,
          32.3208,
          79.65,
          52,
          110.8833,
          110.8833,
          28.5375,
          27.7208,
          33.5,
          34.0208,
          75.25,
          26.55,
          77.2875,
          77.2875,
          164.8667,
          211.5,
          211.5,
          61.3792,
          61.3792,
          35,
          35.5,
          26.55,
          24,
          13,
          11.5,
          10.5,
          26,
          13,
          11.5,
          10.5,
          10.5,
          12.525,
          26,
          26,
          39,
          13,
          13,
          13,
          13,
          13,
          39,
          26,
          13,
          13,
          29,
          29,
          0,
          13,
          26,
          13.5,
          26,
          26,
          10.5,
          13,
          10.5,
          26.25,
          11.5,
          0,
          36.75,
          73.5,
          13,
          73.5,
          27.7208,
          31.5,
          73.5,
          26,
          32.5,
          32.5,
          13,
          13,
          13,
          26,
          10.5,
          13,
          0,
          26,
          21,
          21,
          26,
          10.5,
          10.5,
          11.5,
          11.5,
          13.5,
          13,
          13,
          13,
          13,
          13,
          14.5,
          13,
          33,
          10.5,
          10.5,
          26.25,
          65,
          73.5,
          73.5,
          73.5,
          11.5,
          13,
          13,
          26,
          73.5,
          13,
          26,
          12.275,
          27,
          15,
          31.5,
          31.5,
          10.5,
          26,
          12.35,
          12.35,
          0,
          10.5,
          26,
          10.7083,
          41.5792,
          12.875,
          10.5,
          12.35,
          26,
          15.0458,
          37.0042,
          37.0042,
          15.5792,
          13,
          16,
          13.5,
          13,
          26,
          10.5,
          13,
          13,
          10.5,
          13,
          14,
          26,
          10.5,
          9.6875,
          30.0708,
          26,
          26,
          26,
          13,
          36.75,
          13.5,
          13.8625,
          13,
          10.5,
          13.8625,
          10.5,
          13.8583,
          10.5,
          0,
          10.5,
          15.05,
          13,
          21,
          13,
          12.7375,
          15.0333,
          10.5,
          21,
          15.0458,
          18.75,
          18.75,
          10.5,
          13,
          13,
          26,
          13.5,
          10.5,
          13,
          15.0458,
          10.5,
          13,
          65,
          13,
          21,
          13,
          21,
          10.5,
          0,
          26,
          23,
          27.75,
          10.5,
          12.875,
          13,
          13,
          7.55,
          20.25,
          20.25,
          7.65,
          7.925,
          7.25,
          8.05,
          9.35,
          18.7875,
          7.8875,
          7.925,
          7.05,
          7.05,
          8.05,
          8.3,
          22.525,
          31.275,
          31.275,
          7.7958,
          7.775,
          7.8542,
          7.8958,
          17.8,
          7.775,
          7.05,
          31.3875,
          31.3875,
          31.3875,
          31.3875,
          31.3875,
          7.7958,
          7.225,
          7.05,
          7.225,
          7.8542,
          7.225,
          15.85,
          7.225,
          7.8958,
          7.2292,
          8.05,
          8.05,
          7.775,
          9.35,
          7.2292,
          4.0125,
          56.4958,
          7.775,
          7.75,
          7.8958,
          15.2458,
          7.225,
          15.5,
          16.1,
          7.0458,
          7.25,
          7.7958,
          8.05,
          7.8208,
          6.75,
          8.6625,
          8.6625,
          8.6625,
          8.6625,
          7.75,
          8.05,
          14.4583,
          7.7958,
          7.8542,
          7.25,
          8.05,
          7.7333,
          56.4958,
          8.05,
          14.4542,
          14.4542,
          7.05,
          8.05,
          7.25,
          7.4958,
          7.4958,
          7.7333,
          7.75,
          7.75,
          8.05,
          7.8958,
          7.8958,
          7.8958,
          8.05,
          15.9,
          15.9,
          7.25,
          8.1583,
          16.1,
          8.6625,
          7.225,
          8.05,
          10.1708,
          7.75,
          14.4,
          14.4,
          7.8958,
          7.8958,
          24.15,
          8.05,
          24.15,
          8.05,
          16.1,
          17.4,
          9.5,
          9.5,
          20.575,
          20.575,
          7.8958,
          7.8958,
          7.8958,
          7.25,
          7.25,
          7.8958,
          8.6625,
          7.8958,
          7.2292,
          7.75,
          8.05,
          7.8958,
          7.75,
          7.55,
          13.9,
          7.775,
          7.775,
          6.975,
          7.225,
          7.2292,
          7.2292,
          7.2292,
          7.25,
          7.225,
          15.1,
          7.75,
          7.05,
          7.7958,
          7.75,
          6.95,
          7.8792,
          7.75,
          56.4958,
          8.05,
          34.375,
          34.375,
          7.75,
          7.25,
          7.7417,
          14.5,
          7.8958,
          8.05,
          20.525,
          20.525,
          7.85,
          7.05,
          46.9,
          46.9,
          46.9,
          46.9,
          46.9,
          8.05,
          8.3625,
          8.05,
          9.8458,
          7.925,
          7.925,
          7.775,
          19.9667,
          19.9667,
          15.85,
          9.5,
          7.2292,
          14.1083,
          7.8542,
          7.8542,
          7.25,
          6.8583,
          18.7875,
          6.975,
          56.4958,
          7.8958,
          6.45,
          22.525,
          7.75,
          7.65,
          7.8875,
          7.2292,
          7.8958,
          7.8958,
          7.8958,
          7.7958,
          7.05,
          7.8542,
          7.8542,
          7.0542,
          8.1125,
          6.4958,
          7.775,
          7.7958,
          8.6542,
          7.775,
          7.8542,
          11.1333,
          0,
          7.775,
          0,
          23.45,
          23.45,
          7.8958,
          7.8542,
          7.8542,
          7.925,
          7.125,
          8.4333,
          7.8958,
          7.7958,
          7.8542,
          7.5208,
          13.4167,
          7.2292,
          7.2292,
          7.75,
          7.25,
          7.8292,
          8.05,
          7.75,
          14.4542,
          7.75,
          7.75,
          7.7375,
          8.6625,
          22.025,
          7.8542,
          7.8958,
          7.2292,
          7.225,
          7.8958,
          56.4958,
          56.4958,
          7.75,
          56.4958,
          9.4833,
          7.775,
          7.775,
          7.225,
          25.4667,
          7.925,
          6.4375,
          15.5,
          0,
          24.15,
          9.5,
          15.55,
          7.925,
          7.8792,
          56.4958,
          7.55,
          16.1,
          7.8792,
          7.25,
          8.6625,
          7.0542,
          7.5792,
          7.8958,
          7.55,
          7.1417,
          7.125,
          7.75,
          8.05,
          7.925,
          7.2292,
          7.2292,
          7.8958,
          7.8958,
          7.8958,
          7.75,
          23.25,
          15.5,
          7.75,
          16.1,
          8.05,
          7.75,
          7.775,
          8.05,
          7.8958,
          7.8958,
          7.8958,
          7.8958,
          7.65,
          12.475,
          8.05,
          24.15,
          8.4583,
          8.05,
          7.75,
          7.775,
          15.2458,
          15.2458,
          8.05,
          8.05,
          7.75,
          7.8958,
          15.7417,
          8.05,
          7.8958,
          7.2292,
          7.8958,
          11.2417,
          8.05,
          7.8542,
          7.125,
          7.925,
          7.8,
          7.2292,
          6.2375,
          15.5,
          7.8292,
          7.7333,
          7.75,
          7.75,
          9.225,
          7.75,
          3.1708,
          22.525,
          8.4042,
          7.3125,
          7.8542,
          7.775,
          9.225,
          8.6625,
          9.2167,
          21.075,
          21.075,
          39.6875,
          39.6875,
          39.6875,
          39.6875,
          39.6875,
          8.6625,
          14.5,
          8.7125,
          7.8958,
          13.775,
          7,
          7.775,
          8.05,
          7.925,
          7.925,
          7.25,
          7.775,
          22.3583,
          8.05,
          7.8958,
          7.8958,
          7.775,
          8.05,
          7.8958,
          8.6625,
          8.6625,
          7.8958,
          7.2292,
          7.25,
          7.8958,
          8.05,
          29.125,
          29.125,
          29.125,
          29.125,
          29.125,
          7.125,
          14.5,
          14.5,
          8.05,
          7.775,
          20.2125,
          8.05,
          8.05,
          7.75,
          24.15,
          7.2292,
          7.225,
          7.225,
          7.7292,
          7.575,
          7.25,
          69.55,
          69.55,
          69.55,
          69.55,
          69.55,
          69.55,
          9.325,
          7.925,
          21.6792,
          21.6792,
          21.6792,
          9.5,
          8.05,
          8.05,
          7.725,
          7.8958,
          7.75,
          9.5,
          15.1,
          8.05,
          8.05,
          7.2292,
          8.05,
          7.8958,
          7.925,
          27.9,
          27.9,
          27.9,
          7.8958,
          8.05,
          8.6625,
          7.75,
          7.65,
          8.05,
          8.05,
          8.05,
          7.8958,
          8.6625,
          8.05,
          null,
          7.8958,
          7.925,
          8.6625,
          8.05,
          7.925,
          7.05,
          7.775,
          9.225,
          7.7958,
          7.7958,
          8.05,
          8.5167,
          6.4375,
          6.4375,
          7.225,
          8.05,
          16.1,
          7.925,
          7.75,
          7.8958,
          8.05,
          8.05,
          7.2292,
          0,
          7.2292,
          15.2458,
          7.8958,
          14.5,
          14.5,
          14.5,
          24.15,
          9.5,
          9.5,
          9.5,
          9.5,
          9,
          18,
          18,
          7.225,
          7.8542,
          7.8958,
          9,
          8.05,
          7.55,
          8.05,
          9.5,
          7.75,
          6.4958,
          6.4958,
          8.7125,
          7.55,
          8.05,
          16.1,
          7.25,
          8.6625,
          7.25,
          9.5,
          14.4542,
          7.225,
          7.225,
          14.4583,
          7.225,
          7.225,
          7.875
         ]
        },
        {
         "marker": {
          "color": "rgba(50, 171, 96, 1.0)",
          "line": {
           "width": 1.3
          },
          "opacity": 0.8,
          "size": 12,
          "symbol": "circle"
         },
         "mode": "markers",
         "name": "nan",
         "textfont": {
          "color": "#4D5663"
         },
         "type": "scatter",
         "x": [],
         "y": []
        }
       ],
       "layout": {
        "legend": {
         "bgcolor": "#FFFFFF",
         "font": {
          "color": "#4D5663"
         }
        },
        "paper_bgcolor": "#FFFFFF",
        "plot_bgcolor": "#FFFFFF",
        "template": {
         "data": {
          "bar": [
           {
            "error_x": {
             "color": "#2a3f5f"
            },
            "error_y": {
             "color": "#2a3f5f"
            },
            "marker": {
             "line": {
              "color": "#E5ECF6",
              "width": 0.5
             }
            },
            "type": "bar"
           }
          ],
          "barpolar": [
           {
            "marker": {
             "line": {
              "color": "#E5ECF6",
              "width": 0.5
             }
            },
            "type": "barpolar"
           }
          ],
          "carpet": [
           {
            "aaxis": {
             "endlinecolor": "#2a3f5f",
             "gridcolor": "white",
             "linecolor": "white",
             "minorgridcolor": "white",
             "startlinecolor": "#2a3f5f"
            },
            "baxis": {
             "endlinecolor": "#2a3f5f",
             "gridcolor": "white",
             "linecolor": "white",
             "minorgridcolor": "white",
             "startlinecolor": "#2a3f5f"
            },
            "type": "carpet"
           }
          ],
          "choropleth": [
           {
            "colorbar": {
             "outlinewidth": 0,
             "ticks": ""
            },
            "type": "choropleth"
           }
          ],
          "contour": [
           {
            "colorbar": {
             "outlinewidth": 0,
             "ticks": ""
            },
            "colorscale": [
             [
              0,
              "#0d0887"
             ],
             [
              0.1111111111111111,
              "#46039f"
             ],
             [
              0.2222222222222222,
              "#7201a8"
             ],
             [
              0.3333333333333333,
              "#9c179e"
             ],
             [
              0.4444444444444444,
              "#bd3786"
             ],
             [
              0.5555555555555556,
              "#d8576b"
             ],
             [
              0.6666666666666666,
              "#ed7953"
             ],
             [
              0.7777777777777778,
              "#fb9f3a"
             ],
             [
              0.8888888888888888,
              "#fdca26"
             ],
             [
              1,
              "#f0f921"
             ]
            ],
            "type": "contour"
           }
          ],
          "contourcarpet": [
           {
            "colorbar": {
             "outlinewidth": 0,
             "ticks": ""
            },
            "type": "contourcarpet"
           }
          ],
          "heatmap": [
           {
            "colorbar": {
             "outlinewidth": 0,
             "ticks": ""
            },
            "colorscale": [
             [
              0,
              "#0d0887"
             ],
             [
              0.1111111111111111,
              "#46039f"
             ],
             [
              0.2222222222222222,
              "#7201a8"
             ],
             [
              0.3333333333333333,
              "#9c179e"
             ],
             [
              0.4444444444444444,
              "#bd3786"
             ],
             [
              0.5555555555555556,
              "#d8576b"
             ],
             [
              0.6666666666666666,
              "#ed7953"
             ],
             [
              0.7777777777777778,
              "#fb9f3a"
             ],
             [
              0.8888888888888888,
              "#fdca26"
             ],
             [
              1,
              "#f0f921"
             ]
            ],
            "type": "heatmap"
           }
          ],
          "heatmapgl": [
           {
            "colorbar": {
             "outlinewidth": 0,
             "ticks": ""
            },
            "colorscale": [
             [
              0,
              "#0d0887"
             ],
             [
              0.1111111111111111,
              "#46039f"
             ],
             [
              0.2222222222222222,
              "#7201a8"
             ],
             [
              0.3333333333333333,
              "#9c179e"
             ],
             [
              0.4444444444444444,
              "#bd3786"
             ],
             [
              0.5555555555555556,
              "#d8576b"
             ],
             [
              0.6666666666666666,
              "#ed7953"
             ],
             [
              0.7777777777777778,
              "#fb9f3a"
             ],
             [
              0.8888888888888888,
              "#fdca26"
             ],
             [
              1,
              "#f0f921"
             ]
            ],
            "type": "heatmapgl"
           }
          ],
          "histogram": [
           {
            "marker": {
             "colorbar": {
              "outlinewidth": 0,
              "ticks": ""
             }
            },
            "type": "histogram"
           }
          ],
          "histogram2d": [
           {
            "colorbar": {
             "outlinewidth": 0,
             "ticks": ""
            },
            "colorscale": [
             [
              0,
              "#0d0887"
             ],
             [
              0.1111111111111111,
              "#46039f"
             ],
             [
              0.2222222222222222,
              "#7201a8"
             ],
             [
              0.3333333333333333,
              "#9c179e"
             ],
             [
              0.4444444444444444,
              "#bd3786"
             ],
             [
              0.5555555555555556,
              "#d8576b"
             ],
             [
              0.6666666666666666,
              "#ed7953"
             ],
             [
              0.7777777777777778,
              "#fb9f3a"
             ],
             [
              0.8888888888888888,
              "#fdca26"
             ],
             [
              1,
              "#f0f921"
             ]
            ],
            "type": "histogram2d"
           }
          ],
          "histogram2dcontour": [
           {
            "colorbar": {
             "outlinewidth": 0,
             "ticks": ""
            },
            "colorscale": [
             [
              0,
              "#0d0887"
             ],
             [
              0.1111111111111111,
              "#46039f"
             ],
             [
              0.2222222222222222,
              "#7201a8"
             ],
             [
              0.3333333333333333,
              "#9c179e"
             ],
             [
              0.4444444444444444,
              "#bd3786"
             ],
             [
              0.5555555555555556,
              "#d8576b"
             ],
             [
              0.6666666666666666,
              "#ed7953"
             ],
             [
              0.7777777777777778,
              "#fb9f3a"
             ],
             [
              0.8888888888888888,
              "#fdca26"
             ],
             [
              1,
              "#f0f921"
             ]
            ],
            "type": "histogram2dcontour"
           }
          ],
          "mesh3d": [
           {
            "colorbar": {
             "outlinewidth": 0,
             "ticks": ""
            },
            "type": "mesh3d"
           }
          ],
          "parcoords": [
           {
            "line": {
             "colorbar": {
              "outlinewidth": 0,
              "ticks": ""
             }
            },
            "type": "parcoords"
           }
          ],
          "pie": [
           {
            "automargin": true,
            "type": "pie"
           }
          ],
          "scatter": [
           {
            "marker": {
             "colorbar": {
              "outlinewidth": 0,
              "ticks": ""
             }
            },
            "type": "scatter"
           }
          ],
          "scatter3d": [
           {
            "line": {
             "colorbar": {
              "outlinewidth": 0,
              "ticks": ""
             }
            },
            "marker": {
             "colorbar": {
              "outlinewidth": 0,
              "ticks": ""
             }
            },
            "type": "scatter3d"
           }
          ],
          "scattercarpet": [
           {
            "marker": {
             "colorbar": {
              "outlinewidth": 0,
              "ticks": ""
             }
            },
            "type": "scattercarpet"
           }
          ],
          "scattergeo": [
           {
            "marker": {
             "colorbar": {
              "outlinewidth": 0,
              "ticks": ""
             }
            },
            "type": "scattergeo"
           }
          ],
          "scattergl": [
           {
            "marker": {
             "colorbar": {
              "outlinewidth": 0,
              "ticks": ""
             }
            },
            "type": "scattergl"
           }
          ],
          "scattermapbox": [
           {
            "marker": {
             "colorbar": {
              "outlinewidth": 0,
              "ticks": ""
             }
            },
            "type": "scattermapbox"
           }
          ],
          "scatterpolar": [
           {
            "marker": {
             "colorbar": {
              "outlinewidth": 0,
              "ticks": ""
             }
            },
            "type": "scatterpolar"
           }
          ],
          "scatterpolargl": [
           {
            "marker": {
             "colorbar": {
              "outlinewidth": 0,
              "ticks": ""
             }
            },
            "type": "scatterpolargl"
           }
          ],
          "scatterternary": [
           {
            "marker": {
             "colorbar": {
              "outlinewidth": 0,
              "ticks": ""
             }
            },
            "type": "scatterternary"
           }
          ],
          "surface": [
           {
            "colorbar": {
             "outlinewidth": 0,
             "ticks": ""
            },
            "colorscale": [
             [
              0,
              "#0d0887"
             ],
             [
              0.1111111111111111,
              "#46039f"
             ],
             [
              0.2222222222222222,
              "#7201a8"
             ],
             [
              0.3333333333333333,
              "#9c179e"
             ],
             [
              0.4444444444444444,
              "#bd3786"
             ],
             [
              0.5555555555555556,
              "#d8576b"
             ],
             [
              0.6666666666666666,
              "#ed7953"
             ],
             [
              0.7777777777777778,
              "#fb9f3a"
             ],
             [
              0.8888888888888888,
              "#fdca26"
             ],
             [
              1,
              "#f0f921"
             ]
            ],
            "type": "surface"
           }
          ],
          "table": [
           {
            "cells": {
             "fill": {
              "color": "#EBF0F8"
             },
             "line": {
              "color": "white"
             }
            },
            "header": {
             "fill": {
              "color": "#C8D4E3"
             },
             "line": {
              "color": "white"
             }
            },
            "type": "table"
           }
          ]
         },
         "layout": {
          "annotationdefaults": {
           "arrowcolor": "#2a3f5f",
           "arrowhead": 0,
           "arrowwidth": 1
          },
          "coloraxis": {
           "colorbar": {
            "outlinewidth": 0,
            "ticks": ""
           }
          },
          "colorscale": {
           "diverging": [
            [
             0,
             "#8e0152"
            ],
            [
             0.1,
             "#c51b7d"
            ],
            [
             0.2,
             "#de77ae"
            ],
            [
             0.3,
             "#f1b6da"
            ],
            [
             0.4,
             "#fde0ef"
            ],
            [
             0.5,
             "#f7f7f7"
            ],
            [
             0.6,
             "#e6f5d0"
            ],
            [
             0.7,
             "#b8e186"
            ],
            [
             0.8,
             "#7fbc41"
            ],
            [
             0.9,
             "#4d9221"
            ],
            [
             1,
             "#276419"
            ]
           ],
           "sequential": [
            [
             0,
             "#0d0887"
            ],
            [
             0.1111111111111111,
             "#46039f"
            ],
            [
             0.2222222222222222,
             "#7201a8"
            ],
            [
             0.3333333333333333,
             "#9c179e"
            ],
            [
             0.4444444444444444,
             "#bd3786"
            ],
            [
             0.5555555555555556,
             "#d8576b"
            ],
            [
             0.6666666666666666,
             "#ed7953"
            ],
            [
             0.7777777777777778,
             "#fb9f3a"
            ],
            [
             0.8888888888888888,
             "#fdca26"
            ],
            [
             1,
             "#f0f921"
            ]
           ],
           "sequentialminus": [
            [
             0,
             "#0d0887"
            ],
            [
             0.1111111111111111,
             "#46039f"
            ],
            [
             0.2222222222222222,
             "#7201a8"
            ],
            [
             0.3333333333333333,
             "#9c179e"
            ],
            [
             0.4444444444444444,
             "#bd3786"
            ],
            [
             0.5555555555555556,
             "#d8576b"
            ],
            [
             0.6666666666666666,
             "#ed7953"
            ],
            [
             0.7777777777777778,
             "#fb9f3a"
            ],
            [
             0.8888888888888888,
             "#fdca26"
            ],
            [
             1,
             "#f0f921"
            ]
           ]
          },
          "colorway": [
           "#636efa",
           "#EF553B",
           "#00cc96",
           "#ab63fa",
           "#FFA15A",
           "#19d3f3",
           "#FF6692",
           "#B6E880",
           "#FF97FF",
           "#FECB52"
          ],
          "font": {
           "color": "#2a3f5f"
          },
          "geo": {
           "bgcolor": "white",
           "lakecolor": "white",
           "landcolor": "#E5ECF6",
           "showlakes": true,
           "showland": true,
           "subunitcolor": "white"
          },
          "hoverlabel": {
           "align": "left"
          },
          "hovermode": "closest",
          "mapbox": {
           "style": "light"
          },
          "paper_bgcolor": "white",
          "plot_bgcolor": "#E5ECF6",
          "polar": {
           "angularaxis": {
            "gridcolor": "white",
            "linecolor": "white",
            "ticks": ""
           },
           "bgcolor": "#E5ECF6",
           "radialaxis": {
            "gridcolor": "white",
            "linecolor": "white",
            "ticks": ""
           }
          },
          "scene": {
           "xaxis": {
            "backgroundcolor": "#E5ECF6",
            "gridcolor": "white",
            "gridwidth": 2,
            "linecolor": "white",
            "showbackground": true,
            "ticks": "",
            "zerolinecolor": "white"
           },
           "yaxis": {
            "backgroundcolor": "#E5ECF6",
            "gridcolor": "white",
            "gridwidth": 2,
            "linecolor": "white",
            "showbackground": true,
            "ticks": "",
            "zerolinecolor": "white"
           },
           "zaxis": {
            "backgroundcolor": "#E5ECF6",
            "gridcolor": "white",
            "gridwidth": 2,
            "linecolor": "white",
            "showbackground": true,
            "ticks": "",
            "zerolinecolor": "white"
           }
          },
          "shapedefaults": {
           "line": {
            "color": "#2a3f5f"
           }
          },
          "ternary": {
           "aaxis": {
            "gridcolor": "white",
            "linecolor": "white",
            "ticks": ""
           },
           "baxis": {
            "gridcolor": "white",
            "linecolor": "white",
            "ticks": ""
           },
           "bgcolor": "#E5ECF6",
           "caxis": {
            "gridcolor": "white",
            "linecolor": "white",
            "ticks": ""
           }
          },
          "title": {
           "x": 0.05
          },
          "xaxis": {
           "automargin": true,
           "gridcolor": "white",
           "linecolor": "white",
           "ticks": "",
           "title": {
            "standoff": 15
           },
           "zerolinecolor": "white",
           "zerolinewidth": 2
          },
          "yaxis": {
           "automargin": true,
           "gridcolor": "white",
           "linecolor": "white",
           "ticks": "",
           "title": {
            "standoff": 15
           },
           "zerolinecolor": "white",
           "zerolinewidth": 2
          }
         }
        },
        "title": {
         "font": {
          "color": "#4D5663"
         }
        },
        "xaxis": {
         "gridcolor": "#E1E5ED",
         "showgrid": true,
         "tickfont": {
          "color": "#4D5663"
         },
         "title": {
          "font": {
           "color": "#4D5663"
          },
          "text": ""
         },
         "zerolinecolor": "#E1E5ED"
        },
        "yaxis": {
         "gridcolor": "#E1E5ED",
         "showgrid": true,
         "tickfont": {
          "color": "#4D5663"
         },
         "title": {
          "font": {
           "color": "#4D5663"
          },
          "text": ""
         },
         "zerolinecolor": "#E1E5ED"
        }
       }
      },
      "text/html": [
       "<div>\n",
       "        \n",
       "        \n",
       "            <div id=\"42a6528d-cb87-4f7a-81fa-acec456917c8\" class=\"plotly-graph-div\" style=\"height:525px; width:100%;\"></div>\n",
       "            <script type=\"text/javascript\">\n",
       "                require([\"plotly\"], function(Plotly) {\n",
       "                    window.PLOTLYENV=window.PLOTLYENV || {};\n",
       "                    window.PLOTLYENV.BASE_URL='https://plot.ly';\n",
       "                    \n",
       "                if (document.getElementById(\"42a6528d-cb87-4f7a-81fa-acec456917c8\")) {\n",
       "                    Plotly.newPlot(\n",
       "                        '42a6528d-cb87-4f7a-81fa-acec456917c8',\n",
       "                        [{\"marker\": {\"color\": \"rgba(255, 153, 51, 1.0)\", \"line\": {\"width\": 1.3}, \"opacity\": 0.8, \"size\": 12, \"symbol\": \"circle\"}, \"mode\": \"markers\", \"name\": \"female\", \"textfont\": {\"color\": \"#4D5663\"}, \"type\": \"scatter\", \"x\": [29.0, 2.0, 25.0, 63.0, 53.0, 18.0, 24.0, 26.0, 50.0, 32.0, 47.0, 42.0, 29.0, 19.0, 35.0, 30.0, 58.0, 45.0, 22.0, 44.0, 59.0, 60.0, 41.0, 53.0, 58.0, 14.0, 36.0, null, 76.0, 47.0, 33.0, 36.0, 30.0, null, 26.0, 22.0, 39.0, 64.0, 55.0, 36.0, 64.0, 38.0, 33.0, 27.0, 17.0, 54.0, 27.0, 48.0, 48.0, 23.0, 38.0, 54.0, 36.0, null, null, 24.0, 28.0, 23.0, 60.0, 30.0, null, 22.0, 48.0, 35.0, 35.0, 22.0, 45.0, null, 19.0, 58.0, 45.0, 25.0, 49.0, 35.0, 24.0, 52.0, 16.0, 44.0, 51.0, 35.0, 35.0, 38.0, 50.0, null, 45.0, 39.0, 49.0, 30.0, 55.0, 16.0, 51.0, 21.0, 58.0, 15.0, 16.0, 18.0, 24.0, null, 33.0, 37.0, 31.0, 23.0, 19.0, 39.0, 22.0, 22.0, 17.0, 30.0, 56.0, 43.0, 33.0, 33.0, 54.0, 18.0, 21.0, 48.0, 24.0, 35.0, 30.0, 40.0, 39.0, 18.0, 23.0, 40.0, null, 43.0, 52.0, 62.0, 63.0, 48.0, 18.0, 39.0, null, 39.0, null, 35.0, 60.0, 55.0, 31.0, 45.0, 50.0, 21.0, 31.0, 36.0, 28.0, 36.0, 36.0, 19.0, 4.0, 12.0, 36.0, 19.0, 24.0, 15.0, 40.0, 20.0, 36.0, 42.0, 22.0, 35.0, 44.0, 29.0, 25.0, 45.0, 28.0, 8.0, 31.0, 22.0, 30.0, null, 48.0, 28.0, 24.0, 18.0, 34.0, 34.0, 27.0, 30.0, 29.0, 38.0, 34.0, 24.0, 6.0, 7.0, 45.0, 24.0, 24.0, 48.0, 55.0, 18.0, 20.0, 54.0, 29.0, 60.0, 17.0, 24.0, 23.0, 24.0, 22.0, null, 45.0, 26.0, 1.0, 3.0, 22.0, 17.0, null, 34.0, 42.0, 57.0, 24.0, 13.0, 41.0, 14.0, 29.0, 50.0, 21.0, 19.0, 32.0, 2.0, 8.0, 33.0, 30.0, 28.0, 24.0, 50.0, 21.0, 25.0, 18.0, 20.0, 30.0, 30.0, 40.0, 50.0, 28.0, 27.0, 27.0, 31.0, 31.0, 12.0, 40.0, 32.5, 29.0, 4.0, 29.0, 0.9167, 5.0, 33.0, 26.0, 24.0, 35.0, 16.0, 18.0, 40.0, 18.0, 19.0, 6.0, 2.0, 17.0, 38.0, 9.0, 11.0, 39.0, 18.0, 5.0, 38.0, 45.0, 17.0, 13.0, 33.0, 0.75, 0.75, 5.0, 24.0, 18.0, 18.0, 45.0, 27.0, 9.0, null, null, 32.0, 22.0, 20.0, 18.5, 18.0, 21.0, 30.0, 21.0, null, 16.0, 37.0, 22.0, 30.0, 36.0, 17.0, 22.0, 30.0, 28.0, null, 36.0, 0.1667, 33.0, 19.0, 30.0, 24.0, 23.0, 22.0, 5.0, null, 21.0, 9.0, 48.0, 16.0, null, 31.0, 10.0, 16.0, 43.0, 24.0, 17.0, 24.0, 45.0, null, null, 18.0, 26.0, 23.0, 22.0, 28.0, null, 2.0, 22.0, 27.0, null, 27.0, 25.0, null, 1.0, 27.0, null, null, 20.0, 21.0, 4.0, null, null, null, 22.0, 4.0, 26.0, 1.0, 36.0, 37.0, 22.0, null, null, null, null, null, 25.0, 45.0, 30.0, 26.0, 23.0, null, null, 30.5, null, null, null, null, null, null, null, 15.0, 35.0, 19.0, null, null, null, null, 27.0, null, null, null, null, 24.0, null, null, null, 15.0, 1.0, 19.0, null, 14.0, 29.0, 18.0, 26.0, 22.0, null, null, null, null, 22.0, null, 31.0, 23.0, 20.0, 31.0, null, 3.0, 8.0, 29.0, 41.0, 3.0, 26.0, null, null, null, 28.0, 18.0, null, 39.0, 22.0, null, null, 47.0, 2.0, 41.0, null, null, null, null, null, null, 21.0, 1.0, 24.0, 4.0, null, 18.0, 9.0, 2.0, 45.0, null, 23.0, 22.0, 2.0, 29.0, 16.0, null, 9.0, 29.0, 18.0, 63.0, 10.0, 30.0, 18.0, 31.0, 14.0, 38.0, 47.0, 15.0, 14.5, null], \"y\": [211.3375, 151.55, 151.55, 77.9583, 51.4792, 227.525, 69.3, 78.85, 247.5208, 76.2917, 52.5542, 227.525, 221.7792, 91.0792, 135.6333, 164.8667, 26.55, 262.375, 55.0, 27.7208, 51.4792, 76.2917, 134.5, 27.4458, 512.3292, 120.0, 120.0, 27.7208, 78.85, 61.175, 53.1, 262.375, 86.5, 55.0, 136.7792, 151.55, 83.1583, 83.1583, 25.7, 71.0, 26.55, 71.2833, 151.55, 52.0, 57.0, 81.8583, 247.5208, 106.425, 39.6, 83.1583, 227.525, 78.2667, 31.6792, 31.6833, 110.8833, 263.0, 263.0, 263.0, 263.0, 56.9292, 133.65, 49.5, 79.2, 53.1, 211.5, 59.4, 59.4, 89.1042, 30.0, 153.4625, 63.3583, 55.4417, 76.7292, 83.475, 83.1583, 93.5, 57.9792, 57.9792, 77.9583, 52.0, 90.0, 80.0, 28.7125, 51.8625, 52.5542, 211.3375, 25.9292, 106.425, 27.7208, 39.4, 39.4, 77.9583, 146.5208, 211.3375, 86.5, 53.1, 49.5042, 82.1708, 90.0, 90.0, 113.275, 113.275, 26.2833, 108.9, 61.9792, 66.6, 108.9, 93.5, 83.1583, 211.3375, 27.7208, 86.5, 59.4, 262.375, 262.375, 262.375, 69.3, 57.75, 31.0, 153.4625, 55.9, 60.0, 82.2667, 134.5, 146.5208, 55.4417, 78.2667, 80.0, 221.7792, 25.9292, 79.65, 79.65, 52.0, 110.8833, 79.2, 512.3292, 75.25, 135.6333, 164.8667, 164.8667, 211.5, 26.55, 134.5, 135.6333, 24.0, 26.0, 13.0, 26.0, 39.0, 39.0, 39.0, 13.0, 13.0, 39.0, 39.0, 26.0, 13.0, 13.0, 29.0, 21.0, 26.0, 26.0, 30.0, 30.0, 26.0, 26.25, 26.25, 10.5, 13.0, 21.0, 36.75, 13.0, 27.7208, 23.0, 23.0, 32.5, 13.8583, 13.8583, 26.0, 13.0, 13.0, 14.5, 33.0, 26.25, 26.25, 65.0, 65.0, 65.0, 16.0, 13.0, 23.0, 23.0, 26.0, 26.0, 10.5, 27.0, 13.7917, 26.0, 21.0, 12.35, 13.5, 26.0, 41.5792, 41.5792, 41.5792, 12.0, 33.0, 10.5, 26.0, 10.5, 37.0042, 19.5, 19.5, 30.0708, 10.5, 26.0, 21.0, 26.0, 13.0, 26.0, 26.0, 26.0, 21.0, 13.0, 18.75, 10.5, 10.5, 26.0, 13.0, 36.75, 13.0, 12.35, 13.0, 10.5, 12.65, 10.5, 21.0, 21.0, 21.0, 15.75, 15.75, 13.0, 26.0, 23.0, 23.0, 27.75, 27.75, 27.75, 13.5, 13.0, 20.25, 7.65, 7.2292, 9.475, 9.35, 7.8542, 31.275, 31.275, 7.925, 7.775, 31.275, 31.275, 31.275, 17.8, 31.3875, 31.3875, 7.225, 14.4583, 7.2292, 15.85, 19.2583, 19.2583, 19.2583, 19.2583, 8.05, 14.4542, 14.4542, 7.8792, 15.2458, 15.2458, 7.75, 15.5, 7.725, 7.8542, 7.2833, 7.8792, 8.6625, 8.6625, 7.75, 14.4583, 7.75, 7.75, 7.75, 7.6292, 15.9, 16.1, 10.5167, 6.95, 14.4, 16.1, 17.4, 20.575, 20.575, 7.8792, 12.475, 7.75, 8.05, 13.9, 12.475, 7.75, 34.375, 34.375, 34.375, 7.7333, 7.75, 20.525, 46.9, 46.9, 46.9, 8.85, 7.7333, 15.85, 14.1083, 7.55, 7.75, 6.75, 7.925, 7.925, 8.9625, 7.775, 7.75, 12.2875, 12.2875, 7.925, 8.05, 7.925, 7.925, 7.75, 11.1333, 11.1333, 23.45, 23.45, 9.825, 9.825, 13.4167, 7.75, 7.75, 14.4542, 8.6625, 22.025, 22.025, 12.1833, 12.1833, 9.5875, 7.25, 25.4667, 25.4667, 25.4667, 25.4667, 15.5, 7.775, 7.75, 15.55, 16.1, 7.8542, 7.75, 7.8792, 7.75, 7.7375, 7.225, 7.75, 23.25, 23.25, 7.7875, 7.8792, 8.0292, 7.75, 16.1, 7.75, 8.05, 8.05, 7.8792, 12.475, 24.15, 15.2458, 7.2292, 7.7333, 7.75, 15.5, 15.5, 15.5, 7.225, 15.7417, 15.7417, 7.75, 11.2417, 7.925, 7.775, 7.8542, 7.75, 15.5, 7.75, 7.75, 7.8792, 7.775, 7.8292, 7.8542, 8.6625, 8.6625, 8.6833, 7.6292, 21.075, 21.075, 21.075, 39.6875, 13.775, 13.775, 22.3583, 22.3583, 8.1375, 7.8958, 7.775, 8.1125, 29.125, 39.6875, 7.7208, 14.5, 14.5, 20.2125, 20.2125, 8.05, 69.55, 69.55, 69.55, 69.55, 69.55, 7.65, 16.7, 16.7, 16.7, 7.7792, 7.4958, 27.9, 27.9, 27.9, 7.7333, 7.55, 9.8375, 10.4625, 10.4625, 8.5167, 16.1, 15.2458, 15.2458, 9.8417, 9.5875, 24.15, 24.15, 18.0, 18.0, 7.8542, 7.2292, 7.0, 14.4542, 14.4542, 14.4542]}, {\"marker\": {\"color\": \"rgba(55, 128, 191, 1.0)\", \"line\": {\"width\": 1.3}, \"opacity\": 0.8, \"size\": 12, \"symbol\": \"circle\"}, \"mode\": \"markers\", \"name\": \"male\", \"textfont\": {\"color\": \"#4D5663\"}, \"type\": \"scatter\", \"x\": [0.9167, 30.0, 48.0, 39.0, 71.0, 47.0, 80.0, null, 24.0, 36.0, 37.0, 26.0, 25.0, 25.0, 28.0, 45.0, 40.0, 42.0, null, 41.0, 48.0, null, 45.0, null, 42.0, 36.0, 33.0, 28.0, 17.0, 11.0, 36.0, 49.0, 36.0, 46.0, 27.0, 45.0, null, 27.0, null, 47.0, 37.0, null, 70.0, 39.0, 51.0, 27.0, 31.0, 31.0, 53.0, 4.0, 50.0, 49.0, 39.0, null, 36.0, 30.0, 19.0, 64.0, null, 50.0, 43.0, 60.0, null, 37.0, 47.0, 24.0, 49.0, 71.0, 53.0, 38.0, 23.0, 46.0, 25.0, 48.0, null, 45.0, 40.0, 27.0, null, 55.0, 42.0, null, 55.0, 42.0, 35.0, 38.0, null, 49.0, 46.0, 50.0, 32.5, 58.0, 41.0, 42.0, null, 35.0, null, 42.0, 29.0, 30.0, 30.0, null, 19.0, 46.0, 54.0, 36.0, 28.0, 65.0, 44.0, 30.0, 55.0, 47.0, 37.0, 58.0, 64.0, null, 65.0, 28.5, null, 45.5, 23.0, 29.0, 18.0, 52.0, 47.0, 38.0, null, 22.0, null, 31.0, 45.0, null, 46.0, 36.0, 55.0, 33.0, 13.0, 61.0, null, null, 34.0, 35.0, 50.0, 56.0, 28.0, 56.0, 56.0, 24.0, null, 24.0, 6.0, 45.0, 57.0, 32.0, 62.0, 54.0, null, 67.0, 61.0, 52.0, 48.0, 49.0, 17.0, 31.0, 40.0, 61.0, 47.0, 64.0, 60.0, 54.0, 21.0, 57.0, 50.0, 27.0, 51.0, 21.0, null, null, 62.0, 30.0, 30.0, 18.0, 25.0, 34.0, 57.0, 18.0, 23.0, 28.0, 51.0, 32.0, 28.0, 1.0, 34.0, 23.0, 26.0, 42.0, 27.0, 60.0, 25.0, 25.0, 42.0, 0.8333, 26.0, null, 19.0, 54.0, 52.0, 37.0, 29.0, 29.0, 28.0, 24.0, 31.0, 21.0, null, 8.0, 18.0, 32.0, 17.0, 29.0, 25.0, 18.0, 54.0, 8.0, 42.0, 23.0, 21.0, 18.0, 40.0, 18.0, 36.0, null, 35.0, 38.0, 34.0, 16.0, 26.0, 47.0, 21.0, 21.0, 24.0, 24.0, 34.0, 30.0, 52.0, 30.0, 0.6667, 44.0, 28.0, 62.0, 30.0, 43.0, 49.0, 24.0, 32.0, 21.0, 23.0, 36.0, 50.0, 44.0, 21.0, 42.0, 63.0, 33.0, 42.0, 47.0, 24.0, 22.0, 32.0, 34.0, 35.0, 57.0, null, 31.0, 30.0, null, 25.0, 36.0, 24.0, 61.0, 50.0, null, 1.0, 31.0, null, 30.0, 40.0, 32.0, 30.0, 46.0, 19.0, 39.0, 48.0, 70.0, 27.0, 54.0, 39.0, 16.0, 62.0, 32.5, 2.0, 3.0, 36.5, 26.0, 19.0, 28.0, 20.0, 39.0, 22.0, null, 23.0, 29.0, 28.0, null, 19.0, null, 41.0, 43.0, 34.0, 30.0, 27.0, 36.0, 34.0, 23.0, 0.8333, 3.0, 19.0, 26.0, 25.0, 27.0, 59.0, 35.0, 25.0, 41.0, 25.0, 18.5, 14.0, 23.0, 29.0, 40.0, 30.0, 23.0, null, 27.0, 2.0, 36.0, 66.0, null, 31.0, null, 42.0, 13.0, 16.0, 25.0, 20.0, 30.0, 26.0, 0.8333, 26.0, 26.0, 20.0, 24.0, 25.0, 35.0, 18.0, 32.0, 4.0, 39.0, 27.0, 26.0, 20.0, 26.0, 25.0, 24.0, 35.0, 5.0, 9.0, 3.0, 13.0, 40.0, 23.0, 21.0, 23.0, 30.0, 23.0, 20.0, 32.0, 40.0, 26.0, 20.0, 22.0, 19.0, 26.0, 22.0, null, 20.0, 32.0, 21.0, 18.0, 26.0, 6.0, null, 40.0, 21.0, 29.0, 22.0, 22.0, 35.0, 21.0, 19.0, 18.0, 38.0, 17.0, 17.0, 21.0, 21.0, null, 28.0, 24.0, 28.0, 24.0, 21.0, 32.0, 29.0, 26.0, 18.0, 20.0, 18.0, 24.0, 36.0, 24.0, 31.0, 31.0, 70.5, 43.0, 35.0, 27.0, 19.0, 30.0, 9.0, 3.0, 59.0, 19.0, 44.0, 17.0, 22.5, 45.0, 19.0, 29.0, 0.3333, 34.0, 27.0, 25.0, 24.0, 22.0, 21.0, 17.0, null, 36.5, 30.0, 16.0, 1.0, 26.0, 25.0, null, null, 22.0, 36.0, 17.0, 42.0, 43.0, null, 32.0, 19.0, 33.0, 65.0, 24.0, 23.0, 18.0, 16.0, 45.0, null, 39.0, 17.0, 15.0, 47.0, null, 40.5, 40.5, null, 18.0, null, null, 26.0, null, null, null, 18.0, 16.0, null, null, 25.0, null, null, 22.0, 9.0, 33.0, 41.0, 38.0, 9.0, 1.0, 11.0, 14.0, 40.0, 51.0, 32.0, null, 20.0, 37.0, 28.0, 19.0, null, null, 28.0, 20.0, 23.5, 41.0, 26.0, 21.0, 25.0, null, 11.0, 27.0, null, 28.0, 43.0, 28.0, null, 42.0, null, 30.0, null, null, 29.0, 21.0, null, 20.0, 48.0, 17.0, null, 34.0, 26.0, 22.0, 33.0, 31.0, 29.0, 4.0, 49.0, 33.0, 19.0, null, null, 23.0, 32.0, 27.0, 32.0, 17.0, 21.0, 30.0, 21.0, 33.0, 22.0, 39.0, null, 18.5, null, null, 34.5, 44.0, null, null, null, null, null, 26.0, 29.0, 18.0, null, 25.0, null, null, null, null, null, 26.0, 29.0, 29.0, 22.0, 22.0, null, 32.0, 34.5, null, 36.0, 39.0, 24.0, 36.0, 20.0, null, 28.0, null, 30.0, null, 20.5, 27.0, 51.0, 32.0, null, null, 24.0, 22.0, null, null, 29.0, null, null, 35.0, 33.0, null, null, null, null, null, 24.0, 55.5, null, 21.0, null, 24.0, 21.0, 28.0, null, 25.0, 6.0, null, null, null, 34.0, null, null, null, null, null, null, 18.0, 22.0, 20.0, 33.0, null, null, null, 12.0, 28.0, 21.0, 41.0, 39.0, 21.0, 28.5, 61.0, null, null, null, null, null, 23.0, null, 9.0, 28.0, 42.0, null, 28.0, 32.0, 20.0, 20.0, 16.0, 2.0, 6.0, 1.0, 7.0, 2.0, 16.0, 14.0, 21.0, 19.0, null, 32.0, 0.75, null, null, null, 21.0, 25.0, 22.0, 25.0, null, 24.0, 19.0, null, 25.0, 32.0, null, 17.0, 24.0, null, null, null, 38.0, 21.0, 10.0, 4.0, 7.0, 2.0, 8.0, 35.0, null, 50.0, null, null, 18.0, 50.0, 16.0, null, null, null, 25.0, null, null, null, 38.5, null, 14.5, null, null, null, null, 24.0, 39.0, null, null, null, 25.0, 20.0, 24.5, null, null, null, 29.0, null, null, null, 22.0, null, 40.0, 21.0, 4.0, 10.0, 40.0, null, null, null, null, 19.0, 30.0, null, 32.0, null, 33.0, 21.0, 60.5, 19.0, 31.0, 27.0, 16.0, 44.0, 25.0, 74.0, 14.0, 24.0, 25.0, 34.0, 0.4167, null, null, null, null, null, 32.0, null, null, 30.5, 44.0, null, 25.0, null, 7.0, 36.0, null, 11.5, 40.5, 36.0, null, 33.0, 28.0, 28.0, 47.0, 31.0, 16.0, 22.0, 20.0, 22.0, 22.0, null, null, null, 32.5, 51.0, 18.0, 21.0, null, null, null, 28.5, 21.0, 27.0, null, 36.0, 27.0, 45.5, null, null, 26.5, 27.0, 29.0], \"y\": [151.55, 151.55, 26.55, 0.0, 49.5042, 227.525, 30.0, 25.925, 247.5208, 75.2417, 52.5542, 30.0, 26.0, 91.0792, 26.55, 35.5, 31.0, 26.55, 26.55, 30.5, 50.4958, 39.6, 26.55, 31.0, 26.2875, 512.3292, 5.0, 47.1, 47.1, 120.0, 120.0, 26.0, 78.85, 61.175, 53.1, 29.7, 0.0, 136.7792, 52.0, 25.5875, 83.1583, 26.55, 71.0, 71.2833, 26.55, 30.5, 52.0, 57.0, 81.8583, 81.8583, 106.425, 56.9292, 29.7, 221.7792, 26.3875, 27.75, 263.0, 263.0, 26.55, 133.65, 27.7208, 79.2, 0.0, 53.1, 38.5, 79.2, 89.1042, 34.6542, 28.5, 153.4625, 63.3583, 79.2, 55.4417, 76.7292, 42.4, 83.475, 0.0, 76.7292, 30.0, 93.5, 42.5, 51.8625, 50.0, 52.0, 26.55, 90.0, 30.6958, 0.0, 26.0, 26.0, 211.5, 29.7, 51.8625, 52.5542, 26.55, 512.3292, 27.7208, 26.55, 30.0, 45.5, 26.0, 29.7, 53.1, 75.2417, 51.8625, 26.2875, 82.1708, 26.55, 90.0, 57.75, 30.5, 42.4, 29.7, 113.275, 26.0, 25.7417, 61.9792, 27.7208, 0.0, 28.5, 93.5, 66.6, 108.9, 30.5, 52.0, 0.0, 39.6, 135.6333, 227.525, 50.4958, 26.55, 50.0, 79.2, 40.125, 59.4, 26.55, 262.375, 262.375, 30.5, 26.0, 26.55, 26.2875, 55.9, 35.5, 35.5, 26.55, 30.6958, 60.0, 26.0, 82.2667, 134.5, 134.5, 146.5208, 30.5, 26.55, 55.4417, 27.7208, 221.7792, 32.3208, 79.65, 52.0, 110.8833, 110.8833, 28.5375, 27.7208, 33.5, 34.0208, 75.25, 26.55, 77.2875, 77.2875, 164.8667, 211.5, 211.5, 61.3792, 61.3792, 35.0, 35.5, 26.55, 24.0, 13.0, 11.5, 10.5, 26.0, 13.0, 11.5, 10.5, 10.5, 12.525, 26.0, 26.0, 39.0, 13.0, 13.0, 13.0, 13.0, 13.0, 39.0, 26.0, 13.0, 13.0, 29.0, 29.0, 0.0, 13.0, 26.0, 13.5, 26.0, 26.0, 10.5, 13.0, 10.5, 26.25, 11.5, 0.0, 36.75, 73.5, 13.0, 73.5, 27.7208, 31.5, 73.5, 26.0, 32.5, 32.5, 13.0, 13.0, 13.0, 26.0, 10.5, 13.0, 0.0, 26.0, 21.0, 21.0, 26.0, 10.5, 10.5, 11.5, 11.5, 13.5, 13.0, 13.0, 13.0, 13.0, 13.0, 14.5, 13.0, 33.0, 10.5, 10.5, 26.25, 65.0, 73.5, 73.5, 73.5, 11.5, 13.0, 13.0, 26.0, 73.5, 13.0, 26.0, 12.275, 27.0, 15.0, 31.5, 31.5, 10.5, 26.0, 12.35, 12.35, 0.0, 10.5, 26.0, 10.7083, 41.5792, 12.875, 10.5, 12.35, 26.0, 15.0458, 37.0042, 37.0042, 15.5792, 13.0, 16.0, 13.5, 13.0, 26.0, 10.5, 13.0, 13.0, 10.5, 13.0, 14.0, 26.0, 10.5, 9.6875, 30.0708, 26.0, 26.0, 26.0, 13.0, 36.75, 13.5, 13.8625, 13.0, 10.5, 13.8625, 10.5, 13.8583, 10.5, 0.0, 10.5, 15.05, 13.0, 21.0, 13.0, 12.7375, 15.0333, 10.5, 21.0, 15.0458, 18.75, 18.75, 10.5, 13.0, 13.0, 26.0, 13.5, 10.5, 13.0, 15.0458, 10.5, 13.0, 65.0, 13.0, 21.0, 13.0, 21.0, 10.5, 0.0, 26.0, 23.0, 27.75, 10.5, 12.875, 13.0, 13.0, 7.55, 20.25, 20.25, 7.65, 7.925, 7.25, 8.05, 9.35, 18.7875, 7.8875, 7.925, 7.05, 7.05, 8.05, 8.3, 22.525, 31.275, 31.275, 7.7958, 7.775, 7.8542, 7.8958, 17.8, 7.775, 7.05, 31.3875, 31.3875, 31.3875, 31.3875, 31.3875, 7.7958, 7.225, 7.05, 7.225, 7.8542, 7.225, 15.85, 7.225, 7.8958, 7.2292, 8.05, 8.05, 7.775, 9.35, 7.2292, 4.0125, 56.4958, 7.775, 7.75, 7.8958, 15.2458, 7.225, 15.5, 16.1, 7.0458, 7.25, 7.7958, 8.05, 7.8208, 6.75, 8.6625, 8.6625, 8.6625, 8.6625, 7.75, 8.05, 14.4583, 7.7958, 7.8542, 7.25, 8.05, 7.7333, 56.4958, 8.05, 14.4542, 14.4542, 7.05, 8.05, 7.25, 7.4958, 7.4958, 7.7333, 7.75, 7.75, 8.05, 7.8958, 7.8958, 7.8958, 8.05, 15.9, 15.9, 7.25, 8.1583, 16.1, 8.6625, 7.225, 8.05, 10.1708, 7.75, 14.4, 14.4, 7.8958, 7.8958, 24.15, 8.05, 24.15, 8.05, 16.1, 17.4, 9.5, 9.5, 20.575, 20.575, 7.8958, 7.8958, 7.8958, 7.25, 7.25, 7.8958, 8.6625, 7.8958, 7.2292, 7.75, 8.05, 7.8958, 7.75, 7.55, 13.9, 7.775, 7.775, 6.975, 7.225, 7.2292, 7.2292, 7.2292, 7.25, 7.225, 15.1, 7.75, 7.05, 7.7958, 7.75, 6.95, 7.8792, 7.75, 56.4958, 8.05, 34.375, 34.375, 7.75, 7.25, 7.7417, 14.5, 7.8958, 8.05, 20.525, 20.525, 7.85, 7.05, 46.9, 46.9, 46.9, 46.9, 46.9, 8.05, 8.3625, 8.05, 9.8458, 7.925, 7.925, 7.775, 19.9667, 19.9667, 15.85, 9.5, 7.2292, 14.1083, 7.8542, 7.8542, 7.25, 6.8583, 18.7875, 6.975, 56.4958, 7.8958, 6.45, 22.525, 7.75, 7.65, 7.8875, 7.2292, 7.8958, 7.8958, 7.8958, 7.7958, 7.05, 7.8542, 7.8542, 7.0542, 8.1125, 6.4958, 7.775, 7.7958, 8.6542, 7.775, 7.8542, 11.1333, 0.0, 7.775, 0.0, 23.45, 23.45, 7.8958, 7.8542, 7.8542, 7.925, 7.125, 8.4333, 7.8958, 7.7958, 7.8542, 7.5208, 13.4167, 7.2292, 7.2292, 7.75, 7.25, 7.8292, 8.05, 7.75, 14.4542, 7.75, 7.75, 7.7375, 8.6625, 22.025, 7.8542, 7.8958, 7.2292, 7.225, 7.8958, 56.4958, 56.4958, 7.75, 56.4958, 9.4833, 7.775, 7.775, 7.225, 25.4667, 7.925, 6.4375, 15.5, 0.0, 24.15, 9.5, 15.55, 7.925, 7.8792, 56.4958, 7.55, 16.1, 7.8792, 7.25, 8.6625, 7.0542, 7.5792, 7.8958, 7.55, 7.1417, 7.125, 7.75, 8.05, 7.925, 7.2292, 7.2292, 7.8958, 7.8958, 7.8958, 7.75, 23.25, 15.5, 7.75, 16.1, 8.05, 7.75, 7.775, 8.05, 7.8958, 7.8958, 7.8958, 7.8958, 7.65, 12.475, 8.05, 24.15, 8.4583, 8.05, 7.75, 7.775, 15.2458, 15.2458, 8.05, 8.05, 7.75, 7.8958, 15.7417, 8.05, 7.8958, 7.2292, 7.8958, 11.2417, 8.05, 7.8542, 7.125, 7.925, 7.8, 7.2292, 6.2375, 15.5, 7.8292, 7.7333, 7.75, 7.75, 9.225, 7.75, 3.1708, 22.525, 8.4042, 7.3125, 7.8542, 7.775, 9.225, 8.6625, 9.2167, 21.075, 21.075, 39.6875, 39.6875, 39.6875, 39.6875, 39.6875, 8.6625, 14.5, 8.7125, 7.8958, 13.775, 7.0, 7.775, 8.05, 7.925, 7.925, 7.25, 7.775, 22.3583, 8.05, 7.8958, 7.8958, 7.775, 8.05, 7.8958, 8.6625, 8.6625, 7.8958, 7.2292, 7.25, 7.8958, 8.05, 29.125, 29.125, 29.125, 29.125, 29.125, 7.125, 14.5, 14.5, 8.05, 7.775, 20.2125, 8.05, 8.05, 7.75, 24.15, 7.2292, 7.225, 7.225, 7.7292, 7.575, 7.25, 69.55, 69.55, 69.55, 69.55, 69.55, 69.55, 9.325, 7.925, 21.6792, 21.6792, 21.6792, 9.5, 8.05, 8.05, 7.725, 7.8958, 7.75, 9.5, 15.1, 8.05, 8.05, 7.2292, 8.05, 7.8958, 7.925, 27.9, 27.9, 27.9, 7.8958, 8.05, 8.6625, 7.75, 7.65, 8.05, 8.05, 8.05, 7.8958, 8.6625, 8.05, null, 7.8958, 7.925, 8.6625, 8.05, 7.925, 7.05, 7.775, 9.225, 7.7958, 7.7958, 8.05, 8.5167, 6.4375, 6.4375, 7.225, 8.05, 16.1, 7.925, 7.75, 7.8958, 8.05, 8.05, 7.2292, 0.0, 7.2292, 15.2458, 7.8958, 14.5, 14.5, 14.5, 24.15, 9.5, 9.5, 9.5, 9.5, 9.0, 18.0, 18.0, 7.225, 7.8542, 7.8958, 9.0, 8.05, 7.55, 8.05, 9.5, 7.75, 6.4958, 6.4958, 8.7125, 7.55, 8.05, 16.1, 7.25, 8.6625, 7.25, 9.5, 14.4542, 7.225, 7.225, 14.4583, 7.225, 7.225, 7.875]}, {\"marker\": {\"color\": \"rgba(50, 171, 96, 1.0)\", \"line\": {\"width\": 1.3}, \"opacity\": 0.8, \"size\": 12, \"symbol\": \"circle\"}, \"mode\": \"markers\", \"name\": \"nan\", \"textfont\": {\"color\": \"#4D5663\"}, \"type\": \"scatter\", \"x\": [], \"y\": []}],\n",
       "                        {\"legend\": {\"bgcolor\": \"#FFFFFF\", \"font\": {\"color\": \"#4D5663\"}}, \"paper_bgcolor\": \"#FFFFFF\", \"plot_bgcolor\": \"#FFFFFF\", \"template\": {\"data\": {\"bar\": [{\"error_x\": {\"color\": \"#2a3f5f\"}, \"error_y\": {\"color\": \"#2a3f5f\"}, \"marker\": {\"line\": {\"color\": \"#E5ECF6\", \"width\": 0.5}}, \"type\": \"bar\"}], \"barpolar\": [{\"marker\": {\"line\": {\"color\": \"#E5ECF6\", \"width\": 0.5}}, \"type\": \"barpolar\"}], \"carpet\": [{\"aaxis\": {\"endlinecolor\": \"#2a3f5f\", \"gridcolor\": \"white\", \"linecolor\": \"white\", \"minorgridcolor\": \"white\", \"startlinecolor\": \"#2a3f5f\"}, \"baxis\": {\"endlinecolor\": \"#2a3f5f\", \"gridcolor\": \"white\", \"linecolor\": \"white\", \"minorgridcolor\": \"white\", \"startlinecolor\": \"#2a3f5f\"}, \"type\": \"carpet\"}], \"choropleth\": [{\"colorbar\": {\"outlinewidth\": 0, \"ticks\": \"\"}, \"type\": \"choropleth\"}], \"contour\": [{\"colorbar\": {\"outlinewidth\": 0, \"ticks\": \"\"}, \"colorscale\": [[0.0, \"#0d0887\"], [0.1111111111111111, \"#46039f\"], [0.2222222222222222, \"#7201a8\"], [0.3333333333333333, \"#9c179e\"], [0.4444444444444444, \"#bd3786\"], [0.5555555555555556, \"#d8576b\"], [0.6666666666666666, \"#ed7953\"], [0.7777777777777778, \"#fb9f3a\"], [0.8888888888888888, \"#fdca26\"], [1.0, \"#f0f921\"]], \"type\": \"contour\"}], \"contourcarpet\": [{\"colorbar\": {\"outlinewidth\": 0, \"ticks\": \"\"}, \"type\": \"contourcarpet\"}], \"heatmap\": [{\"colorbar\": {\"outlinewidth\": 0, \"ticks\": \"\"}, \"colorscale\": [[0.0, \"#0d0887\"], [0.1111111111111111, \"#46039f\"], [0.2222222222222222, \"#7201a8\"], [0.3333333333333333, \"#9c179e\"], [0.4444444444444444, \"#bd3786\"], [0.5555555555555556, \"#d8576b\"], [0.6666666666666666, \"#ed7953\"], [0.7777777777777778, \"#fb9f3a\"], [0.8888888888888888, \"#fdca26\"], [1.0, \"#f0f921\"]], \"type\": \"heatmap\"}], \"heatmapgl\": [{\"colorbar\": {\"outlinewidth\": 0, \"ticks\": \"\"}, \"colorscale\": [[0.0, \"#0d0887\"], [0.1111111111111111, \"#46039f\"], [0.2222222222222222, \"#7201a8\"], [0.3333333333333333, \"#9c179e\"], [0.4444444444444444, \"#bd3786\"], [0.5555555555555556, \"#d8576b\"], [0.6666666666666666, \"#ed7953\"], [0.7777777777777778, \"#fb9f3a\"], [0.8888888888888888, \"#fdca26\"], [1.0, \"#f0f921\"]], \"type\": \"heatmapgl\"}], \"histogram\": [{\"marker\": {\"colorbar\": {\"outlinewidth\": 0, \"ticks\": \"\"}}, \"type\": \"histogram\"}], \"histogram2d\": [{\"colorbar\": {\"outlinewidth\": 0, \"ticks\": \"\"}, \"colorscale\": [[0.0, \"#0d0887\"], [0.1111111111111111, \"#46039f\"], [0.2222222222222222, \"#7201a8\"], [0.3333333333333333, \"#9c179e\"], [0.4444444444444444, \"#bd3786\"], [0.5555555555555556, \"#d8576b\"], [0.6666666666666666, \"#ed7953\"], [0.7777777777777778, \"#fb9f3a\"], [0.8888888888888888, \"#fdca26\"], [1.0, \"#f0f921\"]], \"type\": \"histogram2d\"}], \"histogram2dcontour\": [{\"colorbar\": {\"outlinewidth\": 0, \"ticks\": \"\"}, \"colorscale\": [[0.0, \"#0d0887\"], [0.1111111111111111, \"#46039f\"], [0.2222222222222222, \"#7201a8\"], [0.3333333333333333, \"#9c179e\"], [0.4444444444444444, \"#bd3786\"], [0.5555555555555556, \"#d8576b\"], [0.6666666666666666, \"#ed7953\"], [0.7777777777777778, \"#fb9f3a\"], [0.8888888888888888, \"#fdca26\"], [1.0, \"#f0f921\"]], \"type\": \"histogram2dcontour\"}], \"mesh3d\": [{\"colorbar\": {\"outlinewidth\": 0, \"ticks\": \"\"}, \"type\": \"mesh3d\"}], \"parcoords\": [{\"line\": {\"colorbar\": {\"outlinewidth\": 0, \"ticks\": \"\"}}, \"type\": \"parcoords\"}], \"pie\": [{\"automargin\": true, \"type\": \"pie\"}], \"scatter\": [{\"marker\": {\"colorbar\": {\"outlinewidth\": 0, \"ticks\": \"\"}}, \"type\": \"scatter\"}], \"scatter3d\": [{\"line\": {\"colorbar\": {\"outlinewidth\": 0, \"ticks\": \"\"}}, \"marker\": {\"colorbar\": {\"outlinewidth\": 0, \"ticks\": \"\"}}, \"type\": \"scatter3d\"}], \"scattercarpet\": [{\"marker\": {\"colorbar\": {\"outlinewidth\": 0, \"ticks\": \"\"}}, \"type\": \"scattercarpet\"}], \"scattergeo\": [{\"marker\": {\"colorbar\": {\"outlinewidth\": 0, \"ticks\": \"\"}}, \"type\": \"scattergeo\"}], \"scattergl\": [{\"marker\": {\"colorbar\": {\"outlinewidth\": 0, \"ticks\": \"\"}}, \"type\": \"scattergl\"}], \"scattermapbox\": [{\"marker\": {\"colorbar\": {\"outlinewidth\": 0, \"ticks\": \"\"}}, \"type\": \"scattermapbox\"}], \"scatterpolar\": [{\"marker\": {\"colorbar\": {\"outlinewidth\": 0, \"ticks\": \"\"}}, \"type\": \"scatterpolar\"}], \"scatterpolargl\": [{\"marker\": {\"colorbar\": {\"outlinewidth\": 0, \"ticks\": \"\"}}, \"type\": \"scatterpolargl\"}], \"scatterternary\": [{\"marker\": {\"colorbar\": {\"outlinewidth\": 0, \"ticks\": \"\"}}, \"type\": \"scatterternary\"}], \"surface\": [{\"colorbar\": {\"outlinewidth\": 0, \"ticks\": \"\"}, \"colorscale\": [[0.0, \"#0d0887\"], [0.1111111111111111, \"#46039f\"], [0.2222222222222222, \"#7201a8\"], [0.3333333333333333, \"#9c179e\"], [0.4444444444444444, \"#bd3786\"], [0.5555555555555556, \"#d8576b\"], [0.6666666666666666, \"#ed7953\"], [0.7777777777777778, \"#fb9f3a\"], [0.8888888888888888, \"#fdca26\"], [1.0, \"#f0f921\"]], \"type\": \"surface\"}], \"table\": [{\"cells\": {\"fill\": {\"color\": \"#EBF0F8\"}, \"line\": {\"color\": \"white\"}}, \"header\": {\"fill\": {\"color\": \"#C8D4E3\"}, \"line\": {\"color\": \"white\"}}, \"type\": \"table\"}]}, \"layout\": {\"annotationdefaults\": {\"arrowcolor\": \"#2a3f5f\", \"arrowhead\": 0, \"arrowwidth\": 1}, \"coloraxis\": {\"colorbar\": {\"outlinewidth\": 0, \"ticks\": \"\"}}, \"colorscale\": {\"diverging\": [[0, \"#8e0152\"], [0.1, \"#c51b7d\"], [0.2, \"#de77ae\"], [0.3, \"#f1b6da\"], [0.4, \"#fde0ef\"], [0.5, \"#f7f7f7\"], [0.6, \"#e6f5d0\"], [0.7, \"#b8e186\"], [0.8, \"#7fbc41\"], [0.9, \"#4d9221\"], [1, \"#276419\"]], \"sequential\": [[0.0, \"#0d0887\"], [0.1111111111111111, \"#46039f\"], [0.2222222222222222, \"#7201a8\"], [0.3333333333333333, \"#9c179e\"], [0.4444444444444444, \"#bd3786\"], [0.5555555555555556, \"#d8576b\"], [0.6666666666666666, \"#ed7953\"], [0.7777777777777778, \"#fb9f3a\"], [0.8888888888888888, \"#fdca26\"], [1.0, \"#f0f921\"]], \"sequentialminus\": [[0.0, \"#0d0887\"], [0.1111111111111111, \"#46039f\"], [0.2222222222222222, \"#7201a8\"], [0.3333333333333333, \"#9c179e\"], [0.4444444444444444, \"#bd3786\"], [0.5555555555555556, \"#d8576b\"], [0.6666666666666666, \"#ed7953\"], [0.7777777777777778, \"#fb9f3a\"], [0.8888888888888888, \"#fdca26\"], [1.0, \"#f0f921\"]]}, \"colorway\": [\"#636efa\", \"#EF553B\", \"#00cc96\", \"#ab63fa\", \"#FFA15A\", \"#19d3f3\", \"#FF6692\", \"#B6E880\", \"#FF97FF\", \"#FECB52\"], \"font\": {\"color\": \"#2a3f5f\"}, \"geo\": {\"bgcolor\": \"white\", \"lakecolor\": \"white\", \"landcolor\": \"#E5ECF6\", \"showlakes\": true, \"showland\": true, \"subunitcolor\": \"white\"}, \"hoverlabel\": {\"align\": \"left\"}, \"hovermode\": \"closest\", \"mapbox\": {\"style\": \"light\"}, \"paper_bgcolor\": \"white\", \"plot_bgcolor\": \"#E5ECF6\", \"polar\": {\"angularaxis\": {\"gridcolor\": \"white\", \"linecolor\": \"white\", \"ticks\": \"\"}, \"bgcolor\": \"#E5ECF6\", \"radialaxis\": {\"gridcolor\": \"white\", \"linecolor\": \"white\", \"ticks\": \"\"}}, \"scene\": {\"xaxis\": {\"backgroundcolor\": \"#E5ECF6\", \"gridcolor\": \"white\", \"gridwidth\": 2, \"linecolor\": \"white\", \"showbackground\": true, \"ticks\": \"\", \"zerolinecolor\": \"white\"}, \"yaxis\": {\"backgroundcolor\": \"#E5ECF6\", \"gridcolor\": \"white\", \"gridwidth\": 2, \"linecolor\": \"white\", \"showbackground\": true, \"ticks\": \"\", \"zerolinecolor\": \"white\"}, \"zaxis\": {\"backgroundcolor\": \"#E5ECF6\", \"gridcolor\": \"white\", \"gridwidth\": 2, \"linecolor\": \"white\", \"showbackground\": true, \"ticks\": \"\", \"zerolinecolor\": \"white\"}}, \"shapedefaults\": {\"line\": {\"color\": \"#2a3f5f\"}}, \"ternary\": {\"aaxis\": {\"gridcolor\": \"white\", \"linecolor\": \"white\", \"ticks\": \"\"}, \"baxis\": {\"gridcolor\": \"white\", \"linecolor\": \"white\", \"ticks\": \"\"}, \"bgcolor\": \"#E5ECF6\", \"caxis\": {\"gridcolor\": \"white\", \"linecolor\": \"white\", \"ticks\": \"\"}}, \"title\": {\"x\": 0.05}, \"xaxis\": {\"automargin\": true, \"gridcolor\": \"white\", \"linecolor\": \"white\", \"ticks\": \"\", \"title\": {\"standoff\": 15}, \"zerolinecolor\": \"white\", \"zerolinewidth\": 2}, \"yaxis\": {\"automargin\": true, \"gridcolor\": \"white\", \"linecolor\": \"white\", \"ticks\": \"\", \"title\": {\"standoff\": 15}, \"zerolinecolor\": \"white\", \"zerolinewidth\": 2}}}, \"title\": {\"font\": {\"color\": \"#4D5663\"}}, \"xaxis\": {\"gridcolor\": \"#E1E5ED\", \"showgrid\": true, \"tickfont\": {\"color\": \"#4D5663\"}, \"title\": {\"font\": {\"color\": \"#4D5663\"}, \"text\": \"\"}, \"zerolinecolor\": \"#E1E5ED\"}, \"yaxis\": {\"gridcolor\": \"#E1E5ED\", \"showgrid\": true, \"tickfont\": {\"color\": \"#4D5663\"}, \"title\": {\"font\": {\"color\": \"#4D5663\"}, \"text\": \"\"}, \"zerolinecolor\": \"#E1E5ED\"}},\n",
       "                        {\"showLink\": true, \"responsive\": true, \"linkText\": \"Export to plot.ly\", \"plotlyServerURL\": \"https://plot.ly\"}\n",
       "                    ).then(function(){\n",
       "                            \n",
       "var gd = document.getElementById('42a6528d-cb87-4f7a-81fa-acec456917c8');\n",
       "var x = new MutationObserver(function (mutations, observer) {{\n",
       "        var display = window.getComputedStyle(gd).display;\n",
       "        if (!display || display === 'none') {{\n",
       "            console.log([gd, 'removed!']);\n",
       "            Plotly.purge(gd);\n",
       "            observer.disconnect();\n",
       "        }}\n",
       "}});\n",
       "\n",
       "// Listen for the removal of the full notebook cells\n",
       "var notebookContainer = gd.closest('#notebook-container');\n",
       "if (notebookContainer) {{\n",
       "    x.observe(notebookContainer, {childList: true});\n",
       "}}\n",
       "\n",
       "// Listen for the clearing of the current output cell\n",
       "var outputEl = gd.closest('.output');\n",
       "if (outputEl) {{\n",
       "    x.observe(outputEl, {childList: true});\n",
       "}}\n",
       "\n",
       "                        })\n",
       "                };\n",
       "                });\n",
       "            </script>\n",
       "        </div>"
      ]
     },
     "metadata": {},
     "output_type": "display_data"
    }
   ],
   "source": [
    "titanic.iplot(kind=\"scatter\", theme=\"white\",x=\"age\",y=\"fare\",\n",
    "            categories=\"sex\")"
   ]
  }
 ],
 "metadata": {
  "kernelspec": {
   "display_name": "Python 3",
   "language": "python",
   "name": "python3"
  },
  "language_info": {
   "codemirror_mode": {
    "name": "ipython",
    "version": 3
   },
   "file_extension": ".py",
   "mimetype": "text/x-python",
   "name": "python",
   "nbconvert_exporter": "python",
   "pygments_lexer": "ipython3",
   "version": "3.5.2"
  }
 },
 "nbformat": 4,
 "nbformat_minor": 2
}
