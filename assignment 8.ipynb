{
 "cells": [
  {
   "cell_type": "markdown",
   "metadata": {},
   "source": [
    "# Task 1:\n",
    " 1. You survey households in your area to find the average rent they are paying. Find the\n",
    " standard deviation from the following data:\n",
    "\n",
    " $\\$1550$, $\\$1700$, $\\$900$, $\\$850$, $\\$1000$, $\\$950$."
   ]
  },
  {
   "cell_type": "code",
   "execution_count": 5,
   "metadata": {},
   "outputs": [
    {
     "name": "stdout",
     "output_type": "stream",
     "text": [
      "Average rent is $ 2658.33\n",
      "Standard Deviation is $ 3614.61\n"
     ]
    }
   ],
   "source": [
    "import numpy as np\n",
    "import statistics as stats\n",
    "l = [1550, 1700, 900, 850, 10000, 950]\n",
    "print('Average rent is $', round(np.mean(l), 2))\n",
    "print('Standard Deviation is $', round(stats.stdev(l),2))"
   ]
  },
  {
   "cell_type": "markdown",
   "metadata": {},
   "source": [
    "2. Find the variance for the following set of data representing trees in California (heights in\n",
    "feet):\n",
    "\n",
    "        3, 21, 98, 203, 17, 9"
   ]
  },
  {
   "cell_type": "code",
   "execution_count": 7,
   "metadata": {},
   "outputs": [
    {
     "name": "stdout",
     "output_type": "stream",
     "text": [
      "Variance is: 6219.9\n"
     ]
    }
   ],
   "source": [
    "a = [3, 21, 98, 203, 17, 9]\n",
    "print('Variance is:', stats.variance(a))"
   ]
  },
  {
   "cell_type": "markdown",
   "metadata": {},
   "source": [
    "3. In a class on 100 students, 80 students passed in all subjects, 10 failed in one subject, 7 failed\n",
    "in two subjects and 3 failed in three subjects. Find the probability distribution of the variable for\n",
    "number of subjects a student from the given class has failed in."
   ]
  },
  {
   "cell_type": "code",
   "execution_count": 8,
   "metadata": {},
   "outputs": [
    {
     "name": "stdout",
     "output_type": "stream",
     "text": [
      "Probability of failing in no subject= 80/100= 0.8\n",
      "Probability of failing in one subject= 10/100= 0.1\n",
      "Probability of failing in two subject= 7/100= 0.07\n",
      "Probability of failing in three subject= 3/100= 0.03\n"
     ]
    }
   ],
   "source": [
    "print('Probability of failing in no subject= 80/100=', 0.8)\n",
    "print('Probability of failing in one subject= 10/100=', 0.1)\n",
    "print('Probability of failing in two subject= 7/100=', 0.07)\n",
    "print('Probability of failing in three subject= 3/100=', 0.03)"
   ]
  },
  {
   "cell_type": "markdown",
   "metadata": {},
   "source": [
    "# Task 2:\n",
    "\n",
    "1. A test is conducted which is consisting of 20 MCQs (multiple choices questions) with every\n",
    "MCQ having its four options out of which only one is correct. Determine the probability that a\n",
    "person undertaking that test has answered exactly 5 questions wrong."
   ]
  },
  {
   "cell_type": "code",
   "execution_count": 23,
   "metadata": {},
   "outputs": [
    {
     "name": "stdout",
     "output_type": "stream",
     "text": [
      "the probability that a person undertaking that test has answered exactly 5 questions wrong is  0.202\n"
     ]
    }
   ],
   "source": [
    "from scipy.special import factorial\n",
    "# Assume that there are n trials, the counts of successes are k and counts of failures is n-k\n",
    "# Here number of trials are 20, number of failures are 5 and number of successes hence are 20-5=15\n",
    "\n",
    "# number of trials n\n",
    "n = 20\n",
    "\n",
    "# number of failures k\n",
    "failures = 5\n",
    "\n",
    "# number of successes n-k\n",
    "success = 15\n",
    "\n",
    "# probability of failures\n",
    "p_failures = failures/n\n",
    "\n",
    "# probability of success\n",
    "p_success = success/n\n",
    "\n",
    "# We will use the formula for binomial distribution \n",
    "p = factorial(n)/(factorial(n-failures) * \n",
    "                  factorial(failures))* np.power(p_failures, failures) * np.power(p_success, success)\n",
    "print('the probability that a person undertaking that test has answered exactly 5 questions wrong is ',\n",
    "      round(p, 3))"
   ]
  },
  {
   "cell_type": "markdown",
   "metadata": {},
   "source": [
    "2. A die marked A to E is rolled 50 times. Find the probability of getting a “D” exactly 5 times."
   ]
  },
  {
   "cell_type": "code",
   "execution_count": 25,
   "metadata": {},
   "outputs": [
    {
     "name": "stdout",
     "output_type": "stream",
     "text": [
      "the probability that a person undertaking that test has answered exactly 5 questions wrong is  8.191610005823284e-30\n"
     ]
    }
   ],
   "source": [
    "# Assume that there are n trials, the counts of successes are k and counts of failures is n-k\n",
    "# Here number of trials are 50, number of successes are 5 and number of failures hence are 50-5=45\n",
    "\n",
    "# number of trials n\n",
    "n = 50\n",
    "\n",
    "# number of failures k\n",
    "failures = 5\n",
    "\n",
    "# number of successes n-k\n",
    "success = 45\n",
    "\n",
    "# probability of failures\n",
    "p_failures = 5/6\n",
    "\n",
    "# probability of success\n",
    "p_success = 1/6\n",
    "\n",
    "# We will use the formula for binomial distribution \n",
    "p = factorial(n)/(factorial(n-failures) * \n",
    "                  factorial(failures))* np.power(p_failures, failures) * np.power(p_success, success)\n",
    "print('the probability that a person undertaking that test has answered exactly 5 questions wrong is ',p)"
   ]
  },
  {
   "cell_type": "markdown",
   "metadata": {},
   "source": [
    "3. Two balls are drawn at random in succession without replacement from an urn containing 4\n",
    "red balls and 6 black balls.\n",
    "\n",
    "    Find the probabilities of all the possible outcomes."
   ]
  },
  {
   "cell_type": "code",
   "execution_count": 27,
   "metadata": {},
   "outputs": [
    {
     "name": "stdout",
     "output_type": "stream",
     "text": [
      "Probability of red followed by black ball: 0.2666666666666667\n",
      "Probability of black followed by red ball: 0.26666666666666666\n",
      "Probability of black followed by red ball: 0.3333333333333333\n",
      "Probability of red followed by black ball: 0.13333333333333336\n"
     ]
    }
   ],
   "source": [
    "# There are 4 possibilities \n",
    "red_balls = 4\n",
    "black_balls = 6\n",
    "total_balls = 10\n",
    "\n",
    "# Possible outcomes :{Red_ball and black_ball, red_ball and red_ball, \n",
    "#                     black_ball and red_ball, black_ball and black_ball}\n",
    "\n",
    "# Probability of red followed by black ball\n",
    "p_r = red_balls/total_balls\n",
    "p_r_b = p_r * black_balls/(total_balls - 1)\n",
    "print('Probability of red followed by black ball:', p_r_b)\n",
    "\n",
    "red_balls = 4\n",
    "black_balls = 6\n",
    "total_balls = 10\n",
    "# Probability of black followed by red ball\n",
    "p_b = black_balls/total_balls\n",
    "p_b_r = p_b * red_balls/(total_balls - 1)\n",
    "print('Probability of black followed by red ball:', p_b_r)\n",
    "\n",
    "red_balls = 4\n",
    "black_balls = 6\n",
    "total_balls = 10\n",
    "# Probability of black followed by black ball\n",
    "p_b = black_balls/total_balls\n",
    "p_b_b = p_b * (black_balls-1)/(total_balls - 1)\n",
    "print('Probability of black followed by red ball:', p_b_b)\n",
    "\n",
    "red_balls = 4\n",
    "black_balls = 6\n",
    "total_balls = 10\n",
    "# Probability of red followed by red ball\n",
    "p_r = red_balls/total_balls\n",
    "p_r_r = p_r * (red_balls-1)/(total_balls - 1)\n",
    "print('Probability of red followed by black ball:', p_r_r)"
   ]
  },
  {
   "cell_type": "code",
   "execution_count": null,
   "metadata": {},
   "outputs": [],
   "source": []
  }
 ],
 "metadata": {
  "kernelspec": {
   "display_name": "Python 3",
   "language": "python",
   "name": "python3"
  },
  "language_info": {
   "codemirror_mode": {
    "name": "ipython",
    "version": 3
   },
   "file_extension": ".py",
   "mimetype": "text/x-python",
   "name": "python",
   "nbconvert_exporter": "python",
   "pygments_lexer": "ipython3",
   "version": "3.7.7"
  }
 },
 "nbformat": 4,
 "nbformat_minor": 4
}
