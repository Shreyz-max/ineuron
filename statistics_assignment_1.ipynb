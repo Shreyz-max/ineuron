{
  "nbformat": 4,
  "nbformat_minor": 0,
  "metadata": {
    "kernelspec": {
      "display_name": "Python 3",
      "language": "python",
      "name": "python3"
    },
    "language_info": {
      "codemirror_mode": {
        "name": "ipython",
        "version": 3
      },
      "file_extension": ".py",
      "mimetype": "text/x-python",
      "name": "python",
      "nbconvert_exporter": "python",
      "pygments_lexer": "ipython3",
      "version": "3.7.6"
    },
    "colab": {
      "name": "statistics assignment 1.ipynb",
      "provenance": []
    }
  },
  "cells": [
    {
      "cell_type": "markdown",
      "metadata": {
        "id": "bLMFmDL9Dm5X",
        "colab_type": "text"
      },
      "source": [
        "<h3> Calculate the mean, median, mode and standard deviation for the problem\n",
        "statements 1& 2.</h3>"
      ]
    },
    {
      "cell_type": "markdown",
      "metadata": {
        "id": "5Mw7-onwDm5Z",
        "colab_type": "text"
      },
      "source": [
        "# Problem Statement 1:"
      ]
    },
    {
      "cell_type": "markdown",
      "metadata": {
        "id": "XahMdSDiDm5b",
        "colab_type": "text"
      },
      "source": [
        "The marks awarded for an assignment set for a Year 8 class of 20 students were as\n",
        "follows:\n",
        "    \n",
        "6 7 5 7 7 8 7 6 9 7 4 10 6 8 8 9 5 6 4 8"
      ]
    },
    {
      "cell_type": "markdown",
      "metadata": {
        "id": "McuP2mCuDm5d",
        "colab_type": "text"
      },
      "source": [
        "$$\\text{Formula for mean is} \\sum_{i=1}^{n} i\n",
        "\\\\\n",
        "\\text{Formula for median is:} \\frac{n+1}{2}^{th} \\text{ term if number of observation is }\\textbf{odd}\\text{ and}\\\\\n",
        "                              \\frac{1}{2}(\\frac{n}{2}^{th}+\\frac{n+1}{2}^{th})\\text{ term if number of observation is} \\textbf{even.}\n",
        "\\\\\n",
        "\\text{A number that appears most often is the}\\textbf{ mode.}\n",
        "\\\\\n",
        "\\text{Formula for standard deviation is }=\sqrt{\frac{1}{N}\sum_{i=1}^N(x_i-\bar{x})^2}\n",
        "\\\\\n",
        "\\text{Formula for mean here is} \\sum_{i=1}^{20} i\n",
        "\\text{ where i is in the dataset {6, 7, 5, 7, 7, 8, 7, 6, 9, 7, 4, 10, 6, 8, 8, 9, 5, 6, 4, 8}}$$"
      ]
    },
    {
      "cell_type": "code",
      "metadata": {
        "id": "hOf1n-idDm5f",
        "colab_type": "code",
        "colab": {
          "base_uri": "https://localhost:8080/",
          "height": 85
        },
        "outputId": "c7c4c665-ce44-4ec3-b699-ba95c6f2b348"
      },
      "source": [
        "import numpy as np\n",
        "from scipy import stats\n",
        "import statistics\n",
        "# problem statement 1\n",
        "a =[6, 7, 5, 7, 7, 8, 7, 6, 9, 7, 4, 10, 6, 8, 8, 9, 5, 6, 4, 8]\n",
        "mean = np.mean(a)\n",
        "median = np.median(a)\n",
        "mode = stats.mode(a)\n",
        "std_dev = statistics.stdev(a)\n",
        "print('mean is ',mean)\n",
        "print('median is ',median)\n",
        "print('mode is ',mode)\n",
        "print('Standard Deviation is', std_dev)"
      ],
      "execution_count": 2,
      "outputs": [
        {
          "output_type": "stream",
          "text": [
            "mean is  6.85\n",
            "median is  7.0\n",
            "mode is  ModeResult(mode=array([7]), count=array([5]))\n",
            "Standard Deviation is 1.6311119875071343\n"
          ],
          "name": "stdout"
        }
      ]
    },
    {
      "cell_type": "markdown",
      "metadata": {
        "id": "VmgfB-WTDm5r",
        "colab_type": "text"
      },
      "source": [
        "# Problem Statement 2:"
      ]
    },
    {
      "cell_type": "markdown",
      "metadata": {
        "id": "5t0sAGJwDm5t",
        "colab_type": "text"
      },
      "source": [
        "The number of calls from motorists per day for roadside service was recorded for a\n",
        "particular month:\n",
        "    \n",
        "28, 122, 217, 130, 120, 86, 80, 90, 140, 120, 70, 40, 145, 113, 90, 68, 174, 194, 170,\n",
        "100, 75, 104, 97, 75,\n",
        "123, 100, 75, 104, 97, 75, 123, 100, 89, 120, 109"
      ]
    },
    {
      "cell_type": "markdown",
      "metadata": {
        "id": "a3aqV96IDm5u",
        "colab_type": "text"
      },
      "source": [
        "$$\\text{Formula for mean is} \\sum_{i=1}^{n} i\n",
        "\\\\\n",
        "\\text{Formula for median is:} \\frac{n+1}{2}^{th} \\text{ term if number of observation is }\\textbf{odd}\\text{ and}\\\\\n",
        "                              \\frac{1}{2}(\\frac{n}{2}^{th}+\\frac{n+1}{2}^{th})\\text{ term if number of observation is} \\textbf{even.}\n",
        "\\\\\n",
        "\\text{A number that appears most often is the}\\textbf{ mode.}\n",
        "\\\\\n",
        "\\text{Formula for standard deviation is }=\\sqrt{\\frac{1}{N}\\sum_{i=1}^N(x_i-\\bar{x})^2}\n",
        "\\\\\n",
        "\\text{Formula for mean here is} \\sum_{i=1}^{20} i\n",
        "\\text{ where i is in the dataset}\n",
        "\\\\\n",
        "\\text{{28, 122, 217, 130, 120, 86, 80, 90, 140, 120, 70, 40, 145, \n",
        "113, 90, 68, 174, 194, 170, 100, 75, 104, 97, 75, 123, 100, 75, 104, 97, 75, 123, 100, 89, 120, 109}}$$"
      ]
    },
    {
      "cell_type": "code",
      "metadata": {
        "id": "xqC_G54jDm5x",
        "colab_type": "code",
        "colab": {
          "base_uri": "https://localhost:8080/",
          "height": 85
        },
        "outputId": "8719da6d-1d96-49b8-b622-f80dd0f548f0"
      },
      "source": [
        "# problem statement 2\n",
        "b = [28, 122, 217, 130, 120, 86, 80, 90, 140, 120, 70, 40, 145, 113, 90, 68, 174, 194, 170,\n",
        "100, 75, 104, 97, 75,\n",
        "123, 100, 75, 104, 97, 75, 123, 100, 89, 120, 109]\n",
        "mean = np.mean(b)\n",
        "median = np.median(b)\n",
        "mode = stats.mode(b)\n",
        "std_dev = statistics.stdev(a)\n",
        "print('mean is ',mean)\n",
        "print('median is ',median)\n",
        "print('mode is ',mode)\n",
        "print('Standard Deviation is', std_dev)"
      ],
      "execution_count": 3,
      "outputs": [
        {
          "output_type": "stream",
          "text": [
            "mean is  107.51428571428572\n",
            "median is  100.0\n",
            "mode is  ModeResult(mode=array([75]), count=array([4]))\n",
            "Standard Deviation is 1.6311119875071343\n"
          ],
          "name": "stdout"
        }
      ]
    },
    {
      "cell_type": "markdown",
      "metadata": {
        "id": "CSNZhQivDm54",
        "colab_type": "text"
      },
      "source": [
        "# Problem Statement 3:"
      ]
    },
    {
      "cell_type": "markdown",
      "metadata": {
        "id": "wdYd0T_KDm55",
        "colab_type": "text"
      },
      "source": [
        "The number of times I go to the gym in weekdays, are given below along with its\n",
        "associated probability:\n",
        "    \n",
        "x = 0, 1, 2, 3, 4, 5\n",
        "\n",
        "f(x) = 0.09, 0.15, 0.40, 0.25, 0.10, 0.01\n",
        "\n",
        "Calculate the mean no. of workouts in a week. Also evaluate the variance involved in\n",
        "it."
      ]
    },
    {
      "cell_type": "markdown",
      "metadata": {
        "id": "83gOHl6HDm57",
        "colab_type": "text"
      },
      "source": [
        "$$\\text{Formula for mean is:} \\sum_{i=1}^{n} x_{i}*f(x_{i})\n",
        "\\\\\n",
        "\\text{Formula for variance is:} \\sum_{i=1}^{n} (Mean - x_{i})^{2}*f(x_{i})\n",
        "\\\\\n",
        "\\text{Formula for standard deviation:} \\sqrt{Variance}$$"
      ]
    },
    {
      "cell_type": "code",
      "metadata": {
        "id": "GI_6AryXDm59",
        "colab_type": "code",
        "colab": {
          "base_uri": "https://localhost:8080/",
          "height": 51
        },
        "outputId": "511779e5-50cf-4ae5-912d-82ae67857470"
      },
      "source": [
        "# problem statement 3\n",
        "x = [0, 1, 2, 3, 4, 5]\n",
        "fx = [0.09, 0.15, 0.40, 0.25, 0.10, 0.01]\n",
        "mean = sum([float(x[i])*fx[i] for i in range(len(x))])\n",
        "variance = (sum([float(x[i]**2)*fx[i] for i in range(len(x))])-mean)\n",
        "print('mean is',mean)\n",
        "print('Variance is', variance)"
      ],
      "execution_count": 4,
      "outputs": [
        {
          "output_type": "stream",
          "text": [
            "mean is 2.15\n",
            "Variance is 3.6999999999999997\n"
          ],
          "name": "stdout"
        }
      ]
    },
    {
      "cell_type": "markdown",
      "metadata": {
        "id": "E2InkDbdDm6G",
        "colab_type": "text"
      },
      "source": [
        "# Problem Statement 4:"
      ]
    },
    {
      "cell_type": "markdown",
      "metadata": {
        "id": "-9ZXMg99Dm6H",
        "colab_type": "text"
      },
      "source": [
        "Let the continuous random variable D denote the diameter of the hole drilled in an\n",
        "aluminum sheet. The target diameter to be achieved is 12.5mm. Random\n",
        "disturbances in the process often result in inaccuracy.Historical data shows that the distribution of D can be modelled by the PDF (d) =\n",
        "20e−20(d−12.5), d ≥ 12.5. If a part with diameter > 12.6 mm needs to be scrapped,what is the proportion of those parts? What is the CDF when the diameter is of 11\n",
        "mm? What is your conclusion regarding the proportion of scraps?"
      ]
    },
    {
      "cell_type": "markdown",
      "metadata": {
        "id": "BO9TpOlZDm6I",
        "colab_type": "text"
      },
      "source": [
        "$$\\text{Proportion that a part with diameter > 12.5mm needs to be scraped is:}\n",
        "\\\\\n",
        "\\begin{equation}\n",
        "P(X>12.6)= \\int_{12.6}^{\\infty} 20e^{-20(x-12.5)} dx = \\left[-e^{-20(x-12.5)}\\right]_{12.6}^{\\infty} = 0.135\n",
        "\\end{equation}$$\n",
        "\n",
        "\n",
        "$$\\text{CDF when diameter is 11mm is 0 since the PDF function is only applicable when d>=12.5 .}\n",
        "\\\\\n",
        "\\text{For proportion of scraps: P(12.5 < X < x) that is proportion that a particular diameter x lies between X ans 12.5}\n",
        "\\\\\n",
        "\\text{F(x) = 0 for x < 12.5}\n",
        "$$\n",
        "\n",
        "$$\\begin{equation} F(x)= \\int_{12.5}^x 20e^{-20(u-12.5)} du = 1 - e^{-20(x-12.5)} \\text{for x>= 12.5} \\end{equation}$$\n",
        "\n",
        "\\begin{equation}\n",
        "  F(x)=\\begin{cases}\n",
        "    0, & \\text{if $x<12.5$}.\\\\\n",
        "    1-e^{-20(x-12.5)}, & \\text{for x>=12.5}.\n",
        "  \\end{cases} \n",
        "  \\\\\n",
        "  \\text{where F(x) is P(12.5 < X < x)}\n",
        "\\end{equation}\n",
        "\n",
        "<h3>Conclusion </h3>\n",
        "<p>For any value of diameter less than 12.5 mm, the proportion of scraps is zero. For any value above 12.5 mm the proportion of scraps follow the equation: </p> $$1-e^{-20(x-12.5)}$$"
      ]
    },
    {
      "cell_type": "markdown",
      "metadata": {
        "id": "pu0DENs9Dm6J",
        "colab_type": "text"
      },
      "source": [
        "# Problem Statement 5:"
      ]
    },
    {
      "cell_type": "markdown",
      "metadata": {
        "id": "8Mfeg-IzDm6L",
        "colab_type": "text"
      },
      "source": [
        "A company manufactures LED bulbs with a faulty rate of 30%. If I randomly select 6\n",
        "chosen LEDs, what is the probability of having 2 faulty LEDs in my sample?\n",
        "Calculate the average value of this process. Also evaluate the standard deviation\n",
        "associated with it."
      ]
    },
    {
      "cell_type": "markdown",
      "metadata": {
        "id": "hhxCA7INDm6M",
        "colab_type": "text"
      },
      "source": [
        "$$\\text{Let x be the faulty LEDs which is 2. Here n is 6 and p is 0.3(success i.e. faulty).}\n",
        "\\text{The probability that 2 will be faulty is:}$$\n",
        "$$\\begin{equation}\n",
        "P(X) = {n \\choose x}{p^x}{q^{n-x}} = {6 \\choose 2}{(0.3)^2}{(0.7)^{6-2}}\n",
        "\\\\\n",
        "=15*0.09*0.2401 = 0.3241\n",
        "\\end{equation}$$"
      ]
    },
    {
      "cell_type": "markdown",
      "metadata": {
        "id": "PE3BWJc0Dm6O",
        "colab_type": "text"
      },
      "source": [
        "$$\\text{Standard Deviation formula for binomial distribution is: }\\sqrt{n*p*(1-p)}$$"
      ]
    },
    {
      "cell_type": "code",
      "metadata": {
        "id": "jd952tADDm6P",
        "colab_type": "code",
        "colab": {
          "base_uri": "https://localhost:8080/",
          "height": 68
        },
        "outputId": "fbfebcf3-cc59-4107-ef48-746935f5ed83"
      },
      "source": [
        "#problem statement 5\n",
        "from scipy.stats import binom\n",
        "add = sum(np.random.binomial(6, 0.3, 50000) == 2)/50000\n",
        "print(add)\n",
        "n = 6\n",
        "p = 0.3\n",
        "mean , var = binom.stats(n, p)\n",
        "std = var**0.5\n",
        "print('Mean is',mean)\n",
        "print('Standard deviation for this process is',std)"
      ],
      "execution_count": 5,
      "outputs": [
        {
          "output_type": "stream",
          "text": [
            "0.32598\n",
            "Mean is 1.7999999999999998\n",
            "Standard deviation for this process is 1.1224972160321822\n"
          ],
          "name": "stdout"
        }
      ]
    },
    {
      "cell_type": "markdown",
      "metadata": {
        "id": "dIZ9vsnODm6X",
        "colab_type": "text"
      },
      "source": [
        "# Problem Statement 6:"
      ]
    },
    {
      "cell_type": "markdown",
      "metadata": {
        "id": "qGeo6jZ3Dm6Y",
        "colab_type": "text"
      },
      "source": [
        "Gaurav and Barakha are both preparing for entrance exams. Gaurav attempts to\n",
        "solve 8 questions per day with a correction rate of 75%, while Barakha averages\n",
        "around 12 questions per day with a correction rate of 45%. What is the probability\n",
        "that each of them will solve 5 questions correctly? What happens in cases of 4 and 6\n",
        "correct solutions? What do you infer from it? What are the two main governing\n",
        "factors affecting their ability to solve questions correctly? Give a pictorial\n",
        "representation of the same to validate your answer."
      ]
    },
    {
      "cell_type": "markdown",
      "metadata": {
        "id": "EBraXEOXDm6a",
        "colab_type": "text"
      },
      "source": [
        "$$\\text{For Gaurav:}\n",
        "\\\\\n",
        "\\text{Let x be the number of questions to solve 5. Number of questions he solves(n) is 8. Probability(p) i.e. the correction rate is 0.75.}$$\n",
        "$$\\begin{equation}\n",
        "P(X) = {n \\choose x}{p^x}{q^{n-x}} = {8 \\choose 5}{(0.75)^5}{(0.25)^{8-5}}\n",
        "\\\\\n",
        "=56*0.2373*0.015625 = 0.2076\n",
        "\\end{equation}$$"
      ]
    },
    {
      "cell_type": "markdown",
      "metadata": {
        "id": "bDTyryk2Dm6b",
        "colab_type": "text"
      },
      "source": [
        "$$\\text{For Barkha:}\n",
        "\\\\\n",
        "\\text{Let x be the number of questions to solve 5. Number of questions he solves(n) is 12. Probability(p) i.e. the correction rate is 0.45.}$$\n",
        "$$\\begin{equation}\n",
        "P(X) = {n \\choose x}{p^x}{q^{n-x}} = {12 \\choose 5}{(0.45)^5}{(0.55)^{12-5}}\n",
        "\\\\\n",
        "=792*0.0185*0.015 = 0.223\n",
        "\\end{equation}$$"
      ]
    },
    {
      "cell_type": "code",
      "metadata": {
        "id": "y93al5r2Dm6c",
        "colab_type": "code",
        "colab": {
          "base_uri": "https://localhost:8080/",
          "height": 513
        },
        "outputId": "47ab1cd1-6099-4ca2-e693-084539e167b6"
      },
      "source": [
        "from scipy.stats import binom \n",
        "import matplotlib.pyplot as plt \n",
        "# setting the values of n and p  \n",
        "n_Gaurav = 8\n",
        "p_Gaurav = 0.75\n",
        "n_Barkha = 12\n",
        "p_Barkha = 0.45\n",
        "# defining list of r values \n",
        "r_values_Gaurav = list(range(n_Gaurav + 1)) \n",
        "r_values_Barkha = list(range(n_Barkha + 1)) \n",
        "# list of pmf values \n",
        "dist_Gaurav = [binom.pmf(r, n_Gaurav, p_Gaurav) for r in r_values_Gaurav]\n",
        "dist_Barkha = [binom.pmf(r, n_Barkha, p_Barkha) for r in r_values_Barkha ]\n",
        "# plotting the graph  \n",
        "fig = plt.figure(figsize=(18,8))\n",
        "plt.subplot(1, 2, 1)\n",
        "plt.title('Gaurav\\'s probability distribution')\n",
        "plt.xlabel('Number of questions solved correctly')\n",
        "plt.ylabel('Probability of solving')\n",
        "plt.bar(r_values_Gaurav, dist_Gaurav)\n",
        "plt.subplot(1, 2, 2)\n",
        "plt.title('Barkha\\'s probability distribution')\n",
        "plt.xlabel('Number of questions solved correctly')\n",
        "plt.ylabel('Probability of solving')\n",
        "plt.bar(r_values_Barkha, dist_Barkha) \n",
        "plt.show()"
      ],
      "execution_count": 6,
      "outputs": [
        {
          "output_type": "display_data",
          "data": {
            "image/png": "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\n",
            "text/plain": [
              "<Figure size 1296x576 with 2 Axes>"
            ]
          },
          "metadata": {
            "tags": [],
            "needs_background": "light"
          }
        }
      ]
    },
    {
      "cell_type": "code",
      "metadata": {
        "id": "riRx9lzEDm6j",
        "colab_type": "code",
        "colab": {
          "base_uri": "https://localhost:8080/",
          "height": 85
        },
        "outputId": "1835b71e-403a-43c0-ab5e-2ea8c54de552"
      },
      "source": [
        "print('Probability to solve',r_values_Barkha[4],'correctly for Barkha is', dist_Barkha[4])\n",
        "print('Probability to solve',r_values_Gaurav[4],'correctly for Gaurav is', dist_Gaurav[4])\n",
        "print('Probability to solve',r_values_Barkha[6],'correctly for Barkha is', dist_Barkha[6])\n",
        "print('Probability to solve',r_values_Gaurav[6],'correctly for Gaurav is', dist_Gaurav[6])"
      ],
      "execution_count": 7,
      "outputs": [
        {
          "output_type": "stream",
          "text": [
            "Probability to solve 4 correctly for Barkha is 0.1699639321360581\n",
            "Probability to solve 4 correctly for Gaurav is 0.08651733398437506\n",
            "Probability to solve 6 correctly for Barkha is 0.21238468214026432\n",
            "Probability to solve 6 correctly for Gaurav is 0.31146240234375017\n"
          ],
          "name": "stdout"
        }
      ]
    },
    {
      "cell_type": "markdown",
      "metadata": {
        "id": "LWvzfw12Dm6p",
        "colab_type": "text"
      },
      "source": [
        "<p> The two main factors affecting the ability to solve questions correctly are:</p>\n",
        "<li>Correction rate</li>\n",
        "<li>Number of questions solved per day</li>\n",
        "\n",
        "<p>As the correction rate increases the chances of the distribution to be left skewed increases. Since Barkha's correction rate is close to 0.5 so highest probability of solving questions is found at around 50% of the total number of questions.</p>\n",
        "<p>Increasing the number of questions solved daily reduces skewness as well.As the number of questions increases the distribution skewness decreases</p>  "
      ]
    },
    {
      "cell_type": "markdown",
      "metadata": {
        "id": "EcCK_gm5Dm6q",
        "colab_type": "text"
      },
      "source": [
        "# Problem Statement 7:"
      ]
    },
    {
      "cell_type": "markdown",
      "metadata": {
        "id": "UDzEfIi5Dm6s",
        "colab_type": "text"
      },
      "source": [
        "Customers arrive at a rate of 72 per hour to my shop. What is the probability of k\n",
        "customers arriving in 4 minutes? a) 5 customers, b) not more than 3 customers, c)\n",
        "more than 3 customers. Give a pictorial representation of the same to validate your\n",
        "answer."
      ]
    },
    {
      "cell_type": "markdown",
      "metadata": {
        "id": "MnN9lHTlDm6t",
        "colab_type": "text"
      },
      "source": [
        "$$\\text{Formula for poisson's distribution is:}\n",
        "\\begin{equation}\n",
        "P(x) = \\frac{e^{-\\mu}*{\\mu}^{x}}{x!}\n",
        "\\end{equation}$$"
      ]
    },
    {
      "cell_type": "markdown",
      "metadata": {
        "id": "8yMWksmgDm6u",
        "colab_type": "text"
      },
      "source": [
        "a\\) $$\\text{Per four minutes the average number of customers is (72/60)*4 which is 4.8.\n",
        "So } \\mu \\text{ is 4.8.}\n",
        "\\\\\n",
        "\\text{We need to find the probability for 5 customers in 4 minutes. So x is 5. }$$\n",
        "$$\\text{Substituting the values to formula we get:}\n",
        "\\begin{equation}\n",
        "P(x) = \\frac{e^{-4.8}{4.8}^5}{5!} = \\frac{0.00823*2548.04}{120} = 0.175\n",
        "\\end{equation}$$"
      ]
    },
    {
      "cell_type": "markdown",
      "metadata": {
        "id": "N7oJwRwHDm6x",
        "colab_type": "text"
      },
      "source": [
        "b\\) $$\\text{Per four minutes the average number of customers is (72/60)*4 which is 4.8.\n",
        "So } \\mu \\text{ is 4.8.}\n",
        "\\\\\n",
        "\\text{We need to find the probability for not more than 3 customers in 4 minutes. So x is 0, 1, 2, 3. }$$\n",
        "$$\\text{Substituting the values to formula we get:}\n",
        "\\begin{equation}\n",
        "P(x_{0})+P(x_{1})+P(x_{2})+P(x_{3}) \n",
        "= \\frac{e^{-4.8}{4.8}^0}{0!}+ \\frac{e^{-4.8}{4.8}^1}{1!}+\\frac{e^{-4.8}{4.8}^2}{2!}+\\frac{e^{-4.8}{4.8}^3}{3!} =\\frac{0.00823*1}{1}+\\frac{0.00823*4.8}{1}+\\frac{0.00823*23.04}{2}+\\frac{0.00823*110.59}{6}\n",
        "= 0.00823+0.0395+0.095+0.152\n",
        "= 0.2944\n",
        "\\end{equation}$$"
      ]
    },
    {
      "cell_type": "markdown",
      "metadata": {
        "id": "1JZMMCbxDm6z",
        "colab_type": "text"
      },
      "source": [
        "c\\) $$\\text{More than 3 customers is:}\n",
        "\\begin{equation}:\n",
        "1 - P(x_{0})+P(x_{1})+P(x_{2})+P(x_{3}) = 1 - 0.2944 = 0.706\n",
        "\\end{equation}$$"
      ]
    },
    {
      "cell_type": "code",
      "metadata": {
        "id": "LvD4JTYkDm60",
        "colab_type": "code",
        "colab": {
          "base_uri": "https://localhost:8080/",
          "height": 295
        },
        "outputId": "8ab6e572-8bd6-4112-95b9-c0f4188a254b"
      },
      "source": [
        "from scipy.stats import poisson\n",
        "import seaborn as sb\n",
        "data_binom = poisson.rvs(mu=4.8, size=200)\n",
        "\n",
        "ax = sb.distplot(data_binom)\n",
        "ax.set(xlabel='Customers per 4 minutes', ylabel='Frequency')\n",
        "plt.title('Poisson distribution')\n",
        "plt.show()"
      ],
      "execution_count": 8,
      "outputs": [
        {
          "output_type": "display_data",
          "data": {
            "image/png": "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\n",
            "text/plain": [
              "<Figure size 432x288 with 1 Axes>"
            ]
          },
          "metadata": {
            "tags": [],
            "needs_background": "light"
          }
        }
      ]
    },
    {
      "cell_type": "code",
      "metadata": {
        "id": "aF-kzsaYDm66",
        "colab_type": "code",
        "colab": {
          "base_uri": "https://localhost:8080/",
          "height": 315
        },
        "outputId": "2a3893d1-63db-4164-c9d6-b950cd3d8f9d"
      },
      "source": [
        "import numpy as np\n",
        "x = np.arange(0,25)\n",
        "prob = poisson.cdf(x, 4.8)\n",
        "y = prob[3]\n",
        "print('Probability of not more than 3 customers is',round(y,3))\n",
        "print('Probability of more than 3 customers is',round((1 - y),3))\n",
        "plt.plot(prob)\n",
        "plt.plot((3,3),(0,1))\n",
        "plt.scatter(3,prob[3])\n",
        "plt.text(3,prob[3],'({}, {})'.format(3, round(prob[3],3)))\n",
        "plt.title('CDF of poisson distribution')\n",
        "plt.show()"
      ],
      "execution_count": 9,
      "outputs": [
        {
          "output_type": "stream",
          "text": [
            "Probability of not more than 3 customers is 0.294\n",
            "Probability of more than 3 customers is 0.706\n"
          ],
          "name": "stdout"
        },
        {
          "output_type": "display_data",
          "data": {
            "image/png": "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\n",
            "text/plain": [
              "<Figure size 432x288 with 1 Axes>"
            ]
          },
          "metadata": {
            "tags": [],
            "needs_background": "light"
          }
        }
      ]
    },
    {
      "cell_type": "markdown",
      "metadata": {
        "id": "2ctRgk8QDm7B",
        "colab_type": "text"
      },
      "source": [
        "# Problem Statement 8:"
      ]
    },
    {
      "cell_type": "markdown",
      "metadata": {
        "id": "6AddFcf-Dm7C",
        "colab_type": "text"
      },
      "source": [
        "I work as a data analyst in Aeon Learning Pvt. Ltd. After analyzing data, I make\n",
        "reports, where I have the efficiency of entering 77 words per minute with 6 errors per\n",
        "hour. What is the probability that I will commit 2 errors in a 455-word financial report?\n",
        "What happens when the no. of words increases/decreases (in case of 1000 words,\n",
        "255 words)?\n",
        "How is the λ affected?\n",
        "How does it influence the PMF?\n",
        "Give a pictorial representation of the same to validate your answer."
      ]
    },
    {
      "cell_type": "markdown",
      "metadata": {
        "id": "A7V4AfdZDm7D",
        "colab_type": "text"
      },
      "source": [
        "$$\\text{Formula for poisson's distribution is:}\n",
        "\\begin{equation}\n",
        "P(x) = \\frac{e^{-\\lambda}{\\lambda}^x}{x!}\n",
        "\\end{equation}$$\n",
        "\n",
        "$$\\text{77 words per minute has 6 errors per hour that is 0.1 errorr per minute. }\n",
        "\\\\\n",
        "\\text{So a 455 word report will have an average of 0.59 errors. So }{\\lambda} \n",
        "\\text{ is 0.59. We need probability of 2 errors. Hence x is 2.}\n",
        "$$\n",
        "$$\\text{Substituting the values to formula we get:}\n",
        "\\begin{equation}\n",
        "P(x) = \\frac{e^{-0.59}{0.59}^2}{2!} = \\frac{0.5543*0.3481}{2} = 0.0965\n",
        "\\end{equation}$$\n",
        "\n",
        "$$\\text{77 words per minute has 6 errors per hour that is 0.1 errorr per minute. }\n",
        "\\\\\n",
        "\\text{So a 1000 word report will have an average of 1.299 errors. So }{\\lambda} \n",
        "\\text{ is 1.299. We need probability of 2 errors. Hence x is 2.}\n",
        "$$\n",
        "$$\\text{Substituting the values to formula we get:}\n",
        "\\begin{equation}\n",
        "P(x) = \\frac{e^{-1.299}{1.299}^2}{2!} = \\frac{0.2728*1.6874}{2} = 0.23\n",
        "\\end{equation}$$\n",
        "\n",
        "$$\\text{77 words per minute has 6 errors per hour that is 0.1 errorr per minute. }\n",
        "\\\\\n",
        "\\text{So a 255 word report will have an average of 0.33 errors. So }{\\lambda} \n",
        "\\text{ is 0.33. We need probability of 2 errors. Hence x is 2.}\n",
        "$$\n",
        "$$\\text{Substituting the values to formula we get:}\n",
        "\\begin{equation}\n",
        "P(x) = \\frac{e^{-0.33}{0.33}^2}{2!} = \\frac{0.7189*0.1089}{2} = 0.04\n",
        "\\end{equation}$$"
      ]
    },
    {
      "cell_type": "markdown",
      "metadata": {
        "id": "DDjEWT_nDm7F",
        "colab_type": "text"
      },
      "source": [
        "$$\\text{As the number of words in report increase } {\\lambda} \\text{ that is the expected rate of errors increase.}$$"
      ]
    },
    {
      "cell_type": "code",
      "metadata": {
        "id": "MjHOOn2dDm7G",
        "colab_type": "code",
        "colab": {
          "base_uri": "https://localhost:8080/",
          "height": 499
        },
        "outputId": "7cc383ae-c22b-45ae-aaf1-29f3733fb18b"
      },
      "source": [
        "fig = plt.figure(figsize=(18, 8))\n",
        "x = np.arange(0,10)\n",
        "mu_1 = 0.59\n",
        "mu_2 = 1.299\n",
        "mu_3 = 0.33\n",
        "plt.subplot(1,2,1)\n",
        "plt.plot(x, poisson.pmf(x, mu_1), 'b-', label='λ: 0.59')\n",
        "plt.plot(x, poisson.pmf(x, mu_2), 'g-', label='λ: 1.299')\n",
        "plt.plot(x, poisson.pmf(x, mu_3), 'r-', label='λ: 0.33')\n",
        "plt.legend()\n",
        "plt.title('PDF for different lambda')\n",
        "plt.subplot(1, 2, 2)\n",
        "x = np.arange(0,10)\n",
        "mu_1 = 0.59\n",
        "mu_2 = 1.299\n",
        "mu_3 = 0.33\n",
        "plt.plot(x, poisson.cdf(x, mu_1), 'b-',label='λ: 0.59')\n",
        "plt.plot(x, poisson.cdf(x, mu_2), 'g-', label='λ: 1.299')\n",
        "plt.plot(x, poisson.cdf(x, mu_3), 'r-', label='λ: 0.33')\n",
        "plt.legend()\n",
        "plt.title('CDF for different lambda')\n",
        "plt.show()"
      ],
      "execution_count": 10,
      "outputs": [
        {
          "output_type": "display_data",
          "data": {
            "image/png": "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\n",
            "text/plain": [
              "<Figure size 1296x576 with 2 Axes>"
            ]
          },
          "metadata": {
            "tags": [],
            "needs_background": "light"
          }
        }
      ]
    },
    {
      "cell_type": "markdown",
      "metadata": {
        "collapsed": true,
        "id": "VhKiEDIlDm7M",
        "colab_type": "text"
      },
      "source": [
        "On changing lambda the pmf becomes more spread with decreasing peak"
      ]
    },
    {
      "cell_type": "markdown",
      "metadata": {
        "id": "_DrKIjTzDm7N",
        "colab_type": "text"
      },
      "source": [
        "# Problem Statement 9:"
      ]
    },
    {
      "cell_type": "markdown",
      "metadata": {
        "id": "aMVFyUZsDm7O",
        "colab_type": "text"
      },
      "source": [
        "Let the continuous random variable D denote the diameter of the hole drilled in an\n",
        "aluminum sheet. The target diameter to be achieved is 12.5mm. Random\n",
        "disturbances in the process often result in inaccuracy.\n",
        "Historical data shows that the distribution of D can be modelled by the PDF, f(d) =\n",
        "20e−20(d−12.5), d ≥ 12.5. If a part with diameter > 12.6 mm needs to be scrapped,\n",
        "what is the proportion of those parts? What is the CDF when the diameter is of 11\n",
        "mm?\n",
        "What is the conclusion of this experiment?"
      ]
    },
    {
      "cell_type": "markdown",
      "metadata": {
        "id": "fX0pWedaDm7Q",
        "colab_type": "text"
      },
      "source": [
        "$$\\text{Proportion that a part with diameter > 12.5mm needs to be scraped is:}\n",
        "\\\\\n",
        "\\begin{equation}\n",
        "P(X>12.6)= \\int_{12.6}^{\\infty} 20e^{-20(x-12.5)} dx = \\left[-e^{-20(x-12.5)}\\right]_{12.6}^{\\infty} = 0.135\n",
        "\\end{equation}$$\n",
        "\n",
        "\n",
        "$$\\text{CDF when diameter is 11mm is 0 since the PDF function is only applicable when d>=12.5 .}\n",
        "\\\\\n",
        "\\text{For proportion of scraps: P(12.5 < X < x) that is proportion that a particular diameter x lies between X ans 12.5}\n",
        "\\\\\n",
        "\\text{F(x) = 0 for x < 12.5}\n",
        "$$\n",
        "\n",
        "$$\\begin{equation} F(x)= \\int_{12.5}^x 20e^{-20(u-12.5)} du = 1 - e^{-20(x-12.5)} \\text{for x>= 12.5} \\end{equation}$$\n",
        "\n",
        "\\begin{equation}\n",
        "  F(x)=\\begin{cases}\n",
        "    0, & \\text{if $x<12.5$}.\\\\\n",
        "    1-e^{-20(x-12.5)}, & \\text{for x>=12.5}.\n",
        "  \\end{cases} \n",
        "  \\\\\n",
        "  \\text{where F(x) is P(12.5 < X < x)}\n",
        "\\end{equation}\n",
        "<h3>Conclusion </h3>\n",
        "<p>For any value of diameter less than 12.5 mm, the proportion of scraps is zero. For any value above 12.5 mm the proportion of scraps follow the equation: </p> $$1-e^{-20(x-12.5)}$$"
      ]
    },
    {
      "cell_type": "markdown",
      "metadata": {
        "collapsed": true,
        "id": "M14kDF4UDm7R",
        "colab_type": "text"
      },
      "source": [
        "# Problem Statement 10:"
      ]
    },
    {
      "cell_type": "markdown",
      "metadata": {
        "id": "Ntt88h2CDm7S",
        "colab_type": "text"
      },
      "source": [
        "Please compute the following:\n",
        "a) P(Z > 1.26), . P(Z < −0.86), P(Z > −1.37), P(−1.25 < Z < 0.37), . P(Z ≤ −4.6)\n",
        "b) Find the value z such that P(Z > z) = 0.05\n",
        "c) Find the value of z such that P(−z < Z < z) = 0.99"
      ]
    },
    {
      "cell_type": "markdown",
      "metadata": {
        "id": "p4iBZuR1Dm7T",
        "colab_type": "text"
      },
      "source": [
        "Using standard normal distriution tables to find the values,\n",
        "\n",
        "a\\) $$\n",
        "\\begin{equation}\n",
        "P(Z > 1.26) = 1 - P(Z < 1.26) = 1 - 0.896 = 0.104\n",
        "\\\\\n",
        "P(Z < -0.86) = 0.195\n",
        "\\\\\n",
        "P(Z > -1.37) =1 - P(Z < -1.37) = 1 - 0.085 = 0.915\n",
        "\\\\\n",
        "P(-1.25 < Z < 0.37) = P(Z < 0.37) - P(Z < -1.25) = 0.644 - 0.106 = 0.538\n",
        "\\\\\n",
        "P(Z <= -4.6) = 0\n",
        "\\end{equation}$$\n",
        "\n",
        "b\\)$$\n",
        "\\begin{equation}\n",
        "P(Z > z) = 0.05\n",
        "\\\\\n",
        "P(Z < z) = 1-0.05 = 0.95\n",
        "\\implies z = 1.64\n",
        "\\end{equation}$$\n",
        "\n",
        "c\\) $$\\begin{equation}P(-z < Z < z) = 0.99\n",
        "    \\\\\n",
        "    P(Z < z) - P(Z < -z) = 0.99\n",
        "    \\\\\n",
        "    \\text{ Total probability is 1}\n",
        "    \\\\\n",
        "    \\text{So, } 1 - 0.99 = 0.01\n",
        "    \\\\\n",
        "    0.01/2 = 0.005\n",
        "    \\\\\n",
        "    P(Z < z)= 0.005\n",
        "    \\implies z = -2.58\n",
        "    \\text{So, }\n",
        "    \\\\\n",
        "    -2.58 < Z < 2.58\\end{equation}$$"
      ]
    },
    {
      "cell_type": "markdown",
      "metadata": {
        "id": "oxtp58VoDm7U",
        "colab_type": "text"
      },
      "source": [
        "# Problem Statement 11:"
      ]
    },
    {
      "cell_type": "markdown",
      "metadata": {
        "id": "89CjjbieDm7X",
        "colab_type": "text"
      },
      "source": [
        "The current flow in a copper wire follow a normal distribution with a mean of 10 mA\n",
        "and a variance of 4 (mA)2.\n",
        "What is the probability that a current measurement will exceed 13 mA? What is the\n",
        "probability that a current measurement is between 9 and 11mA? Determine the\n",
        "current measurement which has a probability of 0.98."
      ]
    },
    {
      "cell_type": "markdown",
      "metadata": {
        "id": "hhQ6U2lmDm7Z",
        "colab_type": "text"
      },
      "source": [
        "$$\\text{Mean current is 10 mA}\n",
        "\\\\\n",
        "\\text{Variance is 4 mA}\n",
        "\\\\\n",
        "\\text{Standard deviation is $4^{\\frac{1}{2}}$ = $2$ mA}\n",
        "\\\\\n",
        "\\text{Z-score for 13 mA current is}  \\frac{13-10}{2} = 1.5\n",
        "\\\\ \\text{We need to find P(Z > z)= P(Z > 1.5) = 1 - P(Z < 1.5)}\n",
        "\\\\\n",
        "\\text{Using tables, we find that P(Z < 1.5) is 0.933. So probability of P(Z > 1.5) is 1 - 0.933 = 0.067.}\n",
        "\\\\\n",
        "\\text{Probability that a current exceeding 13 mA will flow is 0.33}$$\n",
        "\n",
        "$$\\text{Z-score for 9 mA current is}  \\frac{9-10}{2} = -0.5\n",
        "\\\\\n",
        "\\text{Z-score for 11 mA current is}  \\frac{11-10}{2} = 0.5\n",
        "\\\\ \n",
        "\\text{We need to find P(-0.5< Z < 0.5)}\n",
        "\\\\\n",
        "= P(Z < 0.5) - P(Z < -0.5) = 0.691 - 0.309 = 0.382 \\approx 0.38$$\n",
        "\n",
        "$$\\text{P(Z < z) = 0.98}\n",
        "\\\\\n",
        "\\text{We need to find z.}\n",
        "\\\\\n",
        "\\text{Using tables, z comes around 2.05}\n",
        "\\\\\n",
        "\\text{z =} \\frac{x-\\mu}{\\sigma} \n",
        "\\implies x = z*{\\sigma} + {\\mu}\n",
        "\\\\\n",
        "\\text{Z-Score is 2.05, x(current equivalent of z) is:}\n",
        "\\\\2.05*2 + 10 = 4.1 + 10 = 14.1 mA\n",
        "$$"
      ]
    },
    {
      "cell_type": "markdown",
      "metadata": {
        "id": "lo1qxU3aDm7a",
        "colab_type": "text"
      },
      "source": [
        "# Problem Statement 12:"
      ]
    },
    {
      "cell_type": "markdown",
      "metadata": {
        "id": "75CTXXFoDm7b",
        "colab_type": "text"
      },
      "source": [
        "The shaft in a piston has its diameter normally distributed with a mean of 0.2508 inch\n",
        "and a standard deviation of 0.0005 inch. The specifications of the shaft are 0.2500 ∓\n",
        "0.0015 inch. What proportion of shafts are in sync with the specifications? If the\n",
        "process is centered so that the mean is equal to the target value of 0.2500, what\n",
        "proportion of shafts conform to the new specifications? What is your conclusion from\n",
        "this experiment?"
      ]
    },
    {
      "cell_type": "markdown",
      "metadata": {
        "id": "137uuzpjDm7c",
        "colab_type": "text"
      },
      "source": [
        "$$\\text{Mean diameter is 0.2508 inch}\n",
        "\\\\\n",
        "\\text{Standard deviation is 0.0005 inch}\n",
        "\\\\\n",
        "\\text{Z-score for (0.2500 - 0.0015) 0.2485 is } \\frac{0.2485-0.2508}{0.0005} = -4.6\n",
        "\\\\\n",
        "\\text{Z-score for (0.2500 + 0.0015) 0.2515 is} \\frac{0.2515-0.2508}{0.0005} = 1.4\n",
        "\\\\\n",
        "\\text{We need to find P(-4.6< Z < 1.4)}\n",
        "\\\\\n",
        "= P(Z < 1.4) - P(Z < -4.6) =  0.92.\n",
        "\\\\\n",
        "\\text{So, 0.92 of the shafts are in sync}$$\n",
        "\n",
        "$$\\text{If mean is 0.2500 then, }\n",
        "\\text{Z-score for (0.2500 - 0.0015) 0.2485 is } \\frac{0.2485-0.2500}{0.0005} = -3\n",
        "\\\\\n",
        "\\text{Z-score for (0.2500 + 0.0015) 0.2515 is} \\frac{0.2515-0.2500}{0.0005} = 3\n",
        "\\\\\n",
        "\\text{We need to find P(-3< Z < 3)}\n",
        "\\\\\n",
        "= P(Z < 3) - P(Z < -3) = 0.9973.\n",
        "\\\\\n",
        "\\text{So, 0.997 of the shafts are in sync}\n",
        "$$\n",
        "<h3>Conclusion</h3>\n",
        "<p>So if we change the mean from 0.2508 to 0.2500 the proportion of shaft increases from 92% to 99.73% </p>"
      ]
    }
  ]
}
